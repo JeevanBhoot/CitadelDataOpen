{
 "cells": [
  {
   "cell_type": "markdown",
   "metadata": {},
   "source": [
    "### Initialise"
   ]
  },
  {
   "cell_type": "code",
   "execution_count": 1,
   "metadata": {},
   "outputs": [],
   "source": [
    "import os\n",
    "import joblib\n",
    "import numpy as np\n",
    "%matplotlib inline\n",
    "import matplotlib.pyplot as plt\n",
    "import sklearn\n",
    "import pandas as pd\n",
    "from sklearn.base import BaseEstimator, TransformerMixin\n",
    "from sklearn.pipeline import Pipeline\n",
    "from sklearn.impute import SimpleImputer\n",
    "from sklearn.preprocessing import OneHotEncoder\n",
    "from sklearn.ensemble import RandomForestClassifier\n",
    "from sklearn.model_selection import cross_val_score\n",
    "from sklearn.model_selection import RandomizedSearchCV\n",
    "from sklearn.pipeline import FeatureUnion\n",
    "from sklearn.preprocessing import OrdinalEncoder\n",
    "from sklearn.linear_model import LogisticRegression\n",
    "from sklearn.model_selection import GridSearchCV"
   ]
  },
  {
   "cell_type": "markdown",
   "metadata": {},
   "source": [
    "### Load data"
   ]
  },
  {
   "cell_type": "code",
   "execution_count": 2,
   "metadata": {},
   "outputs": [],
   "source": [
    "data_path = os.path.join('datasets', 'dataopen')\n",
    "\n",
    "def load_data(filename, path):\n",
    "    csv_path = os.path.join(path, filename)\n",
    "    return pd.read_csv(csv_path)\n",
    "\n",
    "census_2010 = load_data(\"Census2010.csv\", data_path)"
   ]
  },
  {
   "cell_type": "markdown",
   "metadata": {},
   "source": [
    "### Explore data"
   ]
  },
  {
   "cell_type": "code",
   "execution_count": 3,
   "metadata": {
    "scrolled": false
   },
   "outputs": [
    {
     "data": {
      "text/html": [
       "<div>\n",
       "<style scoped>\n",
       "    .dataframe tbody tr th:only-of-type {\n",
       "        vertical-align: middle;\n",
       "    }\n",
       "\n",
       "    .dataframe tbody tr th {\n",
       "        vertical-align: top;\n",
       "    }\n",
       "\n",
       "    .dataframe thead th {\n",
       "        text-align: right;\n",
       "    }\n",
       "</style>\n",
       "<table border=\"1\" class=\"dataframe\">\n",
       "  <thead>\n",
       "    <tr style=\"text-align: right;\">\n",
       "      <th></th>\n",
       "      <th>Unnamed: 0</th>\n",
       "      <th>geoid</th>\n",
       "      <th>year</th>\n",
       "      <th>NAME</th>\n",
       "      <th>B01001_001E</th>\n",
       "      <th>B19013_001E</th>\n",
       "      <th>B25077_001E</th>\n",
       "      <th>B03002_003E</th>\n",
       "      <th>B03002_004E</th>\n",
       "      <th>B02001_004E</th>\n",
       "      <th>B03002_006E</th>\n",
       "      <th>B03002_007E</th>\n",
       "      <th>B03002_008E</th>\n",
       "      <th>B03002_009E</th>\n",
       "      <th>B03002_012E</th>\n",
       "      <th>state</th>\n",
       "      <th>county</th>\n",
       "      <th>tract</th>\n",
       "    </tr>\n",
       "  </thead>\n",
       "  <tbody>\n",
       "    <tr>\n",
       "      <th>0</th>\n",
       "      <td>0</td>\n",
       "      <td>34003001000</td>\n",
       "      <td>2010</td>\n",
       "      <td>Census Tract 10, Bergen County, New Jersey</td>\n",
       "      <td>6489.0</td>\n",
       "      <td>131563.0</td>\n",
       "      <td>741400.0</td>\n",
       "      <td>5523.0</td>\n",
       "      <td>73.0</td>\n",
       "      <td>0.0</td>\n",
       "      <td>676.0</td>\n",
       "      <td>0.0</td>\n",
       "      <td>50.0</td>\n",
       "      <td>41.0</td>\n",
       "      <td>126.0</td>\n",
       "      <td>34</td>\n",
       "      <td>3</td>\n",
       "      <td>1000</td>\n",
       "    </tr>\n",
       "    <tr>\n",
       "      <th>1</th>\n",
       "      <td>1</td>\n",
       "      <td>34003002100</td>\n",
       "      <td>2010</td>\n",
       "      <td>Census Tract 21, Bergen County, New Jersey</td>\n",
       "      <td>1926.0</td>\n",
       "      <td>172054.0</td>\n",
       "      <td>1000001.0</td>\n",
       "      <td>1217.0</td>\n",
       "      <td>31.0</td>\n",
       "      <td>7.0</td>\n",
       "      <td>509.0</td>\n",
       "      <td>0.0</td>\n",
       "      <td>0.0</td>\n",
       "      <td>9.0</td>\n",
       "      <td>153.0</td>\n",
       "      <td>34</td>\n",
       "      <td>3</td>\n",
       "      <td>2100</td>\n",
       "    </tr>\n",
       "    <tr>\n",
       "      <th>2</th>\n",
       "      <td>2</td>\n",
       "      <td>34003002200</td>\n",
       "      <td>2010</td>\n",
       "      <td>Census Tract 22, Bergen County, New Jersey</td>\n",
       "      <td>5104.0</td>\n",
       "      <td>87270.0</td>\n",
       "      <td>530300.0</td>\n",
       "      <td>3518.0</td>\n",
       "      <td>13.0</td>\n",
       "      <td>0.0</td>\n",
       "      <td>1136.0</td>\n",
       "      <td>0.0</td>\n",
       "      <td>18.0</td>\n",
       "      <td>40.0</td>\n",
       "      <td>379.0</td>\n",
       "      <td>34</td>\n",
       "      <td>3</td>\n",
       "      <td>2200</td>\n",
       "    </tr>\n",
       "    <tr>\n",
       "      <th>3</th>\n",
       "      <td>3</td>\n",
       "      <td>34003002300</td>\n",
       "      <td>2010</td>\n",
       "      <td>Census Tract 23, Bergen County, New Jersey</td>\n",
       "      <td>5682.0</td>\n",
       "      <td>102132.0</td>\n",
       "      <td>720800.0</td>\n",
       "      <td>3690.0</td>\n",
       "      <td>95.0</td>\n",
       "      <td>0.0</td>\n",
       "      <td>1782.0</td>\n",
       "      <td>0.0</td>\n",
       "      <td>0.0</td>\n",
       "      <td>35.0</td>\n",
       "      <td>80.0</td>\n",
       "      <td>34</td>\n",
       "      <td>3</td>\n",
       "      <td>2300</td>\n",
       "    </tr>\n",
       "    <tr>\n",
       "      <th>4</th>\n",
       "      <td>4</td>\n",
       "      <td>34003003100</td>\n",
       "      <td>2010</td>\n",
       "      <td>Census Tract 31, Bergen County, New Jersey</td>\n",
       "      <td>5095.0</td>\n",
       "      <td>91106.0</td>\n",
       "      <td>367300.0</td>\n",
       "      <td>2152.0</td>\n",
       "      <td>346.0</td>\n",
       "      <td>0.0</td>\n",
       "      <td>1498.0</td>\n",
       "      <td>0.0</td>\n",
       "      <td>0.0</td>\n",
       "      <td>45.0</td>\n",
       "      <td>1054.0</td>\n",
       "      <td>34</td>\n",
       "      <td>3</td>\n",
       "      <td>3100</td>\n",
       "    </tr>\n",
       "  </tbody>\n",
       "</table>\n",
       "</div>"
      ],
      "text/plain": [
       "   Unnamed: 0        geoid  year                                        NAME  \\\n",
       "0           0  34003001000  2010  Census Tract 10, Bergen County, New Jersey   \n",
       "1           1  34003002100  2010  Census Tract 21, Bergen County, New Jersey   \n",
       "2           2  34003002200  2010  Census Tract 22, Bergen County, New Jersey   \n",
       "3           3  34003002300  2010  Census Tract 23, Bergen County, New Jersey   \n",
       "4           4  34003003100  2010  Census Tract 31, Bergen County, New Jersey   \n",
       "\n",
       "   B01001_001E  B19013_001E  B25077_001E  B03002_003E  B03002_004E  \\\n",
       "0       6489.0     131563.0     741400.0       5523.0         73.0   \n",
       "1       1926.0     172054.0    1000001.0       1217.0         31.0   \n",
       "2       5104.0      87270.0     530300.0       3518.0         13.0   \n",
       "3       5682.0     102132.0     720800.0       3690.0         95.0   \n",
       "4       5095.0      91106.0     367300.0       2152.0        346.0   \n",
       "\n",
       "   B02001_004E  B03002_006E  B03002_007E  B03002_008E  B03002_009E  \\\n",
       "0          0.0        676.0          0.0         50.0         41.0   \n",
       "1          7.0        509.0          0.0          0.0          9.0   \n",
       "2          0.0       1136.0          0.0         18.0         40.0   \n",
       "3          0.0       1782.0          0.0          0.0         35.0   \n",
       "4          0.0       1498.0          0.0          0.0         45.0   \n",
       "\n",
       "   B03002_012E  state  county  tract  \n",
       "0        126.0     34       3   1000  \n",
       "1        153.0     34       3   2100  \n",
       "2        379.0     34       3   2200  \n",
       "3         80.0     34       3   2300  \n",
       "4       1054.0     34       3   3100  "
      ]
     },
     "execution_count": 3,
     "metadata": {},
     "output_type": "execute_result"
    }
   ],
   "source": [
    "census_2010.head()"
   ]
  },
  {
   "cell_type": "code",
   "execution_count": 4,
   "metadata": {},
   "outputs": [
    {
     "name": "stdout",
     "output_type": "stream",
     "text": [
      "<class 'pandas.core.frame.DataFrame'>\n",
      "RangeIndex: 4701 entries, 0 to 4700\n",
      "Data columns (total 18 columns):\n",
      "Unnamed: 0     4701 non-null int64\n",
      "geoid          4701 non-null int64\n",
      "year           4701 non-null int64\n",
      "NAME           4701 non-null object\n",
      "B01001_001E    4701 non-null float64\n",
      "B19013_001E    4701 non-null float64\n",
      "B25077_001E    4701 non-null float64\n",
      "B03002_003E    4701 non-null float64\n",
      "B03002_004E    4701 non-null float64\n",
      "B02001_004E    4701 non-null float64\n",
      "B03002_006E    4701 non-null float64\n",
      "B03002_007E    4701 non-null float64\n",
      "B03002_008E    4701 non-null float64\n",
      "B03002_009E    4701 non-null float64\n",
      "B03002_012E    4701 non-null float64\n",
      "state          4701 non-null int64\n",
      "county         4701 non-null int64\n",
      "tract          4701 non-null int64\n",
      "dtypes: float64(11), int64(6), object(1)\n",
      "memory usage: 661.2+ KB\n"
     ]
    }
   ],
   "source": [
    "census_2010.info()"
   ]
  },
  {
   "cell_type": "markdown",
   "metadata": {},
   "source": [
    "No null objects, however upon exploring the data in Excel, negative values were found in some columns, and therefore require removal."
   ]
  },
  {
   "cell_type": "markdown",
   "metadata": {},
   "source": [
    "### Change heading names for clarity"
   ]
  },
  {
   "cell_type": "code",
   "execution_count": 5,
   "metadata": {},
   "outputs": [
    {
     "data": {
      "text/html": [
       "<div>\n",
       "<style scoped>\n",
       "    .dataframe tbody tr th:only-of-type {\n",
       "        vertical-align: middle;\n",
       "    }\n",
       "\n",
       "    .dataframe tbody tr th {\n",
       "        vertical-align: top;\n",
       "    }\n",
       "\n",
       "    .dataframe thead th {\n",
       "        text-align: right;\n",
       "    }\n",
       "</style>\n",
       "<table border=\"1\" class=\"dataframe\">\n",
       "  <thead>\n",
       "    <tr style=\"text-align: right;\">\n",
       "      <th></th>\n",
       "      <th>index</th>\n",
       "      <th>geoid</th>\n",
       "      <th>year</th>\n",
       "      <th>name</th>\n",
       "      <th>population</th>\n",
       "      <th>household_income</th>\n",
       "      <th>home_value</th>\n",
       "      <th>no_nonh_caucasians</th>\n",
       "      <th>no_nonh_blacks/aas</th>\n",
       "      <th>no_amerinds_alskns</th>\n",
       "      <th>no_nonh_asians</th>\n",
       "      <th>no_nonh_hawaii_pacific</th>\n",
       "      <th>no_nonh_others</th>\n",
       "      <th>no_nonh_multi</th>\n",
       "      <th>no_hisp_latin</th>\n",
       "      <th>state</th>\n",
       "      <th>county</th>\n",
       "      <th>tract</th>\n",
       "    </tr>\n",
       "  </thead>\n",
       "  <tbody>\n",
       "    <tr>\n",
       "      <th>0</th>\n",
       "      <td>0</td>\n",
       "      <td>34003001000</td>\n",
       "      <td>2010</td>\n",
       "      <td>Census Tract 10, Bergen County, New Jersey</td>\n",
       "      <td>6489.0</td>\n",
       "      <td>131563.0</td>\n",
       "      <td>741400.0</td>\n",
       "      <td>5523.0</td>\n",
       "      <td>73.0</td>\n",
       "      <td>0.0</td>\n",
       "      <td>676.0</td>\n",
       "      <td>0.0</td>\n",
       "      <td>50.0</td>\n",
       "      <td>41.0</td>\n",
       "      <td>126.0</td>\n",
       "      <td>34</td>\n",
       "      <td>3</td>\n",
       "      <td>1000</td>\n",
       "    </tr>\n",
       "    <tr>\n",
       "      <th>1</th>\n",
       "      <td>1</td>\n",
       "      <td>34003002100</td>\n",
       "      <td>2010</td>\n",
       "      <td>Census Tract 21, Bergen County, New Jersey</td>\n",
       "      <td>1926.0</td>\n",
       "      <td>172054.0</td>\n",
       "      <td>1000001.0</td>\n",
       "      <td>1217.0</td>\n",
       "      <td>31.0</td>\n",
       "      <td>7.0</td>\n",
       "      <td>509.0</td>\n",
       "      <td>0.0</td>\n",
       "      <td>0.0</td>\n",
       "      <td>9.0</td>\n",
       "      <td>153.0</td>\n",
       "      <td>34</td>\n",
       "      <td>3</td>\n",
       "      <td>2100</td>\n",
       "    </tr>\n",
       "    <tr>\n",
       "      <th>2</th>\n",
       "      <td>2</td>\n",
       "      <td>34003002200</td>\n",
       "      <td>2010</td>\n",
       "      <td>Census Tract 22, Bergen County, New Jersey</td>\n",
       "      <td>5104.0</td>\n",
       "      <td>87270.0</td>\n",
       "      <td>530300.0</td>\n",
       "      <td>3518.0</td>\n",
       "      <td>13.0</td>\n",
       "      <td>0.0</td>\n",
       "      <td>1136.0</td>\n",
       "      <td>0.0</td>\n",
       "      <td>18.0</td>\n",
       "      <td>40.0</td>\n",
       "      <td>379.0</td>\n",
       "      <td>34</td>\n",
       "      <td>3</td>\n",
       "      <td>2200</td>\n",
       "    </tr>\n",
       "    <tr>\n",
       "      <th>3</th>\n",
       "      <td>3</td>\n",
       "      <td>34003002300</td>\n",
       "      <td>2010</td>\n",
       "      <td>Census Tract 23, Bergen County, New Jersey</td>\n",
       "      <td>5682.0</td>\n",
       "      <td>102132.0</td>\n",
       "      <td>720800.0</td>\n",
       "      <td>3690.0</td>\n",
       "      <td>95.0</td>\n",
       "      <td>0.0</td>\n",
       "      <td>1782.0</td>\n",
       "      <td>0.0</td>\n",
       "      <td>0.0</td>\n",
       "      <td>35.0</td>\n",
       "      <td>80.0</td>\n",
       "      <td>34</td>\n",
       "      <td>3</td>\n",
       "      <td>2300</td>\n",
       "    </tr>\n",
       "    <tr>\n",
       "      <th>4</th>\n",
       "      <td>4</td>\n",
       "      <td>34003003100</td>\n",
       "      <td>2010</td>\n",
       "      <td>Census Tract 31, Bergen County, New Jersey</td>\n",
       "      <td>5095.0</td>\n",
       "      <td>91106.0</td>\n",
       "      <td>367300.0</td>\n",
       "      <td>2152.0</td>\n",
       "      <td>346.0</td>\n",
       "      <td>0.0</td>\n",
       "      <td>1498.0</td>\n",
       "      <td>0.0</td>\n",
       "      <td>0.0</td>\n",
       "      <td>45.0</td>\n",
       "      <td>1054.0</td>\n",
       "      <td>34</td>\n",
       "      <td>3</td>\n",
       "      <td>3100</td>\n",
       "    </tr>\n",
       "  </tbody>\n",
       "</table>\n",
       "</div>"
      ],
      "text/plain": [
       "   index        geoid  year                                        name  \\\n",
       "0      0  34003001000  2010  Census Tract 10, Bergen County, New Jersey   \n",
       "1      1  34003002100  2010  Census Tract 21, Bergen County, New Jersey   \n",
       "2      2  34003002200  2010  Census Tract 22, Bergen County, New Jersey   \n",
       "3      3  34003002300  2010  Census Tract 23, Bergen County, New Jersey   \n",
       "4      4  34003003100  2010  Census Tract 31, Bergen County, New Jersey   \n",
       "\n",
       "   population  household_income  home_value  no_nonh_caucasians  \\\n",
       "0      6489.0          131563.0    741400.0              5523.0   \n",
       "1      1926.0          172054.0   1000001.0              1217.0   \n",
       "2      5104.0           87270.0    530300.0              3518.0   \n",
       "3      5682.0          102132.0    720800.0              3690.0   \n",
       "4      5095.0           91106.0    367300.0              2152.0   \n",
       "\n",
       "   no_nonh_blacks/aas  no_amerinds_alskns  no_nonh_asians  \\\n",
       "0                73.0                 0.0           676.0   \n",
       "1                31.0                 7.0           509.0   \n",
       "2                13.0                 0.0          1136.0   \n",
       "3                95.0                 0.0          1782.0   \n",
       "4               346.0                 0.0          1498.0   \n",
       "\n",
       "   no_nonh_hawaii_pacific  no_nonh_others  no_nonh_multi  no_hisp_latin  \\\n",
       "0                     0.0            50.0           41.0          126.0   \n",
       "1                     0.0             0.0            9.0          153.0   \n",
       "2                     0.0            18.0           40.0          379.0   \n",
       "3                     0.0             0.0           35.0           80.0   \n",
       "4                     0.0             0.0           45.0         1054.0   \n",
       "\n",
       "   state  county  tract  \n",
       "0     34       3   1000  \n",
       "1     34       3   2100  \n",
       "2     34       3   2200  \n",
       "3     34       3   2300  \n",
       "4     34       3   3100  "
      ]
     },
     "execution_count": 5,
     "metadata": {},
     "output_type": "execute_result"
    }
   ],
   "source": [
    "census_2010.columns = ['index', 'geoid', 'year', 'name', 'population', 'household_income', 'home_value', \n",
    "                        'no_nonh_caucasians', 'no_nonh_blacks/aas', 'no_amerinds_alskns', 'no_nonh_asians',\n",
    "                        'no_nonh_hawaii_pacific', 'no_nonh_others', 'no_nonh_multi', 'no_hisp_latin', 'state', 'county', 'tract']\n",
    "census_2010.head()"
   ]
  },
  {
   "cell_type": "markdown",
   "metadata": {},
   "source": [
    "### Remove corrupted entries"
   ]
  },
  {
   "cell_type": "code",
   "execution_count": 6,
   "metadata": {},
   "outputs": [
    {
     "name": "stdout",
     "output_type": "stream",
     "text": [
      "<class 'pandas.core.frame.DataFrame'>\n",
      "Int64Index: 4498 entries, 0 to 4700\n",
      "Data columns (total 18 columns):\n",
      "index                     4498 non-null int64\n",
      "geoid                     4498 non-null int64\n",
      "year                      4498 non-null int64\n",
      "name                      4498 non-null object\n",
      "population                4498 non-null float64\n",
      "household_income          4498 non-null float64\n",
      "home_value                4498 non-null float64\n",
      "no_nonh_caucasians        4498 non-null float64\n",
      "no_nonh_blacks/aas        4498 non-null float64\n",
      "no_amerinds_alskns        4498 non-null float64\n",
      "no_nonh_asians            4498 non-null float64\n",
      "no_nonh_hawaii_pacific    4498 non-null float64\n",
      "no_nonh_others            4498 non-null float64\n",
      "no_nonh_multi             4498 non-null float64\n",
      "no_hisp_latin             4498 non-null float64\n",
      "state                     4498 non-null int64\n",
      "county                    4498 non-null int64\n",
      "tract                     4498 non-null int64\n",
      "dtypes: float64(11), int64(6), object(1)\n",
      "memory usage: 667.7+ KB\n"
     ]
    }
   ],
   "source": [
    "census_2010 = census_2010[census_2010['population'] > 0]\n",
    "census_2010 = census_2010[census_2010['household_income'] > 0]\n",
    "census_2010 = census_2010[census_2010['home_value'] > 0]\n",
    "census_2010.info()"
   ]
  },
  {
   "cell_type": "markdown",
   "metadata": {},
   "source": [
    "### Gentrification Eligibility"
   ]
  },
  {
   "cell_type": "markdown",
   "metadata": {},
   "source": [
    "Implementation of Governing Magazine's  test to check if a tract is eligible for gentrification:\n",
    "- Tract had a population of at least 500 residents and was located within a central city,\n",
    "- Tract's median household income was in the bottom 40th percentile of all tracts within the metropolitan statistical area,\n",
    "- Tract's median home value was in the bottom 40th percentile of all tracts within the metropolitan statistical area."
   ]
  },
  {
   "cell_type": "markdown",
   "metadata": {},
   "source": [
    "Create new column 'gentrify_elig', initialised with zeros."
   ]
  },
  {
   "cell_type": "code",
   "execution_count": 7,
   "metadata": {},
   "outputs": [
    {
     "data": {
      "text/html": [
       "<div>\n",
       "<style scoped>\n",
       "    .dataframe tbody tr th:only-of-type {\n",
       "        vertical-align: middle;\n",
       "    }\n",
       "\n",
       "    .dataframe tbody tr th {\n",
       "        vertical-align: top;\n",
       "    }\n",
       "\n",
       "    .dataframe thead th {\n",
       "        text-align: right;\n",
       "    }\n",
       "</style>\n",
       "<table border=\"1\" class=\"dataframe\">\n",
       "  <thead>\n",
       "    <tr style=\"text-align: right;\">\n",
       "      <th></th>\n",
       "      <th>index</th>\n",
       "      <th>geoid</th>\n",
       "      <th>year</th>\n",
       "      <th>name</th>\n",
       "      <th>population</th>\n",
       "      <th>household_income</th>\n",
       "      <th>home_value</th>\n",
       "      <th>no_nonh_caucasians</th>\n",
       "      <th>no_nonh_blacks/aas</th>\n",
       "      <th>no_amerinds_alskns</th>\n",
       "      <th>no_nonh_asians</th>\n",
       "      <th>no_nonh_hawaii_pacific</th>\n",
       "      <th>no_nonh_others</th>\n",
       "      <th>no_nonh_multi</th>\n",
       "      <th>no_hisp_latin</th>\n",
       "      <th>state</th>\n",
       "      <th>county</th>\n",
       "      <th>tract</th>\n",
       "      <th>gentrify_elig</th>\n",
       "    </tr>\n",
       "  </thead>\n",
       "  <tbody>\n",
       "    <tr>\n",
       "      <th>0</th>\n",
       "      <td>0</td>\n",
       "      <td>34003001000</td>\n",
       "      <td>2010</td>\n",
       "      <td>Census Tract 10, Bergen County, New Jersey</td>\n",
       "      <td>6489.0</td>\n",
       "      <td>131563.0</td>\n",
       "      <td>741400.0</td>\n",
       "      <td>5523.0</td>\n",
       "      <td>73.0</td>\n",
       "      <td>0.0</td>\n",
       "      <td>676.0</td>\n",
       "      <td>0.0</td>\n",
       "      <td>50.0</td>\n",
       "      <td>41.0</td>\n",
       "      <td>126.0</td>\n",
       "      <td>34</td>\n",
       "      <td>3</td>\n",
       "      <td>1000</td>\n",
       "      <td>0</td>\n",
       "    </tr>\n",
       "    <tr>\n",
       "      <th>1</th>\n",
       "      <td>1</td>\n",
       "      <td>34003002100</td>\n",
       "      <td>2010</td>\n",
       "      <td>Census Tract 21, Bergen County, New Jersey</td>\n",
       "      <td>1926.0</td>\n",
       "      <td>172054.0</td>\n",
       "      <td>1000001.0</td>\n",
       "      <td>1217.0</td>\n",
       "      <td>31.0</td>\n",
       "      <td>7.0</td>\n",
       "      <td>509.0</td>\n",
       "      <td>0.0</td>\n",
       "      <td>0.0</td>\n",
       "      <td>9.0</td>\n",
       "      <td>153.0</td>\n",
       "      <td>34</td>\n",
       "      <td>3</td>\n",
       "      <td>2100</td>\n",
       "      <td>0</td>\n",
       "    </tr>\n",
       "    <tr>\n",
       "      <th>2</th>\n",
       "      <td>2</td>\n",
       "      <td>34003002200</td>\n",
       "      <td>2010</td>\n",
       "      <td>Census Tract 22, Bergen County, New Jersey</td>\n",
       "      <td>5104.0</td>\n",
       "      <td>87270.0</td>\n",
       "      <td>530300.0</td>\n",
       "      <td>3518.0</td>\n",
       "      <td>13.0</td>\n",
       "      <td>0.0</td>\n",
       "      <td>1136.0</td>\n",
       "      <td>0.0</td>\n",
       "      <td>18.0</td>\n",
       "      <td>40.0</td>\n",
       "      <td>379.0</td>\n",
       "      <td>34</td>\n",
       "      <td>3</td>\n",
       "      <td>2200</td>\n",
       "      <td>0</td>\n",
       "    </tr>\n",
       "    <tr>\n",
       "      <th>3</th>\n",
       "      <td>3</td>\n",
       "      <td>34003002300</td>\n",
       "      <td>2010</td>\n",
       "      <td>Census Tract 23, Bergen County, New Jersey</td>\n",
       "      <td>5682.0</td>\n",
       "      <td>102132.0</td>\n",
       "      <td>720800.0</td>\n",
       "      <td>3690.0</td>\n",
       "      <td>95.0</td>\n",
       "      <td>0.0</td>\n",
       "      <td>1782.0</td>\n",
       "      <td>0.0</td>\n",
       "      <td>0.0</td>\n",
       "      <td>35.0</td>\n",
       "      <td>80.0</td>\n",
       "      <td>34</td>\n",
       "      <td>3</td>\n",
       "      <td>2300</td>\n",
       "      <td>0</td>\n",
       "    </tr>\n",
       "    <tr>\n",
       "      <th>4</th>\n",
       "      <td>4</td>\n",
       "      <td>34003003100</td>\n",
       "      <td>2010</td>\n",
       "      <td>Census Tract 31, Bergen County, New Jersey</td>\n",
       "      <td>5095.0</td>\n",
       "      <td>91106.0</td>\n",
       "      <td>367300.0</td>\n",
       "      <td>2152.0</td>\n",
       "      <td>346.0</td>\n",
       "      <td>0.0</td>\n",
       "      <td>1498.0</td>\n",
       "      <td>0.0</td>\n",
       "      <td>0.0</td>\n",
       "      <td>45.0</td>\n",
       "      <td>1054.0</td>\n",
       "      <td>34</td>\n",
       "      <td>3</td>\n",
       "      <td>3100</td>\n",
       "      <td>0</td>\n",
       "    </tr>\n",
       "  </tbody>\n",
       "</table>\n",
       "</div>"
      ],
      "text/plain": [
       "   index        geoid  year                                        name  \\\n",
       "0      0  34003001000  2010  Census Tract 10, Bergen County, New Jersey   \n",
       "1      1  34003002100  2010  Census Tract 21, Bergen County, New Jersey   \n",
       "2      2  34003002200  2010  Census Tract 22, Bergen County, New Jersey   \n",
       "3      3  34003002300  2010  Census Tract 23, Bergen County, New Jersey   \n",
       "4      4  34003003100  2010  Census Tract 31, Bergen County, New Jersey   \n",
       "\n",
       "   population  household_income  home_value  no_nonh_caucasians  \\\n",
       "0      6489.0          131563.0    741400.0              5523.0   \n",
       "1      1926.0          172054.0   1000001.0              1217.0   \n",
       "2      5104.0           87270.0    530300.0              3518.0   \n",
       "3      5682.0          102132.0    720800.0              3690.0   \n",
       "4      5095.0           91106.0    367300.0              2152.0   \n",
       "\n",
       "   no_nonh_blacks/aas  no_amerinds_alskns  no_nonh_asians  \\\n",
       "0                73.0                 0.0           676.0   \n",
       "1                31.0                 7.0           509.0   \n",
       "2                13.0                 0.0          1136.0   \n",
       "3                95.0                 0.0          1782.0   \n",
       "4               346.0                 0.0          1498.0   \n",
       "\n",
       "   no_nonh_hawaii_pacific  no_nonh_others  no_nonh_multi  no_hisp_latin  \\\n",
       "0                     0.0            50.0           41.0          126.0   \n",
       "1                     0.0             0.0            9.0          153.0   \n",
       "2                     0.0            18.0           40.0          379.0   \n",
       "3                     0.0             0.0           35.0           80.0   \n",
       "4                     0.0             0.0           45.0         1054.0   \n",
       "\n",
       "   state  county  tract  gentrify_elig  \n",
       "0     34       3   1000              0  \n",
       "1     34       3   2100              0  \n",
       "2     34       3   2200              0  \n",
       "3     34       3   2300              0  \n",
       "4     34       3   3100              0  "
      ]
     },
     "execution_count": 7,
     "metadata": {},
     "output_type": "execute_result"
    }
   ],
   "source": [
    "census_2010['gentrify_elig'] = 0\n",
    "census_2010.head()"
   ]
  },
  {
   "cell_type": "markdown",
   "metadata": {},
   "source": [
    "Value of 40th percentile for median household income"
   ]
  },
  {
   "cell_type": "code",
   "execution_count": 8,
   "metadata": {},
   "outputs": [
    {
     "data": {
      "text/plain": [
       "57082.4"
      ]
     },
     "execution_count": 8,
     "metadata": {},
     "output_type": "execute_result"
    }
   ],
   "source": [
    "income_40_percentile = census_2010['household_income'].quantile(0.4)\n",
    "income_40_percentile"
   ]
  },
  {
   "cell_type": "markdown",
   "metadata": {},
   "source": [
    "Value of 40th percentile for median home value"
   ]
  },
  {
   "cell_type": "code",
   "execution_count": 9,
   "metadata": {},
   "outputs": [
    {
     "data": {
      "text/plain": [
       "408180.00000000006"
      ]
     },
     "execution_count": 9,
     "metadata": {},
     "output_type": "execute_result"
    }
   ],
   "source": [
    "value_40_percentile = census_2010['home_value'].quantile(0.4)\n",
    "value_40_percentile"
   ]
  },
  {
   "cell_type": "markdown",
   "metadata": {},
   "source": [
    "Change value of 'gentrify_elig' from 0 to 1 if the entry passes the test."
   ]
  },
  {
   "cell_type": "code",
   "execution_count": 10,
   "metadata": {},
   "outputs": [],
   "source": [
    "census_2010.loc[(census_2010['household_income'] <= income_40_percentile) & \n",
    "               (census_2010['home_value'] <= value_40_percentile) &\n",
    "               (census_2010['population'] >= 500), 'gentrify_elig'] = 1"
   ]
  },
  {
   "cell_type": "code",
   "execution_count": 11,
   "metadata": {},
   "outputs": [
    {
     "data": {
      "text/html": [
       "<div>\n",
       "<style scoped>\n",
       "    .dataframe tbody tr th:only-of-type {\n",
       "        vertical-align: middle;\n",
       "    }\n",
       "\n",
       "    .dataframe tbody tr th {\n",
       "        vertical-align: top;\n",
       "    }\n",
       "\n",
       "    .dataframe thead th {\n",
       "        text-align: right;\n",
       "    }\n",
       "</style>\n",
       "<table border=\"1\" class=\"dataframe\">\n",
       "  <thead>\n",
       "    <tr style=\"text-align: right;\">\n",
       "      <th></th>\n",
       "      <th>index</th>\n",
       "      <th>geoid</th>\n",
       "      <th>year</th>\n",
       "      <th>name</th>\n",
       "      <th>population</th>\n",
       "      <th>household_income</th>\n",
       "      <th>home_value</th>\n",
       "      <th>no_nonh_caucasians</th>\n",
       "      <th>no_nonh_blacks/aas</th>\n",
       "      <th>no_amerinds_alskns</th>\n",
       "      <th>no_nonh_asians</th>\n",
       "      <th>no_nonh_hawaii_pacific</th>\n",
       "      <th>no_nonh_others</th>\n",
       "      <th>no_nonh_multi</th>\n",
       "      <th>no_hisp_latin</th>\n",
       "      <th>state</th>\n",
       "      <th>county</th>\n",
       "      <th>tract</th>\n",
       "      <th>gentrify_elig</th>\n",
       "    </tr>\n",
       "  </thead>\n",
       "  <tbody>\n",
       "    <tr>\n",
       "      <th>0</th>\n",
       "      <td>0</td>\n",
       "      <td>34003001000</td>\n",
       "      <td>2010</td>\n",
       "      <td>Census Tract 10, Bergen County, New Jersey</td>\n",
       "      <td>6489.0</td>\n",
       "      <td>131563.0</td>\n",
       "      <td>741400.0</td>\n",
       "      <td>5523.0</td>\n",
       "      <td>73.0</td>\n",
       "      <td>0.0</td>\n",
       "      <td>676.0</td>\n",
       "      <td>0.0</td>\n",
       "      <td>50.0</td>\n",
       "      <td>41.0</td>\n",
       "      <td>126.0</td>\n",
       "      <td>34</td>\n",
       "      <td>3</td>\n",
       "      <td>1000</td>\n",
       "      <td>0</td>\n",
       "    </tr>\n",
       "    <tr>\n",
       "      <th>1</th>\n",
       "      <td>1</td>\n",
       "      <td>34003002100</td>\n",
       "      <td>2010</td>\n",
       "      <td>Census Tract 21, Bergen County, New Jersey</td>\n",
       "      <td>1926.0</td>\n",
       "      <td>172054.0</td>\n",
       "      <td>1000001.0</td>\n",
       "      <td>1217.0</td>\n",
       "      <td>31.0</td>\n",
       "      <td>7.0</td>\n",
       "      <td>509.0</td>\n",
       "      <td>0.0</td>\n",
       "      <td>0.0</td>\n",
       "      <td>9.0</td>\n",
       "      <td>153.0</td>\n",
       "      <td>34</td>\n",
       "      <td>3</td>\n",
       "      <td>2100</td>\n",
       "      <td>0</td>\n",
       "    </tr>\n",
       "    <tr>\n",
       "      <th>2</th>\n",
       "      <td>2</td>\n",
       "      <td>34003002200</td>\n",
       "      <td>2010</td>\n",
       "      <td>Census Tract 22, Bergen County, New Jersey</td>\n",
       "      <td>5104.0</td>\n",
       "      <td>87270.0</td>\n",
       "      <td>530300.0</td>\n",
       "      <td>3518.0</td>\n",
       "      <td>13.0</td>\n",
       "      <td>0.0</td>\n",
       "      <td>1136.0</td>\n",
       "      <td>0.0</td>\n",
       "      <td>18.0</td>\n",
       "      <td>40.0</td>\n",
       "      <td>379.0</td>\n",
       "      <td>34</td>\n",
       "      <td>3</td>\n",
       "      <td>2200</td>\n",
       "      <td>0</td>\n",
       "    </tr>\n",
       "    <tr>\n",
       "      <th>3</th>\n",
       "      <td>3</td>\n",
       "      <td>34003002300</td>\n",
       "      <td>2010</td>\n",
       "      <td>Census Tract 23, Bergen County, New Jersey</td>\n",
       "      <td>5682.0</td>\n",
       "      <td>102132.0</td>\n",
       "      <td>720800.0</td>\n",
       "      <td>3690.0</td>\n",
       "      <td>95.0</td>\n",
       "      <td>0.0</td>\n",
       "      <td>1782.0</td>\n",
       "      <td>0.0</td>\n",
       "      <td>0.0</td>\n",
       "      <td>35.0</td>\n",
       "      <td>80.0</td>\n",
       "      <td>34</td>\n",
       "      <td>3</td>\n",
       "      <td>2300</td>\n",
       "      <td>0</td>\n",
       "    </tr>\n",
       "    <tr>\n",
       "      <th>4</th>\n",
       "      <td>4</td>\n",
       "      <td>34003003100</td>\n",
       "      <td>2010</td>\n",
       "      <td>Census Tract 31, Bergen County, New Jersey</td>\n",
       "      <td>5095.0</td>\n",
       "      <td>91106.0</td>\n",
       "      <td>367300.0</td>\n",
       "      <td>2152.0</td>\n",
       "      <td>346.0</td>\n",
       "      <td>0.0</td>\n",
       "      <td>1498.0</td>\n",
       "      <td>0.0</td>\n",
       "      <td>0.0</td>\n",
       "      <td>45.0</td>\n",
       "      <td>1054.0</td>\n",
       "      <td>34</td>\n",
       "      <td>3</td>\n",
       "      <td>3100</td>\n",
       "      <td>0</td>\n",
       "    </tr>\n",
       "    <tr>\n",
       "      <th>5</th>\n",
       "      <td>5</td>\n",
       "      <td>34003003200</td>\n",
       "      <td>2010</td>\n",
       "      <td>Census Tract 32, Bergen County, New Jersey</td>\n",
       "      <td>3966.0</td>\n",
       "      <td>57621.0</td>\n",
       "      <td>352600.0</td>\n",
       "      <td>1570.0</td>\n",
       "      <td>132.0</td>\n",
       "      <td>0.0</td>\n",
       "      <td>1121.0</td>\n",
       "      <td>0.0</td>\n",
       "      <td>75.0</td>\n",
       "      <td>36.0</td>\n",
       "      <td>1032.0</td>\n",
       "      <td>34</td>\n",
       "      <td>3</td>\n",
       "      <td>3200</td>\n",
       "      <td>0</td>\n",
       "    </tr>\n",
       "    <tr>\n",
       "      <th>6</th>\n",
       "      <td>6</td>\n",
       "      <td>34003003300</td>\n",
       "      <td>2010</td>\n",
       "      <td>Census Tract 33, Bergen County, New Jersey</td>\n",
       "      <td>6664.0</td>\n",
       "      <td>95948.0</td>\n",
       "      <td>384000.0</td>\n",
       "      <td>3131.0</td>\n",
       "      <td>272.0</td>\n",
       "      <td>0.0</td>\n",
       "      <td>1717.0</td>\n",
       "      <td>0.0</td>\n",
       "      <td>0.0</td>\n",
       "      <td>188.0</td>\n",
       "      <td>1356.0</td>\n",
       "      <td>34</td>\n",
       "      <td>3</td>\n",
       "      <td>3300</td>\n",
       "      <td>0</td>\n",
       "    </tr>\n",
       "    <tr>\n",
       "      <th>7</th>\n",
       "      <td>7</td>\n",
       "      <td>34003003401</td>\n",
       "      <td>2010</td>\n",
       "      <td>Census Tract 34.01, Bergen County, New Jersey</td>\n",
       "      <td>3049.0</td>\n",
       "      <td>102841.0</td>\n",
       "      <td>397000.0</td>\n",
       "      <td>1779.0</td>\n",
       "      <td>59.0</td>\n",
       "      <td>0.0</td>\n",
       "      <td>544.0</td>\n",
       "      <td>0.0</td>\n",
       "      <td>0.0</td>\n",
       "      <td>97.0</td>\n",
       "      <td>570.0</td>\n",
       "      <td>34</td>\n",
       "      <td>3</td>\n",
       "      <td>3401</td>\n",
       "      <td>0</td>\n",
       "    </tr>\n",
       "    <tr>\n",
       "      <th>8</th>\n",
       "      <td>8</td>\n",
       "      <td>34003003402</td>\n",
       "      <td>2010</td>\n",
       "      <td>Census Tract 34.02, Bergen County, New Jersey</td>\n",
       "      <td>3713.0</td>\n",
       "      <td>102135.0</td>\n",
       "      <td>404300.0</td>\n",
       "      <td>2413.0</td>\n",
       "      <td>163.0</td>\n",
       "      <td>0.0</td>\n",
       "      <td>791.0</td>\n",
       "      <td>0.0</td>\n",
       "      <td>8.0</td>\n",
       "      <td>62.0</td>\n",
       "      <td>276.0</td>\n",
       "      <td>34</td>\n",
       "      <td>3</td>\n",
       "      <td>3402</td>\n",
       "      <td>0</td>\n",
       "    </tr>\n",
       "    <tr>\n",
       "      <th>9</th>\n",
       "      <td>9</td>\n",
       "      <td>34003003500</td>\n",
       "      <td>2010</td>\n",
       "      <td>Census Tract 35, Bergen County, New Jersey</td>\n",
       "      <td>4030.0</td>\n",
       "      <td>53622.0</td>\n",
       "      <td>399300.0</td>\n",
       "      <td>1381.0</td>\n",
       "      <td>411.0</td>\n",
       "      <td>0.0</td>\n",
       "      <td>934.0</td>\n",
       "      <td>0.0</td>\n",
       "      <td>0.0</td>\n",
       "      <td>114.0</td>\n",
       "      <td>1190.0</td>\n",
       "      <td>34</td>\n",
       "      <td>3</td>\n",
       "      <td>3500</td>\n",
       "      <td>1</td>\n",
       "    </tr>\n",
       "  </tbody>\n",
       "</table>\n",
       "</div>"
      ],
      "text/plain": [
       "   index        geoid  year                                           name  \\\n",
       "0      0  34003001000  2010     Census Tract 10, Bergen County, New Jersey   \n",
       "1      1  34003002100  2010     Census Tract 21, Bergen County, New Jersey   \n",
       "2      2  34003002200  2010     Census Tract 22, Bergen County, New Jersey   \n",
       "3      3  34003002300  2010     Census Tract 23, Bergen County, New Jersey   \n",
       "4      4  34003003100  2010     Census Tract 31, Bergen County, New Jersey   \n",
       "5      5  34003003200  2010     Census Tract 32, Bergen County, New Jersey   \n",
       "6      6  34003003300  2010     Census Tract 33, Bergen County, New Jersey   \n",
       "7      7  34003003401  2010  Census Tract 34.01, Bergen County, New Jersey   \n",
       "8      8  34003003402  2010  Census Tract 34.02, Bergen County, New Jersey   \n",
       "9      9  34003003500  2010     Census Tract 35, Bergen County, New Jersey   \n",
       "\n",
       "   population  household_income  home_value  no_nonh_caucasians  \\\n",
       "0      6489.0          131563.0    741400.0              5523.0   \n",
       "1      1926.0          172054.0   1000001.0              1217.0   \n",
       "2      5104.0           87270.0    530300.0              3518.0   \n",
       "3      5682.0          102132.0    720800.0              3690.0   \n",
       "4      5095.0           91106.0    367300.0              2152.0   \n",
       "5      3966.0           57621.0    352600.0              1570.0   \n",
       "6      6664.0           95948.0    384000.0              3131.0   \n",
       "7      3049.0          102841.0    397000.0              1779.0   \n",
       "8      3713.0          102135.0    404300.0              2413.0   \n",
       "9      4030.0           53622.0    399300.0              1381.0   \n",
       "\n",
       "   no_nonh_blacks/aas  no_amerinds_alskns  no_nonh_asians  \\\n",
       "0                73.0                 0.0           676.0   \n",
       "1                31.0                 7.0           509.0   \n",
       "2                13.0                 0.0          1136.0   \n",
       "3                95.0                 0.0          1782.0   \n",
       "4               346.0                 0.0          1498.0   \n",
       "5               132.0                 0.0          1121.0   \n",
       "6               272.0                 0.0          1717.0   \n",
       "7                59.0                 0.0           544.0   \n",
       "8               163.0                 0.0           791.0   \n",
       "9               411.0                 0.0           934.0   \n",
       "\n",
       "   no_nonh_hawaii_pacific  no_nonh_others  no_nonh_multi  no_hisp_latin  \\\n",
       "0                     0.0            50.0           41.0          126.0   \n",
       "1                     0.0             0.0            9.0          153.0   \n",
       "2                     0.0            18.0           40.0          379.0   \n",
       "3                     0.0             0.0           35.0           80.0   \n",
       "4                     0.0             0.0           45.0         1054.0   \n",
       "5                     0.0            75.0           36.0         1032.0   \n",
       "6                     0.0             0.0          188.0         1356.0   \n",
       "7                     0.0             0.0           97.0          570.0   \n",
       "8                     0.0             8.0           62.0          276.0   \n",
       "9                     0.0             0.0          114.0         1190.0   \n",
       "\n",
       "   state  county  tract  gentrify_elig  \n",
       "0     34       3   1000              0  \n",
       "1     34       3   2100              0  \n",
       "2     34       3   2200              0  \n",
       "3     34       3   2300              0  \n",
       "4     34       3   3100              0  \n",
       "5     34       3   3200              0  \n",
       "6     34       3   3300              0  \n",
       "7     34       3   3401              0  \n",
       "8     34       3   3402              0  \n",
       "9     34       3   3500              1  "
      ]
     },
     "execution_count": 11,
     "metadata": {},
     "output_type": "execute_result"
    }
   ],
   "source": [
    "census_2010.head(10)"
   ]
  },
  {
   "cell_type": "markdown",
   "metadata": {},
   "source": [
    "### Feature Engineering"
   ]
  },
  {
   "cell_type": "markdown",
   "metadata": {},
   "source": [
    "Correlation"
   ]
  },
  {
   "cell_type": "code",
   "execution_count": 12,
   "metadata": {},
   "outputs": [
    {
     "data": {
      "text/plain": [
       "gentrify_elig             1.000000\n",
       "no_hisp_latin             0.325739\n",
       "no_nonh_blacks/aas        0.262827\n",
       "no_amerinds_alskns        0.056961\n",
       "no_nonh_others            0.041292\n",
       "population                0.024160\n",
       "no_nonh_hawaii_pacific   -0.000848\n",
       "tract                    -0.027139\n",
       "no_nonh_multi            -0.028295\n",
       "no_nonh_asians           -0.090139\n",
       "state                    -0.132786\n",
       "geoid                    -0.136801\n",
       "index                    -0.203336\n",
       "county                   -0.210060\n",
       "no_nonh_caucasians       -0.296306\n",
       "household_income         -0.440283\n",
       "home_value               -0.488391\n",
       "year                           NaN\n",
       "Name: gentrify_elig, dtype: float64"
      ]
     },
     "execution_count": 12,
     "metadata": {},
     "output_type": "execute_result"
    }
   ],
   "source": [
    "corr_matrix = census_2010.corr()\n",
    "corr_matrix[\"gentrify_elig\"].sort_values(ascending=False)"
   ]
  },
  {
   "cell_type": "code",
   "execution_count": 13,
   "metadata": {},
   "outputs": [],
   "source": [
    "census_2010_copy = census_2010.copy()"
   ]
  },
  {
   "cell_type": "markdown",
   "metadata": {},
   "source": [
    "Add new features"
   ]
  },
  {
   "cell_type": "code",
   "execution_count": 14,
   "metadata": {},
   "outputs": [],
   "source": [
    "def add_features(dataframe):\n",
    "    dataframe['proportion_hisp_latin'] = dataframe['no_hisp_latin'] / dataframe['population']\n",
    "    dataframe['proportion_nonh_black'] = dataframe['no_nonh_blacks/aas'] / dataframe['population']\n",
    "    dataframe['proportion_amerinds_alskns'] = dataframe['no_amerinds_alskns'] / dataframe['population']\n",
    "    dataframe['proportion_nonh_others'] = dataframe['no_nonh_others'] / dataframe['population']\n",
    "    dataframe['proportion_nonh_hawaii_pacific'] = dataframe['no_nonh_hawaii_pacific'] / dataframe['population']\n",
    "    dataframe['proportion_nonh_multi'] = dataframe['no_nonh_multi'] / dataframe['population']\n",
    "    dataframe['proportion_nonh_asians'] = dataframe['no_nonh_asians'] / dataframe['population']\n",
    "    dataframe['proportion_nonh_caucasians'] = dataframe['no_nonh_caucasians'] / dataframe['population']\n",
    "    dataframe['no_non_white'] = dataframe['population'] - dataframe['no_nonh_caucasians']\n",
    "    dataframe['proportion_non_white'] = dataframe['no_non_white'] / dataframe['population']\n",
    "\n",
    "add_features(census_2010_copy)"
   ]
  },
  {
   "cell_type": "markdown",
   "metadata": {},
   "source": [
    "Correlation"
   ]
  },
  {
   "cell_type": "code",
   "execution_count": 15,
   "metadata": {},
   "outputs": [
    {
     "data": {
      "text/plain": [
       "gentrify_elig                     1.000000\n",
       "proportion_non_white              0.364748\n",
       "proportion_hisp_latin             0.349615\n",
       "no_non_white                      0.334425\n",
       "no_hisp_latin                     0.325739\n",
       "no_nonh_blacks/aas                0.262827\n",
       "proportion_nonh_black             0.248960\n",
       "no_amerinds_alskns                0.056961\n",
       "no_nonh_others                    0.041292\n",
       "proportion_amerinds_alskns        0.039675\n",
       "proportion_nonh_others            0.024284\n",
       "population                        0.024160\n",
       "no_nonh_hawaii_pacific           -0.000848\n",
       "proportion_nonh_hawaii_pacific   -0.007678\n",
       "tract                            -0.027139\n",
       "no_nonh_multi                    -0.028295\n",
       "proportion_nonh_multi            -0.040574\n",
       "no_nonh_asians                   -0.090139\n",
       "proportion_nonh_asians           -0.126842\n",
       "state                            -0.132786\n",
       "geoid                            -0.136801\n",
       "index                            -0.203336\n",
       "county                           -0.210060\n",
       "no_nonh_caucasians               -0.296306\n",
       "proportion_nonh_caucasians       -0.364748\n",
       "household_income                 -0.440283\n",
       "home_value                       -0.488391\n",
       "year                                   NaN\n",
       "Name: gentrify_elig, dtype: float64"
      ]
     },
     "execution_count": 15,
     "metadata": {},
     "output_type": "execute_result"
    }
   ],
   "source": [
    "corr_matrix = census_2010_copy.corr()\n",
    "corr_matrix[\"gentrify_elig\"].sort_values(ascending=False)"
   ]
  },
  {
   "cell_type": "code",
   "execution_count": 16,
   "metadata": {
    "scrolled": true
   },
   "outputs": [
    {
     "data": {
      "text/html": [
       "<div>\n",
       "<style scoped>\n",
       "    .dataframe tbody tr th:only-of-type {\n",
       "        vertical-align: middle;\n",
       "    }\n",
       "\n",
       "    .dataframe tbody tr th {\n",
       "        vertical-align: top;\n",
       "    }\n",
       "\n",
       "    .dataframe thead th {\n",
       "        text-align: right;\n",
       "    }\n",
       "</style>\n",
       "<table border=\"1\" class=\"dataframe\">\n",
       "  <thead>\n",
       "    <tr style=\"text-align: right;\">\n",
       "      <th></th>\n",
       "      <th>index</th>\n",
       "      <th>geoid</th>\n",
       "      <th>year</th>\n",
       "      <th>name</th>\n",
       "      <th>population</th>\n",
       "      <th>household_income</th>\n",
       "      <th>home_value</th>\n",
       "      <th>no_nonh_caucasians</th>\n",
       "      <th>no_nonh_blacks/aas</th>\n",
       "      <th>no_amerinds_alskns</th>\n",
       "      <th>no_nonh_asians</th>\n",
       "      <th>no_nonh_hawaii_pacific</th>\n",
       "      <th>no_nonh_others</th>\n",
       "      <th>no_nonh_multi</th>\n",
       "      <th>no_hisp_latin</th>\n",
       "      <th>state</th>\n",
       "      <th>county</th>\n",
       "      <th>tract</th>\n",
       "      <th>gentrify_elig</th>\n",
       "    </tr>\n",
       "  </thead>\n",
       "  <tbody>\n",
       "    <tr>\n",
       "      <th>0</th>\n",
       "      <td>0</td>\n",
       "      <td>34003001000</td>\n",
       "      <td>2010</td>\n",
       "      <td>Census Tract 10, Bergen County, New Jersey</td>\n",
       "      <td>6489.0</td>\n",
       "      <td>131563.0</td>\n",
       "      <td>741400.0</td>\n",
       "      <td>5523.0</td>\n",
       "      <td>73.0</td>\n",
       "      <td>0.0</td>\n",
       "      <td>676.0</td>\n",
       "      <td>0.0</td>\n",
       "      <td>50.0</td>\n",
       "      <td>41.0</td>\n",
       "      <td>126.0</td>\n",
       "      <td>34</td>\n",
       "      <td>3</td>\n",
       "      <td>1000</td>\n",
       "      <td>0</td>\n",
       "    </tr>\n",
       "    <tr>\n",
       "      <th>1</th>\n",
       "      <td>1</td>\n",
       "      <td>34003002100</td>\n",
       "      <td>2010</td>\n",
       "      <td>Census Tract 21, Bergen County, New Jersey</td>\n",
       "      <td>1926.0</td>\n",
       "      <td>172054.0</td>\n",
       "      <td>1000001.0</td>\n",
       "      <td>1217.0</td>\n",
       "      <td>31.0</td>\n",
       "      <td>7.0</td>\n",
       "      <td>509.0</td>\n",
       "      <td>0.0</td>\n",
       "      <td>0.0</td>\n",
       "      <td>9.0</td>\n",
       "      <td>153.0</td>\n",
       "      <td>34</td>\n",
       "      <td>3</td>\n",
       "      <td>2100</td>\n",
       "      <td>0</td>\n",
       "    </tr>\n",
       "  </tbody>\n",
       "</table>\n",
       "</div>"
      ],
      "text/plain": [
       "   index        geoid  year                                        name  \\\n",
       "0      0  34003001000  2010  Census Tract 10, Bergen County, New Jersey   \n",
       "1      1  34003002100  2010  Census Tract 21, Bergen County, New Jersey   \n",
       "\n",
       "   population  household_income  home_value  no_nonh_caucasians  \\\n",
       "0      6489.0          131563.0    741400.0              5523.0   \n",
       "1      1926.0          172054.0   1000001.0              1217.0   \n",
       "\n",
       "   no_nonh_blacks/aas  no_amerinds_alskns  no_nonh_asians  \\\n",
       "0                73.0                 0.0           676.0   \n",
       "1                31.0                 7.0           509.0   \n",
       "\n",
       "   no_nonh_hawaii_pacific  no_nonh_others  no_nonh_multi  no_hisp_latin  \\\n",
       "0                     0.0            50.0           41.0          126.0   \n",
       "1                     0.0             0.0            9.0          153.0   \n",
       "\n",
       "   state  county  tract  gentrify_elig  \n",
       "0     34       3   1000              0  \n",
       "1     34       3   2100              0  "
      ]
     },
     "execution_count": 16,
     "metadata": {},
     "output_type": "execute_result"
    }
   ],
   "source": [
    "census_2010.head(2)"
   ]
  },
  {
   "cell_type": "markdown",
   "metadata": {},
   "source": [
    "Remove unused columns"
   ]
  },
  {
   "cell_type": "code",
   "execution_count": 17,
   "metadata": {},
   "outputs": [],
   "source": [
    "census_2010_copy = census_2010_copy.drop(columns=['index', 'geoid', 'year', 'name', 'state', 'county', 'tract'])"
   ]
  },
  {
   "cell_type": "markdown",
   "metadata": {},
   "source": [
    "Create output dataframe for training"
   ]
  },
  {
   "cell_type": "code",
   "execution_count": 18,
   "metadata": {},
   "outputs": [
    {
     "data": {
      "text/plain": [
       "0    0\n",
       "1    0\n",
       "2    0\n",
       "3    0\n",
       "4    0\n",
       "5    0\n",
       "6    0\n",
       "7    0\n",
       "8    0\n",
       "9    1\n",
       "Name: gentrify_elig, dtype: int64"
      ]
     },
     "execution_count": 18,
     "metadata": {},
     "output_type": "execute_result"
    }
   ],
   "source": [
    "census_2010_train = census_2010_copy['gentrify_elig']\n",
    "census_2010_train.head(10)"
   ]
  },
  {
   "cell_type": "code",
   "execution_count": 19,
   "metadata": {},
   "outputs": [],
   "source": [
    "census_2010_copy = census_2010_copy.drop(columns=['gentrify_elig'])"
   ]
  },
  {
   "cell_type": "code",
   "execution_count": 20,
   "metadata": {},
   "outputs": [
    {
     "data": {
      "text/html": [
       "<div>\n",
       "<style scoped>\n",
       "    .dataframe tbody tr th:only-of-type {\n",
       "        vertical-align: middle;\n",
       "    }\n",
       "\n",
       "    .dataframe tbody tr th {\n",
       "        vertical-align: top;\n",
       "    }\n",
       "\n",
       "    .dataframe thead th {\n",
       "        text-align: right;\n",
       "    }\n",
       "</style>\n",
       "<table border=\"1\" class=\"dataframe\">\n",
       "  <thead>\n",
       "    <tr style=\"text-align: right;\">\n",
       "      <th></th>\n",
       "      <th>population</th>\n",
       "      <th>household_income</th>\n",
       "      <th>home_value</th>\n",
       "      <th>no_nonh_caucasians</th>\n",
       "      <th>no_nonh_blacks/aas</th>\n",
       "      <th>no_amerinds_alskns</th>\n",
       "      <th>no_nonh_asians</th>\n",
       "      <th>no_nonh_hawaii_pacific</th>\n",
       "      <th>no_nonh_others</th>\n",
       "      <th>no_nonh_multi</th>\n",
       "      <th>...</th>\n",
       "      <th>proportion_hisp_latin</th>\n",
       "      <th>proportion_nonh_black</th>\n",
       "      <th>proportion_amerinds_alskns</th>\n",
       "      <th>proportion_nonh_others</th>\n",
       "      <th>proportion_nonh_hawaii_pacific</th>\n",
       "      <th>proportion_nonh_multi</th>\n",
       "      <th>proportion_nonh_asians</th>\n",
       "      <th>proportion_nonh_caucasians</th>\n",
       "      <th>no_non_white</th>\n",
       "      <th>proportion_non_white</th>\n",
       "    </tr>\n",
       "  </thead>\n",
       "  <tbody>\n",
       "    <tr>\n",
       "      <th>0</th>\n",
       "      <td>6489.0</td>\n",
       "      <td>131563.0</td>\n",
       "      <td>741400.0</td>\n",
       "      <td>5523.0</td>\n",
       "      <td>73.0</td>\n",
       "      <td>0.0</td>\n",
       "      <td>676.0</td>\n",
       "      <td>0.0</td>\n",
       "      <td>50.0</td>\n",
       "      <td>41.0</td>\n",
       "      <td>...</td>\n",
       "      <td>0.019417</td>\n",
       "      <td>0.011250</td>\n",
       "      <td>0.000000</td>\n",
       "      <td>0.007705</td>\n",
       "      <td>0.0</td>\n",
       "      <td>0.006318</td>\n",
       "      <td>0.104176</td>\n",
       "      <td>0.851133</td>\n",
       "      <td>966.0</td>\n",
       "      <td>0.148867</td>\n",
       "    </tr>\n",
       "    <tr>\n",
       "      <th>1</th>\n",
       "      <td>1926.0</td>\n",
       "      <td>172054.0</td>\n",
       "      <td>1000001.0</td>\n",
       "      <td>1217.0</td>\n",
       "      <td>31.0</td>\n",
       "      <td>7.0</td>\n",
       "      <td>509.0</td>\n",
       "      <td>0.0</td>\n",
       "      <td>0.0</td>\n",
       "      <td>9.0</td>\n",
       "      <td>...</td>\n",
       "      <td>0.079439</td>\n",
       "      <td>0.016096</td>\n",
       "      <td>0.003634</td>\n",
       "      <td>0.000000</td>\n",
       "      <td>0.0</td>\n",
       "      <td>0.004673</td>\n",
       "      <td>0.264278</td>\n",
       "      <td>0.631880</td>\n",
       "      <td>709.0</td>\n",
       "      <td>0.368120</td>\n",
       "    </tr>\n",
       "    <tr>\n",
       "      <th>2</th>\n",
       "      <td>5104.0</td>\n",
       "      <td>87270.0</td>\n",
       "      <td>530300.0</td>\n",
       "      <td>3518.0</td>\n",
       "      <td>13.0</td>\n",
       "      <td>0.0</td>\n",
       "      <td>1136.0</td>\n",
       "      <td>0.0</td>\n",
       "      <td>18.0</td>\n",
       "      <td>40.0</td>\n",
       "      <td>...</td>\n",
       "      <td>0.074255</td>\n",
       "      <td>0.002547</td>\n",
       "      <td>0.000000</td>\n",
       "      <td>0.003527</td>\n",
       "      <td>0.0</td>\n",
       "      <td>0.007837</td>\n",
       "      <td>0.222571</td>\n",
       "      <td>0.689263</td>\n",
       "      <td>1586.0</td>\n",
       "      <td>0.310737</td>\n",
       "    </tr>\n",
       "    <tr>\n",
       "      <th>3</th>\n",
       "      <td>5682.0</td>\n",
       "      <td>102132.0</td>\n",
       "      <td>720800.0</td>\n",
       "      <td>3690.0</td>\n",
       "      <td>95.0</td>\n",
       "      <td>0.0</td>\n",
       "      <td>1782.0</td>\n",
       "      <td>0.0</td>\n",
       "      <td>0.0</td>\n",
       "      <td>35.0</td>\n",
       "      <td>...</td>\n",
       "      <td>0.014080</td>\n",
       "      <td>0.016719</td>\n",
       "      <td>0.000000</td>\n",
       "      <td>0.000000</td>\n",
       "      <td>0.0</td>\n",
       "      <td>0.006160</td>\n",
       "      <td>0.313622</td>\n",
       "      <td>0.649419</td>\n",
       "      <td>1992.0</td>\n",
       "      <td>0.350581</td>\n",
       "    </tr>\n",
       "    <tr>\n",
       "      <th>4</th>\n",
       "      <td>5095.0</td>\n",
       "      <td>91106.0</td>\n",
       "      <td>367300.0</td>\n",
       "      <td>2152.0</td>\n",
       "      <td>346.0</td>\n",
       "      <td>0.0</td>\n",
       "      <td>1498.0</td>\n",
       "      <td>0.0</td>\n",
       "      <td>0.0</td>\n",
       "      <td>45.0</td>\n",
       "      <td>...</td>\n",
       "      <td>0.206869</td>\n",
       "      <td>0.067910</td>\n",
       "      <td>0.000000</td>\n",
       "      <td>0.000000</td>\n",
       "      <td>0.0</td>\n",
       "      <td>0.008832</td>\n",
       "      <td>0.294014</td>\n",
       "      <td>0.422375</td>\n",
       "      <td>2943.0</td>\n",
       "      <td>0.577625</td>\n",
       "    </tr>\n",
       "  </tbody>\n",
       "</table>\n",
       "<p>5 rows × 21 columns</p>\n",
       "</div>"
      ],
      "text/plain": [
       "   population  household_income  home_value  no_nonh_caucasians  \\\n",
       "0      6489.0          131563.0    741400.0              5523.0   \n",
       "1      1926.0          172054.0   1000001.0              1217.0   \n",
       "2      5104.0           87270.0    530300.0              3518.0   \n",
       "3      5682.0          102132.0    720800.0              3690.0   \n",
       "4      5095.0           91106.0    367300.0              2152.0   \n",
       "\n",
       "   no_nonh_blacks/aas  no_amerinds_alskns  no_nonh_asians  \\\n",
       "0                73.0                 0.0           676.0   \n",
       "1                31.0                 7.0           509.0   \n",
       "2                13.0                 0.0          1136.0   \n",
       "3                95.0                 0.0          1782.0   \n",
       "4               346.0                 0.0          1498.0   \n",
       "\n",
       "   no_nonh_hawaii_pacific  no_nonh_others  no_nonh_multi  ...  \\\n",
       "0                     0.0            50.0           41.0  ...   \n",
       "1                     0.0             0.0            9.0  ...   \n",
       "2                     0.0            18.0           40.0  ...   \n",
       "3                     0.0             0.0           35.0  ...   \n",
       "4                     0.0             0.0           45.0  ...   \n",
       "\n",
       "   proportion_hisp_latin  proportion_nonh_black  proportion_amerinds_alskns  \\\n",
       "0               0.019417               0.011250                    0.000000   \n",
       "1               0.079439               0.016096                    0.003634   \n",
       "2               0.074255               0.002547                    0.000000   \n",
       "3               0.014080               0.016719                    0.000000   \n",
       "4               0.206869               0.067910                    0.000000   \n",
       "\n",
       "   proportion_nonh_others  proportion_nonh_hawaii_pacific  \\\n",
       "0                0.007705                             0.0   \n",
       "1                0.000000                             0.0   \n",
       "2                0.003527                             0.0   \n",
       "3                0.000000                             0.0   \n",
       "4                0.000000                             0.0   \n",
       "\n",
       "   proportion_nonh_multi  proportion_nonh_asians  proportion_nonh_caucasians  \\\n",
       "0               0.006318                0.104176                    0.851133   \n",
       "1               0.004673                0.264278                    0.631880   \n",
       "2               0.007837                0.222571                    0.689263   \n",
       "3               0.006160                0.313622                    0.649419   \n",
       "4               0.008832                0.294014                    0.422375   \n",
       "\n",
       "   no_non_white  proportion_non_white  \n",
       "0         966.0              0.148867  \n",
       "1         709.0              0.368120  \n",
       "2        1586.0              0.310737  \n",
       "3        1992.0              0.350581  \n",
       "4        2943.0              0.577625  \n",
       "\n",
       "[5 rows x 21 columns]"
      ]
     },
     "execution_count": 20,
     "metadata": {},
     "output_type": "execute_result"
    }
   ],
   "source": [
    "census_2010_copy.head()"
   ]
  },
  {
   "cell_type": "markdown",
   "metadata": {},
   "source": [
    "### Logistic Regression"
   ]
  },
  {
   "cell_type": "code",
   "execution_count": 56,
   "metadata": {},
   "outputs": [
    {
     "name": "stderr",
     "output_type": "stream",
     "text": [
      "c:\\users\\jeevs\\appdata\\local\\programs\\python\\python37\\lib\\site-packages\\sklearn\\linear_model\\logistic.py:432: FutureWarning: Default solver will be changed to 'lbfgs' in 0.22. Specify a solver to silence this warning.\n",
      "  FutureWarning)\n",
      "c:\\users\\jeevs\\appdata\\local\\programs\\python\\python37\\lib\\site-packages\\sklearn\\linear_model\\logistic.py:432: FutureWarning: Default solver will be changed to 'lbfgs' in 0.22. Specify a solver to silence this warning.\n",
      "  FutureWarning)\n",
      "c:\\users\\jeevs\\appdata\\local\\programs\\python\\python37\\lib\\site-packages\\sklearn\\linear_model\\logistic.py:432: FutureWarning: Default solver will be changed to 'lbfgs' in 0.22. Specify a solver to silence this warning.\n",
      "  FutureWarning)\n",
      "c:\\users\\jeevs\\appdata\\local\\programs\\python\\python37\\lib\\site-packages\\sklearn\\linear_model\\logistic.py:432: FutureWarning: Default solver will be changed to 'lbfgs' in 0.22. Specify a solver to silence this warning.\n",
      "  FutureWarning)\n",
      "c:\\users\\jeevs\\appdata\\local\\programs\\python\\python37\\lib\\site-packages\\sklearn\\linear_model\\logistic.py:432: FutureWarning: Default solver will be changed to 'lbfgs' in 0.22. Specify a solver to silence this warning.\n",
      "  FutureWarning)\n",
      "c:\\users\\jeevs\\appdata\\local\\programs\\python\\python37\\lib\\site-packages\\sklearn\\linear_model\\logistic.py:432: FutureWarning: Default solver will be changed to 'lbfgs' in 0.22. Specify a solver to silence this warning.\n",
      "  FutureWarning)\n"
     ]
    },
    {
     "data": {
      "text/plain": [
       "0.8405972067729577"
      ]
     },
     "execution_count": 56,
     "metadata": {},
     "output_type": "execute_result"
    }
   ],
   "source": [
    "logreg = LogisticRegression()\n",
    "logreg.fit(census_2010_copy, census_2010_train)\n",
    "logreg_scores = cross_val_score(logreg, census_2010_copy, census_2010_train, cv=5)\n",
    "logreg_scores.mean()"
   ]
  },
  {
   "cell_type": "code",
   "execution_count": 57,
   "metadata": {},
   "outputs": [
    {
     "name": "stderr",
     "output_type": "stream",
     "text": [
      "c:\\users\\jeevs\\appdata\\local\\programs\\python\\python37\\lib\\site-packages\\sklearn\\model_selection\\_split.py:1978: FutureWarning: The default value of cv will change from 3 to 5 in version 0.22. Specify it explicitly to silence this warning.\n",
      "  warnings.warn(CV_WARNING, FutureWarning)\n",
      "c:\\users\\jeevs\\appdata\\local\\programs\\python\\python37\\lib\\site-packages\\sklearn\\linear_model\\logistic.py:432: FutureWarning: Default solver will be changed to 'lbfgs' in 0.22. Specify a solver to silence this warning.\n",
      "  FutureWarning)\n"
     ]
    },
    {
     "data": {
      "text/plain": [
       "GridSearchCV(cv='warn', error_score='raise-deprecating',\n",
       "             estimator=LogisticRegression(C=1.0, class_weight=None, dual=False,\n",
       "                                          fit_intercept=True,\n",
       "                                          intercept_scaling=1, l1_ratio=None,\n",
       "                                          max_iter=100, multi_class='warn',\n",
       "                                          n_jobs=None, penalty='l2',\n",
       "                                          random_state=None, solver='warn',\n",
       "                                          tol=0.0001, verbose=0,\n",
       "                                          warm_start=False),\n",
       "             iid='warn', n_jobs=-1,\n",
       "             param_grid={'C': [1e-06, 0.0026...\n",
       "                               0.6543502590551983, 0.7385926664626057,\n",
       "                               0.827934553719008, 0.9223759208244054,\n",
       "                               1.0219167677787977, 1.126557094582185,\n",
       "                               1.2362969012345675, 1.3511361877359447,\n",
       "                               1.4710749540863173, 1.5961132002856844,\n",
       "                               1.7262509263340469, 1.8614881322314039,\n",
       "                               2.0018248179777567, 2.1472609835731036, ...]},\n",
       "             pre_dispatch='2*n_jobs', refit=True, return_train_score=False,\n",
       "             scoring=None, verbose=0)"
      ]
     },
     "execution_count": 57,
     "metadata": {},
     "output_type": "execute_result"
    }
   ],
   "source": [
    "param_grid = {'C': [x for x in np.linspace(0.001, 5, num = 100)**2]}\n",
    "grid_search = GridSearchCV(LogisticRegression(penalty='l2'), param_grid, n_jobs=-1)\n",
    "grid_search.fit(census_2010_copy, census_2010_train)"
   ]
  },
  {
   "cell_type": "code",
   "execution_count": 58,
   "metadata": {},
   "outputs": [
    {
     "name": "stderr",
     "output_type": "stream",
     "text": [
      "c:\\users\\jeevs\\appdata\\local\\programs\\python\\python37\\lib\\site-packages\\sklearn\\linear_model\\logistic.py:432: FutureWarning: Default solver will be changed to 'lbfgs' in 0.22. Specify a solver to silence this warning.\n",
      "  FutureWarning)\n",
      "c:\\users\\jeevs\\appdata\\local\\programs\\python\\python37\\lib\\site-packages\\sklearn\\linear_model\\logistic.py:432: FutureWarning: Default solver will be changed to 'lbfgs' in 0.22. Specify a solver to silence this warning.\n",
      "  FutureWarning)\n",
      "c:\\users\\jeevs\\appdata\\local\\programs\\python\\python37\\lib\\site-packages\\sklearn\\linear_model\\logistic.py:432: FutureWarning: Default solver will be changed to 'lbfgs' in 0.22. Specify a solver to silence this warning.\n",
      "  FutureWarning)\n",
      "c:\\users\\jeevs\\appdata\\local\\programs\\python\\python37\\lib\\site-packages\\sklearn\\linear_model\\logistic.py:432: FutureWarning: Default solver will be changed to 'lbfgs' in 0.22. Specify a solver to silence this warning.\n",
      "  FutureWarning)\n",
      "c:\\users\\jeevs\\appdata\\local\\programs\\python\\python37\\lib\\site-packages\\sklearn\\linear_model\\logistic.py:432: FutureWarning: Default solver will be changed to 'lbfgs' in 0.22. Specify a solver to silence this warning.\n",
      "  FutureWarning)\n"
     ]
    },
    {
     "data": {
      "text/plain": [
       "0.8405972067729577"
      ]
     },
     "execution_count": 58,
     "metadata": {},
     "output_type": "execute_result"
    }
   ],
   "source": [
    "final_model = grid_search.best_estimator_\n",
    "logreg_scores = cross_val_score(final_model, census_2010_copy, census_2010_train, cv=5)\n",
    "logreg_scores.mean()"
   ]
  },
  {
   "cell_type": "markdown",
   "metadata": {},
   "source": [
    "### Random Forest"
   ]
  },
  {
   "cell_type": "code",
   "execution_count": 59,
   "metadata": {},
   "outputs": [
    {
     "data": {
      "text/plain": [
       "0.9977767890248425"
      ]
     },
     "execution_count": 59,
     "metadata": {},
     "output_type": "execute_result"
    }
   ],
   "source": [
    "forest_clf = RandomForestClassifier(n_estimators=100, random_state=42)\n",
    "forest_clf.fit(census_2010_copy, census_2010_train)\n",
    "forest_scores = cross_val_score(forest_clf, census_2010_copy, census_2010_train, cv=5)\n",
    "forest_scores.mean()"
   ]
  },
  {
   "cell_type": "code",
   "execution_count": 60,
   "metadata": {},
   "outputs": [
    {
     "name": "stdout",
     "output_type": "stream",
     "text": [
      "Fitting 3 folds for each of 1000 candidates, totalling 3000 fits\n"
     ]
    },
    {
     "name": "stderr",
     "output_type": "stream",
     "text": [
      "[Parallel(n_jobs=-1)]: Using backend LokyBackend with 12 concurrent workers.\n",
      "[Parallel(n_jobs=-1)]: Done  17 tasks      | elapsed:   10.5s\n",
      "[Parallel(n_jobs=-1)]: Done 138 tasks      | elapsed:  1.3min\n",
      "[Parallel(n_jobs=-1)]: Done 341 tasks      | elapsed:  3.3min\n",
      "[Parallel(n_jobs=-1)]: Done 624 tasks      | elapsed:  5.9min\n",
      "[Parallel(n_jobs=-1)]: Done 989 tasks      | elapsed:  9.6min\n",
      "[Parallel(n_jobs=-1)]: Done 1434 tasks      | elapsed: 13.7min\n",
      "[Parallel(n_jobs=-1)]: Done 1961 tasks      | elapsed: 18.8min\n",
      "[Parallel(n_jobs=-1)]: Done 2568 tasks      | elapsed: 24.6min\n",
      "[Parallel(n_jobs=-1)]: Done 3000 out of 3000 | elapsed: 28.4min finished\n"
     ]
    },
    {
     "data": {
      "text/plain": [
       "RandomizedSearchCV(cv=3, error_score='raise-deprecating',\n",
       "                   estimator=RandomForestClassifier(bootstrap=True,\n",
       "                                                    class_weight=None,\n",
       "                                                    criterion='gini',\n",
       "                                                    max_depth=None,\n",
       "                                                    max_features='auto',\n",
       "                                                    max_leaf_nodes=None,\n",
       "                                                    min_impurity_decrease=0.0,\n",
       "                                                    min_impurity_split=None,\n",
       "                                                    min_samples_leaf=1,\n",
       "                                                    min_samples_split=2,\n",
       "                                                    min_weight_fraction_leaf=0.0,\n",
       "                                                    n_estimators=100,\n",
       "                                                    n_jobs=None,\n",
       "                                                    oob_score...\n",
       "                                                         'log2'],\n",
       "                                        'min_samples_leaf': [1, 2, 3, 4, 5],\n",
       "                                        'min_samples_split': [2, 3, 4, 5, 6, 7,\n",
       "                                                              8, 9, 10, 11, 12,\n",
       "                                                              13, 14, 15, 20],\n",
       "                                        'n_estimators': [10, 35, 60, 85, 110,\n",
       "                                                         135, 161, 186, 211,\n",
       "                                                         236, 261, 287, 312,\n",
       "                                                         337, 362, 387, 413,\n",
       "                                                         438, 463, 488, 513,\n",
       "                                                         538, 564, 589, 614,\n",
       "                                                         639, 664, 690, 715,\n",
       "                                                         740, ...]},\n",
       "                   pre_dispatch='2*n_jobs', random_state=42, refit=True,\n",
       "                   return_train_score=False, scoring='neg_mean_squared_error',\n",
       "                   verbose=2)"
      ]
     },
     "execution_count": 60,
     "metadata": {},
     "output_type": "execute_result"
    }
   ],
   "source": [
    "n_estimators = [int(x) for x in np.linspace(start = 10, stop = 2000, num = 80)]\n",
    "max_features = ['auto', 'sqrt', 'log2']\n",
    "max_depth = [int(x) for x in np.linspace(10, 220, num = 20)]\n",
    "max_depth.append(None)\n",
    "min_samples_split = [2, 3, 4, 5, 6, 7, 8, 9, 10, 11, 12, 13, 14, 15, 20]\n",
    "min_samples_leaf = [1, 2, 3, 4, 5]\n",
    "bootstrap = [True, False]\n",
    "\n",
    "random_grid = {'n_estimators': n_estimators,\n",
    "               'max_features': max_features,\n",
    "               'max_depth': max_depth,\n",
    "               'min_samples_split': min_samples_split,\n",
    "               'min_samples_leaf': min_samples_leaf,\n",
    "               'bootstrap': bootstrap}\n",
    "\n",
    "rnd_search = RandomizedSearchCV(forest_clf, param_distributions=random_grid,\n",
    "                                n_iter=1000, cv=3, scoring='neg_mean_squared_error',\n",
    "                                verbose=2, random_state=42, n_jobs=-1)\n",
    "rnd_search.fit(census_2010_copy, census_2010_train)"
   ]
  },
  {
   "cell_type": "code",
   "execution_count": 61,
   "metadata": {},
   "outputs": [
    {
     "data": {
      "text/plain": [
       "{'n_estimators': 1823,\n",
       " 'min_samples_split': 4,\n",
       " 'min_samples_leaf': 1,\n",
       " 'max_features': 'auto',\n",
       " 'max_depth': 76,\n",
       " 'bootstrap': False}"
      ]
     },
     "execution_count": 61,
     "metadata": {},
     "output_type": "execute_result"
    }
   ],
   "source": [
    "rnd_search.best_params_"
   ]
  },
  {
   "cell_type": "code",
   "execution_count": 63,
   "metadata": {},
   "outputs": [
    {
     "data": {
      "text/plain": [
       "0.9988881473241873"
      ]
     },
     "execution_count": 63,
     "metadata": {},
     "output_type": "execute_result"
    }
   ],
   "source": [
    "final_model = rnd_search.best_estimator_\n",
    "forest_scores = cross_val_score(final_model, census_2010_copy, census_2010_train, cv=5)\n",
    "forest_scores.mean()"
   ]
  },
  {
   "cell_type": "code",
   "execution_count": 22,
   "metadata": {},
   "outputs": [
    {
     "data": {
      "text/plain": [
       "0.9988881473241873"
      ]
     },
     "execution_count": 22,
     "metadata": {},
     "output_type": "execute_result"
    }
   ],
   "source": [
    "final_model = RandomForestClassifier(n_estimators=1823, random_state=42, min_samples_split=4, min_samples_leaf=1,\n",
    "                                    max_features='auto', max_depth=76, bootstrap=False)\n",
    "forest_scores = cross_val_score(final_model, census_2010_copy, census_2010_train, cv=5)\n",
    "forest_scores.mean()"
   ]
  },
  {
   "cell_type": "markdown",
   "metadata": {},
   "source": [
    "Save model"
   ]
  },
  {
   "cell_type": "code",
   "execution_count": 25,
   "metadata": {},
   "outputs": [
    {
     "data": {
      "text/plain": [
       "['rnd_forest_clf__gentrif_elig.pkl']"
      ]
     },
     "execution_count": 25,
     "metadata": {},
     "output_type": "execute_result"
    }
   ],
   "source": [
    "joblib.dump(final_model, 'rnd_forest_clf__gentrif_elig.pkl')"
   ]
  },
  {
   "cell_type": "markdown",
   "metadata": {},
   "source": [
    "Load model"
   ]
  },
  {
   "cell_type": "code",
   "execution_count": 23,
   "metadata": {},
   "outputs": [],
   "source": [
    "loaded_model = joblib.load('rnd_forest_clf__gentrif_elig.pkl')"
   ]
  },
  {
   "cell_type": "markdown",
   "metadata": {},
   "source": [
    "### Combined dataset"
   ]
  },
  {
   "cell_type": "markdown",
   "metadata": {},
   "source": [
    "##### Load data"
   ]
  },
  {
   "cell_type": "code",
   "execution_count": 21,
   "metadata": {},
   "outputs": [],
   "source": [
    "census_2010 = load_data(\"Census2010.csv\", data_path)\n",
    "census_2011 = load_data(\"Census2011.csv\", data_path)\n",
    "census_2012 = load_data(\"Census2012.csv\", data_path)\n",
    "census_2013 = load_data(\"Census2013.csv\", data_path)\n",
    "census_2014 = load_data(\"Census2014.csv\", data_path)\n",
    "census_2015 = load_data(\"Census2015.csv\", data_path)\n",
    "census_2016 = load_data(\"Census2016.csv\", data_path)\n",
    "census_2017 = load_data(\"Census2017.csv\", data_path)\n",
    "census_2018 = load_data(\"Census2018.csv\", data_path)"
   ]
  },
  {
   "cell_type": "code",
   "execution_count": 22,
   "metadata": {},
   "outputs": [],
   "source": [
    "census_data = pd.concat([census_2010, census_2011, census_2012, census_2013, census_2014, census_2015,\n",
    "                       census_2016, census_2017, census_2018])"
   ]
  },
  {
   "cell_type": "code",
   "execution_count": 23,
   "metadata": {},
   "outputs": [
    {
     "data": {
      "text/html": [
       "<div>\n",
       "<style scoped>\n",
       "    .dataframe tbody tr th:only-of-type {\n",
       "        vertical-align: middle;\n",
       "    }\n",
       "\n",
       "    .dataframe tbody tr th {\n",
       "        vertical-align: top;\n",
       "    }\n",
       "\n",
       "    .dataframe thead th {\n",
       "        text-align: right;\n",
       "    }\n",
       "</style>\n",
       "<table border=\"1\" class=\"dataframe\">\n",
       "  <thead>\n",
       "    <tr style=\"text-align: right;\">\n",
       "      <th></th>\n",
       "      <th>Unnamed: 0</th>\n",
       "      <th>geoid</th>\n",
       "      <th>year</th>\n",
       "      <th>NAME</th>\n",
       "      <th>B01001_001E</th>\n",
       "      <th>B19013_001E</th>\n",
       "      <th>B25077_001E</th>\n",
       "      <th>B03002_003E</th>\n",
       "      <th>B03002_004E</th>\n",
       "      <th>B02001_004E</th>\n",
       "      <th>B03002_006E</th>\n",
       "      <th>B03002_007E</th>\n",
       "      <th>B03002_008E</th>\n",
       "      <th>B03002_009E</th>\n",
       "      <th>B03002_012E</th>\n",
       "      <th>state</th>\n",
       "      <th>county</th>\n",
       "      <th>tract</th>\n",
       "    </tr>\n",
       "  </thead>\n",
       "  <tbody>\n",
       "    <tr>\n",
       "      <th>0</th>\n",
       "      <td>0</td>\n",
       "      <td>34003001000</td>\n",
       "      <td>2010</td>\n",
       "      <td>Census Tract 10, Bergen County, New Jersey</td>\n",
       "      <td>6489.0</td>\n",
       "      <td>131563.0</td>\n",
       "      <td>741400.0</td>\n",
       "      <td>5523.0</td>\n",
       "      <td>73.0</td>\n",
       "      <td>0.0</td>\n",
       "      <td>676.0</td>\n",
       "      <td>0.0</td>\n",
       "      <td>50.0</td>\n",
       "      <td>41.0</td>\n",
       "      <td>126.0</td>\n",
       "      <td>34</td>\n",
       "      <td>3</td>\n",
       "      <td>1000</td>\n",
       "    </tr>\n",
       "    <tr>\n",
       "      <th>1</th>\n",
       "      <td>1</td>\n",
       "      <td>34003002100</td>\n",
       "      <td>2010</td>\n",
       "      <td>Census Tract 21, Bergen County, New Jersey</td>\n",
       "      <td>1926.0</td>\n",
       "      <td>172054.0</td>\n",
       "      <td>1000001.0</td>\n",
       "      <td>1217.0</td>\n",
       "      <td>31.0</td>\n",
       "      <td>7.0</td>\n",
       "      <td>509.0</td>\n",
       "      <td>0.0</td>\n",
       "      <td>0.0</td>\n",
       "      <td>9.0</td>\n",
       "      <td>153.0</td>\n",
       "      <td>34</td>\n",
       "      <td>3</td>\n",
       "      <td>2100</td>\n",
       "    </tr>\n",
       "  </tbody>\n",
       "</table>\n",
       "</div>"
      ],
      "text/plain": [
       "   Unnamed: 0        geoid  year                                        NAME  \\\n",
       "0           0  34003001000  2010  Census Tract 10, Bergen County, New Jersey   \n",
       "1           1  34003002100  2010  Census Tract 21, Bergen County, New Jersey   \n",
       "\n",
       "   B01001_001E  B19013_001E  B25077_001E  B03002_003E  B03002_004E  \\\n",
       "0       6489.0     131563.0     741400.0       5523.0         73.0   \n",
       "1       1926.0     172054.0    1000001.0       1217.0         31.0   \n",
       "\n",
       "   B02001_004E  B03002_006E  B03002_007E  B03002_008E  B03002_009E  \\\n",
       "0          0.0        676.0          0.0         50.0         41.0   \n",
       "1          7.0        509.0          0.0          0.0          9.0   \n",
       "\n",
       "   B03002_012E  state  county  tract  \n",
       "0        126.0     34       3   1000  \n",
       "1        153.0     34       3   2100  "
      ]
     },
     "execution_count": 23,
     "metadata": {},
     "output_type": "execute_result"
    }
   ],
   "source": [
    "census_data.head(2)"
   ]
  },
  {
   "cell_type": "markdown",
   "metadata": {},
   "source": [
    "##### Change column heading names"
   ]
  },
  {
   "cell_type": "code",
   "execution_count": 24,
   "metadata": {},
   "outputs": [],
   "source": [
    "census_data.columns = ['index', 'geoid', 'year', 'name', 'population', 'household_income', 'home_value', \n",
    "                        'no_nonh_caucasians', 'no_nonh_blacks/aas', 'no_amerinds_alskns', 'no_nonh_asians',\n",
    "                        'no_nonh_hawaii_pacific', 'no_nonh_others', 'no_nonh_multi', 'no_hisp_latin', 'state', 'county', 'tract']"
   ]
  },
  {
   "cell_type": "code",
   "execution_count": 25,
   "metadata": {},
   "outputs": [
    {
     "data": {
      "text/html": [
       "<div>\n",
       "<style scoped>\n",
       "    .dataframe tbody tr th:only-of-type {\n",
       "        vertical-align: middle;\n",
       "    }\n",
       "\n",
       "    .dataframe tbody tr th {\n",
       "        vertical-align: top;\n",
       "    }\n",
       "\n",
       "    .dataframe thead th {\n",
       "        text-align: right;\n",
       "    }\n",
       "</style>\n",
       "<table border=\"1\" class=\"dataframe\">\n",
       "  <thead>\n",
       "    <tr style=\"text-align: right;\">\n",
       "      <th></th>\n",
       "      <th>index</th>\n",
       "      <th>geoid</th>\n",
       "      <th>year</th>\n",
       "      <th>name</th>\n",
       "      <th>population</th>\n",
       "      <th>household_income</th>\n",
       "      <th>home_value</th>\n",
       "      <th>no_nonh_caucasians</th>\n",
       "      <th>no_nonh_blacks/aas</th>\n",
       "      <th>no_amerinds_alskns</th>\n",
       "      <th>no_nonh_asians</th>\n",
       "      <th>no_nonh_hawaii_pacific</th>\n",
       "      <th>no_nonh_others</th>\n",
       "      <th>no_nonh_multi</th>\n",
       "      <th>no_hisp_latin</th>\n",
       "      <th>state</th>\n",
       "      <th>county</th>\n",
       "      <th>tract</th>\n",
       "    </tr>\n",
       "  </thead>\n",
       "  <tbody>\n",
       "    <tr>\n",
       "      <th>0</th>\n",
       "      <td>0</td>\n",
       "      <td>34003001000</td>\n",
       "      <td>2010</td>\n",
       "      <td>Census Tract 10, Bergen County, New Jersey</td>\n",
       "      <td>6489.0</td>\n",
       "      <td>131563.0</td>\n",
       "      <td>741400.0</td>\n",
       "      <td>5523.0</td>\n",
       "      <td>73.0</td>\n",
       "      <td>0.0</td>\n",
       "      <td>676.0</td>\n",
       "      <td>0.0</td>\n",
       "      <td>50.0</td>\n",
       "      <td>41.0</td>\n",
       "      <td>126.0</td>\n",
       "      <td>34</td>\n",
       "      <td>3</td>\n",
       "      <td>1000</td>\n",
       "    </tr>\n",
       "    <tr>\n",
       "      <th>1</th>\n",
       "      <td>1</td>\n",
       "      <td>34003002100</td>\n",
       "      <td>2010</td>\n",
       "      <td>Census Tract 21, Bergen County, New Jersey</td>\n",
       "      <td>1926.0</td>\n",
       "      <td>172054.0</td>\n",
       "      <td>1000001.0</td>\n",
       "      <td>1217.0</td>\n",
       "      <td>31.0</td>\n",
       "      <td>7.0</td>\n",
       "      <td>509.0</td>\n",
       "      <td>0.0</td>\n",
       "      <td>0.0</td>\n",
       "      <td>9.0</td>\n",
       "      <td>153.0</td>\n",
       "      <td>34</td>\n",
       "      <td>3</td>\n",
       "      <td>2100</td>\n",
       "    </tr>\n",
       "  </tbody>\n",
       "</table>\n",
       "</div>"
      ],
      "text/plain": [
       "   index        geoid  year                                        name  \\\n",
       "0      0  34003001000  2010  Census Tract 10, Bergen County, New Jersey   \n",
       "1      1  34003002100  2010  Census Tract 21, Bergen County, New Jersey   \n",
       "\n",
       "   population  household_income  home_value  no_nonh_caucasians  \\\n",
       "0      6489.0          131563.0    741400.0              5523.0   \n",
       "1      1926.0          172054.0   1000001.0              1217.0   \n",
       "\n",
       "   no_nonh_blacks/aas  no_amerinds_alskns  no_nonh_asians  \\\n",
       "0                73.0                 0.0           676.0   \n",
       "1                31.0                 7.0           509.0   \n",
       "\n",
       "   no_nonh_hawaii_pacific  no_nonh_others  no_nonh_multi  no_hisp_latin  \\\n",
       "0                     0.0            50.0           41.0          126.0   \n",
       "1                     0.0             0.0            9.0          153.0   \n",
       "\n",
       "   state  county  tract  \n",
       "0     34       3   1000  \n",
       "1     34       3   2100  "
      ]
     },
     "execution_count": 25,
     "metadata": {},
     "output_type": "execute_result"
    }
   ],
   "source": [
    "census_data.head(2)"
   ]
  },
  {
   "cell_type": "code",
   "execution_count": 26,
   "metadata": {},
   "outputs": [
    {
     "name": "stdout",
     "output_type": "stream",
     "text": [
      "<class 'pandas.core.frame.DataFrame'>\n",
      "Int64Index: 42301 entries, 0 to 4699\n",
      "Data columns (total 18 columns):\n",
      "index                     42301 non-null int64\n",
      "geoid                     42301 non-null int64\n",
      "year                      42301 non-null int64\n",
      "name                      42301 non-null object\n",
      "population                42301 non-null float64\n",
      "household_income          42294 non-null float64\n",
      "home_value                42222 non-null float64\n",
      "no_nonh_caucasians        42301 non-null float64\n",
      "no_nonh_blacks/aas        42301 non-null float64\n",
      "no_amerinds_alskns        42301 non-null float64\n",
      "no_nonh_asians            42301 non-null float64\n",
      "no_nonh_hawaii_pacific    42301 non-null float64\n",
      "no_nonh_others            42301 non-null float64\n",
      "no_nonh_multi             42301 non-null float64\n",
      "no_hisp_latin             42301 non-null float64\n",
      "state                     42301 non-null int64\n",
      "county                    42301 non-null int64\n",
      "tract                     42301 non-null int64\n",
      "dtypes: float64(11), int64(6), object(1)\n",
      "memory usage: 6.1+ MB\n"
     ]
    }
   ],
   "source": [
    "census_data.info()"
   ]
  },
  {
   "cell_type": "markdown",
   "metadata": {},
   "source": [
    "##### Remove corrupted entries"
   ]
  },
  {
   "cell_type": "code",
   "execution_count": 27,
   "metadata": {},
   "outputs": [
    {
     "name": "stdout",
     "output_type": "stream",
     "text": [
      "<class 'pandas.core.frame.DataFrame'>\n",
      "Int64Index: 40130 entries, 0 to 4699\n",
      "Data columns (total 18 columns):\n",
      "index                     40130 non-null int64\n",
      "geoid                     40130 non-null int64\n",
      "year                      40130 non-null int64\n",
      "name                      40130 non-null object\n",
      "population                40130 non-null float64\n",
      "household_income          40130 non-null float64\n",
      "home_value                40130 non-null float64\n",
      "no_nonh_caucasians        40130 non-null float64\n",
      "no_nonh_blacks/aas        40130 non-null float64\n",
      "no_amerinds_alskns        40130 non-null float64\n",
      "no_nonh_asians            40130 non-null float64\n",
      "no_nonh_hawaii_pacific    40130 non-null float64\n",
      "no_nonh_others            40130 non-null float64\n",
      "no_nonh_multi             40130 non-null float64\n",
      "no_hisp_latin             40130 non-null float64\n",
      "state                     40130 non-null int64\n",
      "county                    40130 non-null int64\n",
      "tract                     40130 non-null int64\n",
      "dtypes: float64(11), int64(6), object(1)\n",
      "memory usage: 5.8+ MB\n"
     ]
    }
   ],
   "source": [
    "census_data = census_data[census_data['population'] > 0]\n",
    "census_data = census_data[census_data['household_income'] > 0]\n",
    "census_data = census_data[census_data['home_value'] > 0]\n",
    "census_data.info()"
   ]
  },
  {
   "cell_type": "markdown",
   "metadata": {},
   "source": [
    "##### Gentrification Eligibility"
   ]
  },
  {
   "cell_type": "markdown",
   "metadata": {},
   "source": [
    "New column, initialised with 0s."
   ]
  },
  {
   "cell_type": "code",
   "execution_count": 28,
   "metadata": {},
   "outputs": [],
   "source": [
    "census_data['gentrify_elig'] = 0"
   ]
  },
  {
   "cell_type": "markdown",
   "metadata": {},
   "source": [
    "40th percentile of median household income"
   ]
  },
  {
   "cell_type": "code",
   "execution_count": 29,
   "metadata": {
    "scrolled": true
   },
   "outputs": [
    {
     "data": {
      "text/plain": [
       "61278.4"
      ]
     },
     "execution_count": 29,
     "metadata": {},
     "output_type": "execute_result"
    }
   ],
   "source": [
    "income_40_percentile = census_data['household_income'].quantile(0.4)\n",
    "income_40_percentile"
   ]
  },
  {
   "cell_type": "markdown",
   "metadata": {},
   "source": [
    "40th percentile of median home value"
   ]
  },
  {
   "cell_type": "code",
   "execution_count": 30,
   "metadata": {},
   "outputs": [
    {
     "data": {
      "text/plain": [
       "385700.0"
      ]
     },
     "execution_count": 30,
     "metadata": {},
     "output_type": "execute_result"
    }
   ],
   "source": [
    "value_40_percentile = census_data['home_value'].quantile(0.4)\n",
    "value_40_percentile"
   ]
  },
  {
   "cell_type": "code",
   "execution_count": 31,
   "metadata": {},
   "outputs": [],
   "source": [
    "census_data.loc[(census_data['household_income'] <= income_40_percentile) & \n",
    "               (census_data['home_value'] <= value_40_percentile) &\n",
    "               (census_data['population'] >= 500), 'gentrify_elig'] = 1"
   ]
  },
  {
   "cell_type": "markdown",
   "metadata": {},
   "source": [
    "##### Feature Engineering"
   ]
  },
  {
   "cell_type": "markdown",
   "metadata": {},
   "source": [
    "Correlation"
   ]
  },
  {
   "cell_type": "code",
   "execution_count": 32,
   "metadata": {
    "scrolled": true
   },
   "outputs": [
    {
     "data": {
      "text/plain": [
       "gentrify_elig             1.000000\n",
       "no_hisp_latin             0.330896\n",
       "no_nonh_blacks/aas        0.242014\n",
       "no_amerinds_alskns        0.074572\n",
       "no_nonh_others            0.041577\n",
       "population                0.021747\n",
       "no_nonh_hawaii_pacific    0.013647\n",
       "tract                    -0.021100\n",
       "year                     -0.031750\n",
       "no_nonh_multi            -0.045377\n",
       "no_nonh_asians           -0.104720\n",
       "state                    -0.167929\n",
       "geoid                    -0.171023\n",
       "county                   -0.203370\n",
       "index                    -0.211035\n",
       "no_nonh_caucasians       -0.287119\n",
       "home_value               -0.439094\n",
       "household_income         -0.441597\n",
       "Name: gentrify_elig, dtype: float64"
      ]
     },
     "execution_count": 32,
     "metadata": {},
     "output_type": "execute_result"
    }
   ],
   "source": [
    "corr_matrix = census_data.corr()\n",
    "corr_matrix[\"gentrify_elig\"].sort_values(ascending=False)"
   ]
  },
  {
   "cell_type": "markdown",
   "metadata": {},
   "source": [
    "Add features"
   ]
  },
  {
   "cell_type": "code",
   "execution_count": 33,
   "metadata": {
    "scrolled": true
   },
   "outputs": [
    {
     "data": {
      "text/html": [
       "<div>\n",
       "<style scoped>\n",
       "    .dataframe tbody tr th:only-of-type {\n",
       "        vertical-align: middle;\n",
       "    }\n",
       "\n",
       "    .dataframe tbody tr th {\n",
       "        vertical-align: top;\n",
       "    }\n",
       "\n",
       "    .dataframe thead th {\n",
       "        text-align: right;\n",
       "    }\n",
       "</style>\n",
       "<table border=\"1\" class=\"dataframe\">\n",
       "  <thead>\n",
       "    <tr style=\"text-align: right;\">\n",
       "      <th></th>\n",
       "      <th>index</th>\n",
       "      <th>geoid</th>\n",
       "      <th>year</th>\n",
       "      <th>name</th>\n",
       "      <th>population</th>\n",
       "      <th>household_income</th>\n",
       "      <th>home_value</th>\n",
       "      <th>no_nonh_caucasians</th>\n",
       "      <th>no_nonh_blacks/aas</th>\n",
       "      <th>no_amerinds_alskns</th>\n",
       "      <th>...</th>\n",
       "      <th>proportion_hisp_latin</th>\n",
       "      <th>proportion_nonh_black</th>\n",
       "      <th>proportion_amerinds_alskns</th>\n",
       "      <th>proportion_nonh_others</th>\n",
       "      <th>proportion_nonh_hawaii_pacific</th>\n",
       "      <th>proportion_nonh_multi</th>\n",
       "      <th>proportion_nonh_asians</th>\n",
       "      <th>proportion_nonh_caucasians</th>\n",
       "      <th>no_non_white</th>\n",
       "      <th>proportion_non_white</th>\n",
       "    </tr>\n",
       "  </thead>\n",
       "  <tbody>\n",
       "    <tr>\n",
       "      <th>0</th>\n",
       "      <td>0</td>\n",
       "      <td>34003001000</td>\n",
       "      <td>2010</td>\n",
       "      <td>Census Tract 10, Bergen County, New Jersey</td>\n",
       "      <td>6489.0</td>\n",
       "      <td>131563.0</td>\n",
       "      <td>741400.0</td>\n",
       "      <td>5523.0</td>\n",
       "      <td>73.0</td>\n",
       "      <td>0.0</td>\n",
       "      <td>...</td>\n",
       "      <td>0.019417</td>\n",
       "      <td>0.011250</td>\n",
       "      <td>0.000000</td>\n",
       "      <td>0.007705</td>\n",
       "      <td>0.0</td>\n",
       "      <td>0.006318</td>\n",
       "      <td>0.104176</td>\n",
       "      <td>0.851133</td>\n",
       "      <td>966.0</td>\n",
       "      <td>0.148867</td>\n",
       "    </tr>\n",
       "    <tr>\n",
       "      <th>1</th>\n",
       "      <td>1</td>\n",
       "      <td>34003002100</td>\n",
       "      <td>2010</td>\n",
       "      <td>Census Tract 21, Bergen County, New Jersey</td>\n",
       "      <td>1926.0</td>\n",
       "      <td>172054.0</td>\n",
       "      <td>1000001.0</td>\n",
       "      <td>1217.0</td>\n",
       "      <td>31.0</td>\n",
       "      <td>7.0</td>\n",
       "      <td>...</td>\n",
       "      <td>0.079439</td>\n",
       "      <td>0.016096</td>\n",
       "      <td>0.003634</td>\n",
       "      <td>0.000000</td>\n",
       "      <td>0.0</td>\n",
       "      <td>0.004673</td>\n",
       "      <td>0.264278</td>\n",
       "      <td>0.631880</td>\n",
       "      <td>709.0</td>\n",
       "      <td>0.368120</td>\n",
       "    </tr>\n",
       "  </tbody>\n",
       "</table>\n",
       "<p>2 rows × 29 columns</p>\n",
       "</div>"
      ],
      "text/plain": [
       "   index        geoid  year                                        name  \\\n",
       "0      0  34003001000  2010  Census Tract 10, Bergen County, New Jersey   \n",
       "1      1  34003002100  2010  Census Tract 21, Bergen County, New Jersey   \n",
       "\n",
       "   population  household_income  home_value  no_nonh_caucasians  \\\n",
       "0      6489.0          131563.0    741400.0              5523.0   \n",
       "1      1926.0          172054.0   1000001.0              1217.0   \n",
       "\n",
       "   no_nonh_blacks/aas  no_amerinds_alskns  ...  proportion_hisp_latin  \\\n",
       "0                73.0                 0.0  ...               0.019417   \n",
       "1                31.0                 7.0  ...               0.079439   \n",
       "\n",
       "   proportion_nonh_black  proportion_amerinds_alskns  proportion_nonh_others  \\\n",
       "0               0.011250                    0.000000                0.007705   \n",
       "1               0.016096                    0.003634                0.000000   \n",
       "\n",
       "   proportion_nonh_hawaii_pacific  proportion_nonh_multi  \\\n",
       "0                             0.0               0.006318   \n",
       "1                             0.0               0.004673   \n",
       "\n",
       "   proportion_nonh_asians  proportion_nonh_caucasians  no_non_white  \\\n",
       "0                0.104176                    0.851133         966.0   \n",
       "1                0.264278                    0.631880         709.0   \n",
       "\n",
       "   proportion_non_white  \n",
       "0              0.148867  \n",
       "1              0.368120  \n",
       "\n",
       "[2 rows x 29 columns]"
      ]
     },
     "execution_count": 33,
     "metadata": {},
     "output_type": "execute_result"
    }
   ],
   "source": [
    "census_data_copy = census_data.copy()\n",
    "add_features(census_data_copy)\n",
    "census_data_copy.head(2)"
   ]
  },
  {
   "cell_type": "markdown",
   "metadata": {},
   "source": [
    "Correlation, with engineered features"
   ]
  },
  {
   "cell_type": "code",
   "execution_count": 34,
   "metadata": {},
   "outputs": [
    {
     "data": {
      "text/plain": [
       "gentrify_elig                     1.000000\n",
       "proportion_hisp_latin             0.364114\n",
       "proportion_non_white              0.350848\n",
       "no_hisp_latin                     0.330896\n",
       "no_non_white                      0.314527\n",
       "no_nonh_blacks/aas                0.242014\n",
       "proportion_nonh_black             0.231117\n",
       "no_amerinds_alskns                0.074572\n",
       "proportion_amerinds_alskns        0.059358\n",
       "no_nonh_others                    0.041577\n",
       "population                        0.021747\n",
       "proportion_nonh_others            0.018607\n",
       "no_nonh_hawaii_pacific            0.013647\n",
       "proportion_nonh_hawaii_pacific    0.007229\n",
       "tract                            -0.021100\n",
       "year                             -0.031750\n",
       "no_nonh_multi                    -0.045377\n",
       "proportion_nonh_multi            -0.060249\n",
       "no_nonh_asians                   -0.104720\n",
       "proportion_nonh_asians           -0.142732\n",
       "state                            -0.167929\n",
       "geoid                            -0.171023\n",
       "county                           -0.203370\n",
       "index                            -0.211035\n",
       "no_nonh_caucasians               -0.287119\n",
       "proportion_nonh_caucasians       -0.350848\n",
       "home_value                       -0.439094\n",
       "household_income                 -0.441597\n",
       "Name: gentrify_elig, dtype: float64"
      ]
     },
     "execution_count": 34,
     "metadata": {},
     "output_type": "execute_result"
    }
   ],
   "source": [
    "corr_matrix = census_data_copy.corr()\n",
    "corr_matrix[\"gentrify_elig\"].sort_values(ascending=False)"
   ]
  },
  {
   "cell_type": "markdown",
   "metadata": {},
   "source": [
    "Drop unused columns and create x, y dataframes for training"
   ]
  },
  {
   "cell_type": "code",
   "execution_count": 35,
   "metadata": {},
   "outputs": [],
   "source": [
    "census_data_copy.to_csv('2010_to_2018__gentrify_elig__engineered_features.csv', index=False)"
   ]
  },
  {
   "cell_type": "code",
   "execution_count": 38,
   "metadata": {},
   "outputs": [],
   "source": [
    "census_data_copy = census_data_copy.drop(columns=['index', 'geoid', 'year', 'name', 'state', 'county', 'tract'])\n",
    "census_data_copy = census_data_copy.sample(frac = 1) #randomise"
   ]
  },
  {
   "cell_type": "code",
   "execution_count": 39,
   "metadata": {},
   "outputs": [],
   "source": [
    "census_data_y = census_data_copy['gentrify_elig']\n",
    "census_data_x = census_data_copy.drop(columns=['gentrify_elig'])"
   ]
  },
  {
   "cell_type": "markdown",
   "metadata": {},
   "source": [
    "##### Random Forest Classifier"
   ]
  },
  {
   "cell_type": "code",
   "execution_count": 40,
   "metadata": {},
   "outputs": [
    {
     "data": {
      "text/plain": [
       "0.999950158868413"
      ]
     },
     "execution_count": 40,
     "metadata": {},
     "output_type": "execute_result"
    }
   ],
   "source": [
    "forest_clf = RandomForestClassifier(n_estimators=100, random_state=42)\n",
    "forest_clf.fit(census_data_x, census_data_y)\n",
    "forest_scores = cross_val_score(forest_clf, census_data_x, census_data_y, cv=5)\n",
    "forest_scores.mean()"
   ]
  },
  {
   "cell_type": "markdown",
   "metadata": {},
   "source": [
    "### Test against data in other areas"
   ]
  },
  {
   "cell_type": "markdown",
   "metadata": {},
   "source": [
    "##### San Francisco–Oakland–Berkeley, CA Metropolitan Statistical Area\n",
    "Consists of the following counties:\n",
    "- San Francisco,\n",
    "- Alameda,\n",
    "- Marin,\n",
    "- Contra Costa,\n",
    "- San Mateo."
   ]
  },
  {
   "cell_type": "code",
   "execution_count": 41,
   "metadata": {},
   "outputs": [],
   "source": [
    "ca_data_path = os.path.join('datasets', 'CA MSA')\n",
    "ca_census_2010 = load_data(\"ca_msa_census_2010.csv\", ca_data_path)\n",
    "ca_census_2011 = load_data(\"ca_msa_census_2011.csv\", ca_data_path)\n",
    "ca_census_2012 = load_data(\"ca_msa_census_2012.csv\", ca_data_path)\n",
    "ca_census_2013 = load_data(\"ca_msa_census_2013.csv\", ca_data_path)\n",
    "ca_census_2014 = load_data(\"ca_msa_census_2014.csv\", ca_data_path)\n",
    "ca_census_2015 = load_data(\"ca_msa_census_2015.csv\", ca_data_path)\n",
    "ca_census_2016 = load_data(\"ca_msa_census_2016.csv\", ca_data_path)\n",
    "ca_census_2017 = load_data(\"ca_msa_census_2017.csv\", ca_data_path)\n",
    "ca_census_2018 = load_data(\"ca_msa_census_2018.csv\", ca_data_path)"
   ]
  },
  {
   "cell_type": "code",
   "execution_count": 42,
   "metadata": {},
   "outputs": [],
   "source": [
    "ca_census_data = pd.concat([ca_census_2010, ca_census_2011, ca_census_2012, ca_census_2013, ca_census_2014, ca_census_2015,\n",
    "                       ca_census_2016, ca_census_2017, ca_census_2018])"
   ]
  },
  {
   "cell_type": "code",
   "execution_count": 45,
   "metadata": {},
   "outputs": [],
   "source": [
    "ca_census_data.columns = ['geoid', 'year', 'name', 'population', 'household_income', 'home_value', \n",
    "                        'no_nonh_caucasians', 'no_nonh_blacks/aas', 'no_amerinds_alskns', 'no_nonh_asians',\n",
    "                        'no_nonh_hawaii_pacific', 'no_nonh_others', 'no_nonh_multi', 'no_hisp_latin', 'state', 'county', 'tract']"
   ]
  },
  {
   "cell_type": "code",
   "execution_count": 49,
   "metadata": {},
   "outputs": [],
   "source": [
    "ca_census_data = ca_census_data[ca_census_data['population'] > 0]\n",
    "ca_census_data = ca_census_data[ca_census_data['household_income'] > 0]\n",
    "ca_census_data = ca_census_data[ca_census_data['home_value'] > 0]"
   ]
  },
  {
   "cell_type": "code",
   "execution_count": 50,
   "metadata": {},
   "outputs": [],
   "source": [
    "ca_census_data['gentrify_elig'] = 0\n",
    "\n",
    "income_40_percentile = ca_census_data['household_income'].quantile(0.4)\n",
    "value_40_percentile = ca_census_data['home_value'].quantile(0.4)\n",
    "\n",
    "ca_census_data.loc[(ca_census_data['household_income'] <= income_40_percentile) & \n",
    "               (ca_census_data['home_value'] <= value_40_percentile) &\n",
    "               (ca_census_data['population'] >= 500), 'gentrify_elig'] = 1"
   ]
  },
  {
   "cell_type": "code",
   "execution_count": 51,
   "metadata": {},
   "outputs": [],
   "source": [
    "ca_census_data_copy = ca_census_data.copy()\n",
    "add_features(ca_census_data_copy)"
   ]
  },
  {
   "cell_type": "code",
   "execution_count": 52,
   "metadata": {},
   "outputs": [
    {
     "data": {
      "text/html": [
       "<div>\n",
       "<style scoped>\n",
       "    .dataframe tbody tr th:only-of-type {\n",
       "        vertical-align: middle;\n",
       "    }\n",
       "\n",
       "    .dataframe tbody tr th {\n",
       "        vertical-align: top;\n",
       "    }\n",
       "\n",
       "    .dataframe thead th {\n",
       "        text-align: right;\n",
       "    }\n",
       "</style>\n",
       "<table border=\"1\" class=\"dataframe\">\n",
       "  <thead>\n",
       "    <tr style=\"text-align: right;\">\n",
       "      <th></th>\n",
       "      <th>geoid</th>\n",
       "      <th>year</th>\n",
       "      <th>name</th>\n",
       "      <th>population</th>\n",
       "      <th>household_income</th>\n",
       "      <th>home_value</th>\n",
       "      <th>no_nonh_caucasians</th>\n",
       "      <th>no_nonh_blacks/aas</th>\n",
       "      <th>no_amerinds_alskns</th>\n",
       "      <th>no_nonh_asians</th>\n",
       "      <th>...</th>\n",
       "      <th>proportion_hisp_latin</th>\n",
       "      <th>proportion_nonh_black</th>\n",
       "      <th>proportion_amerinds_alskns</th>\n",
       "      <th>proportion_nonh_others</th>\n",
       "      <th>proportion_nonh_hawaii_pacific</th>\n",
       "      <th>proportion_nonh_multi</th>\n",
       "      <th>proportion_nonh_asians</th>\n",
       "      <th>proportion_nonh_caucasians</th>\n",
       "      <th>no_non_white</th>\n",
       "      <th>proportion_non_white</th>\n",
       "    </tr>\n",
       "  </thead>\n",
       "  <tbody>\n",
       "    <tr>\n",
       "      <th>0</th>\n",
       "      <td>6075010100</td>\n",
       "      <td>2010</td>\n",
       "      <td>Census Tract 101, San Francisco County, Califo...</td>\n",
       "      <td>3744.0</td>\n",
       "      <td>54095.0</td>\n",
       "      <td>726900.0</td>\n",
       "      <td>1626.0</td>\n",
       "      <td>523.0</td>\n",
       "      <td>11.0</td>\n",
       "      <td>1276.0</td>\n",
       "      <td>...</td>\n",
       "      <td>0.063301</td>\n",
       "      <td>0.139690</td>\n",
       "      <td>0.002938</td>\n",
       "      <td>0.0</td>\n",
       "      <td>0.007212</td>\n",
       "      <td>0.014690</td>\n",
       "      <td>0.340812</td>\n",
       "      <td>0.434295</td>\n",
       "      <td>2118.0</td>\n",
       "      <td>0.565705</td>\n",
       "    </tr>\n",
       "    <tr>\n",
       "      <th>1</th>\n",
       "      <td>6075010200</td>\n",
       "      <td>2010</td>\n",
       "      <td>Census Tract 102, San Francisco County, Califo...</td>\n",
       "      <td>4184.0</td>\n",
       "      <td>89096.0</td>\n",
       "      <td>1000001.0</td>\n",
       "      <td>3193.0</td>\n",
       "      <td>41.0</td>\n",
       "      <td>0.0</td>\n",
       "      <td>385.0</td>\n",
       "      <td>...</td>\n",
       "      <td>0.114962</td>\n",
       "      <td>0.009799</td>\n",
       "      <td>0.000000</td>\n",
       "      <td>0.0</td>\n",
       "      <td>0.000000</td>\n",
       "      <td>0.020076</td>\n",
       "      <td>0.092017</td>\n",
       "      <td>0.763145</td>\n",
       "      <td>991.0</td>\n",
       "      <td>0.236855</td>\n",
       "    </tr>\n",
       "  </tbody>\n",
       "</table>\n",
       "<p>2 rows × 28 columns</p>\n",
       "</div>"
      ],
      "text/plain": [
       "        geoid  year                                               name  \\\n",
       "0  6075010100  2010  Census Tract 101, San Francisco County, Califo...   \n",
       "1  6075010200  2010  Census Tract 102, San Francisco County, Califo...   \n",
       "\n",
       "   population  household_income  home_value  no_nonh_caucasians  \\\n",
       "0      3744.0           54095.0    726900.0              1626.0   \n",
       "1      4184.0           89096.0   1000001.0              3193.0   \n",
       "\n",
       "   no_nonh_blacks/aas  no_amerinds_alskns  no_nonh_asians  ...  \\\n",
       "0               523.0                11.0          1276.0  ...   \n",
       "1                41.0                 0.0           385.0  ...   \n",
       "\n",
       "   proportion_hisp_latin  proportion_nonh_black  proportion_amerinds_alskns  \\\n",
       "0               0.063301               0.139690                    0.002938   \n",
       "1               0.114962               0.009799                    0.000000   \n",
       "\n",
       "   proportion_nonh_others  proportion_nonh_hawaii_pacific  \\\n",
       "0                     0.0                        0.007212   \n",
       "1                     0.0                        0.000000   \n",
       "\n",
       "   proportion_nonh_multi  proportion_nonh_asians  proportion_nonh_caucasians  \\\n",
       "0               0.014690                0.340812                    0.434295   \n",
       "1               0.020076                0.092017                    0.763145   \n",
       "\n",
       "   no_non_white  proportion_non_white  \n",
       "0        2118.0              0.565705  \n",
       "1         991.0              0.236855  \n",
       "\n",
       "[2 rows x 28 columns]"
      ]
     },
     "execution_count": 52,
     "metadata": {},
     "output_type": "execute_result"
    }
   ],
   "source": [
    "ca_census_data_copy.head(2)"
   ]
  },
  {
   "cell_type": "code",
   "execution_count": 53,
   "metadata": {},
   "outputs": [],
   "source": [
    "ca_census_data_copy = ca_census_data_copy.drop(columns=['geoid', 'year', 'name', 'state', 'county', 'tract'])\n",
    "ca_census_data_copy = ca_census_data_copy.sample(frac = 1) #randomise\n",
    "ca_census_data_y = ca_census_data_copy['gentrify_elig']\n",
    "ca_census_data_x = ca_census_data_copy.drop(columns=['gentrify_elig'])"
   ]
  },
  {
   "cell_type": "code",
   "execution_count": 55,
   "metadata": {},
   "outputs": [],
   "source": [
    "ca_predictions = forest_clf.predict(ca_census_data_x)"
   ]
  },
  {
   "cell_type": "code",
   "execution_count": 56,
   "metadata": {},
   "outputs": [],
   "source": [
    "ca_census_data_y_list = ca_census_data_y.values.tolist()"
   ]
  },
  {
   "cell_type": "code",
   "execution_count": 58,
   "metadata": {},
   "outputs": [
    {
     "data": {
      "text/plain": [
       "0.8463596185159339"
      ]
     },
     "execution_count": 58,
     "metadata": {},
     "output_type": "execute_result"
    }
   ],
   "source": [
    "from sklearn.metrics import accuracy_score\n",
    "accuracy_score(ca_predictions, ca_census_data_y_list)"
   ]
  },
  {
   "cell_type": "code",
   "execution_count": 60,
   "metadata": {},
   "outputs": [
    {
     "data": {
      "text/plain": [
       "array([[6171, 1321],\n",
       "       [   0, 1106]], dtype=int64)"
      ]
     },
     "execution_count": 60,
     "metadata": {},
     "output_type": "execute_result"
    }
   ],
   "source": [
    "from sklearn.metrics import confusion_matrix\n",
    "conf_mx = confusion_matrix(ca_predictions, ca_census_data_y_list)\n",
    "conf_mx"
   ]
  },
  {
   "cell_type": "code",
   "execution_count": 61,
   "metadata": {},
   "outputs": [
    {
     "data": {
      "image/png": "[encoded data removed]",
      "text/plain": [
       "<Figure size 288x288 with 1 Axes>"
      ]
     },
     "metadata": {
      "needs_background": "light"
     },
     "output_type": "display_data"
    }
   ],
   "source": [
    "plt.matshow(conf_mx, cmap=plt.cm.gray)\n",
    "plt.show()"
   ]
  },
  {
   "cell_type": "markdown",
   "metadata": {},
   "source": [
    "Many false positives. Num false positives > num true positives."
   ]
  },
  {
   "cell_type": "code",
   "execution_count": 64,
   "metadata": {},
   "outputs": [
    {
     "data": {
      "text/plain": [
       "0.6260968015850552"
      ]
     },
     "execution_count": 64,
     "metadata": {},
     "output_type": "execute_result"
    }
   ],
   "source": [
    "from sklearn.metrics import f1_score\n",
    "f1_score = f1_score(ca_predictions, ca_census_data_y_list)\n",
    "f1_score"
   ]
  },
  {
   "cell_type": "code",
   "execution_count": 67,
   "metadata": {},
   "outputs": [
    {
     "data": {
      "text/plain": [
       "0.45570663370416153"
      ]
     },
     "execution_count": 67,
     "metadata": {},
     "output_type": "execute_result"
    }
   ],
   "source": [
    "from sklearn.metrics import precision_score\n",
    "precision = precision_score(ca_predictions, ca_census_data_y_list)\n",
    "precision"
   ]
  },
  {
   "cell_type": "code",
   "execution_count": 68,
   "metadata": {},
   "outputs": [
    {
     "data": {
      "text/plain": [
       "1.0"
      ]
     },
     "execution_count": 68,
     "metadata": {},
     "output_type": "execute_result"
    }
   ],
   "source": [
    "from sklearn.metrics import recall_score\n",
    "recall_score = recall_score(ca_predictions, ca_census_data_y_list)\n",
    "recall_score"
   ]
  },
  {
   "cell_type": "code",
   "execution_count": 69,
   "metadata": {},
   "outputs": [
    {
     "data": {
      "text/plain": [
       "gentrify_elig                     1.000000\n",
       "proportion_nonh_black             0.510570\n",
       "proportion_hisp_latin             0.494656\n",
       "no_nonh_blacks/aas                0.479871\n",
       "proportion_non_white              0.462821\n",
       "no_hisp_latin                     0.397834\n",
       "no_non_white                      0.271602\n",
       "proportion_amerinds_alskns        0.204831\n",
       "no_amerinds_alskns                0.182181\n",
       "proportion_nonh_hawaii_pacific    0.137445\n",
       "no_nonh_hawaii_pacific            0.118210\n",
       "proportion_nonh_others            0.002359\n",
       "no_nonh_others                   -0.007769\n",
       "population                       -0.042924\n",
       "proportion_nonh_multi            -0.086612\n",
       "no_nonh_multi                    -0.102543\n",
       "proportion_nonh_asians           -0.158762\n",
       "no_nonh_asians                   -0.175580\n",
       "no_nonh_caucasians               -0.405901\n",
       "proportion_nonh_caucasians       -0.462821\n",
       "household_income                 -0.594376\n",
       "home_value                       -0.613769\n",
       "Name: gentrify_elig, dtype: float64"
      ]
     },
     "execution_count": 69,
     "metadata": {},
     "output_type": "execute_result"
    }
   ],
   "source": [
    "corr_matrix = ca_census_data_copy.corr()\n",
    "corr_matrix[\"gentrify_elig\"].sort_values(ascending=False)"
   ]
  },
  {
   "cell_type": "code",
   "execution_count": null,
   "metadata": {},
   "outputs": [],
   "source": []
  }
 ],
 "metadata": {
  "kernelspec": {
   "display_name": "Python 3",
   "language": "python",
   "name": "python3"
  },
  "language_info": {
   "codemirror_mode": {
    "name": "ipython",
    "version": 3
   },
   "file_extension": ".py",
   "mimetype": "text/x-python",
   "name": "python",
   "nbconvert_exporter": "python",
   "pygments_lexer": "ipython3",
   "version": "3.7.4"
  }
 },
 "nbformat": 4,
 "nbformat_minor": 4
}
