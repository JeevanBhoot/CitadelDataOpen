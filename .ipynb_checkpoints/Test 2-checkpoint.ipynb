{
 "cells": [
  {
   "cell_type": "code",
   "execution_count": 16,
   "metadata": {},
   "outputs": [],
   "source": [
    "import os\n",
    "import joblib\n",
    "import numpy as np\n",
    "%matplotlib inline\n",
    "import matplotlib.pyplot as plt\n",
    "import sklearn\n",
    "import pandas as pd\n",
    "from sklearn.base import BaseEstimator, TransformerMixin\n",
    "from sklearn.pipeline import Pipeline\n",
    "from sklearn.impute import SimpleImputer\n",
    "from sklearn.preprocessing import OneHotEncoder\n",
    "from sklearn.ensemble import RandomForestClassifier\n",
    "from sklearn.model_selection import cross_val_score\n",
    "from sklearn.model_selection import RandomizedSearchCV\n",
    "from sklearn.pipeline import FeatureUnion\n",
    "from sklearn.preprocessing import OrdinalEncoder\n",
    "from sklearn.linear_model import LogisticRegression\n",
    "from sklearn.model_selection import GridSearchCV"
   ]
  },
  {
   "cell_type": "code",
   "execution_count": 17,
   "metadata": {},
   "outputs": [],
   "source": [
    "data_path = os.path.join('datasets', 'nyc education + jobs')\n",
    "\n",
    "def load_data(filename, path):\n",
    "    csv_path = os.path.join(path, filename)\n",
    "    return pd.read_csv(csv_path)\n",
    "\n",
    "census_2010 = load_data(\"nyc_census_2010.csv\", data_path)\n",
    "census_2018 = load_data(\"nyc_census_2018.csv\", data_path)"
   ]
  },
  {
   "cell_type": "code",
   "execution_count": 18,
   "metadata": {},
   "outputs": [],
   "source": [
    "census_2010 = census_2010.drop(columns=['year', 'NAME', 'state', 'county', 'tract', 'B08528_010E'])\n",
    "census_2018 = census_2018.drop(columns=['year', 'NAME', 'state', 'county', 'tract', 'B08528_010E'])"
   ]
  },
  {
   "cell_type": "markdown",
   "metadata": {},
   "source": [
    "13.5%\n",
    "2018 price * 0.865 = 2010 price"
   ]
  },
  {
   "cell_type": "code",
   "execution_count": 19,
   "metadata": {},
   "outputs": [],
   "source": [
    "def column_names(dataframe, year):\n",
    "    year_columns = []\n",
    "    columns = ['population', 'household_income', 'home_value', \n",
    "                        'no_nonh_caucasians', 'no_nonh_blacks/aas', 'no_amerinds_alskns', 'no_nonh_asians',\n",
    "                        'no_nonh_hawaii_pacific', 'no_nonh_others', 'no_nonh_multi', 'no_hisp_latin',\n",
    "                        'construction', 'retail', 'information', 'finance', 'edu_health_social',\n",
    "                        'arts_recreation_accom', 'public_admin', 'armed_forces', 'bachelors', 'male<25_bachelors',\n",
    "                        'female<25_bachelors']\n",
    "    year_columns.append('geoid')\n",
    "    for i in columns:\n",
    "        year_columns.append(year + '_' + i)\n",
    "    dataframe.columns = year_columns\n",
    "\n",
    "column_names(census_2010, '2010')\n",
    "column_names(census_2018, '2018')"
   ]
  },
  {
   "cell_type": "code",
   "execution_count": 20,
   "metadata": {},
   "outputs": [
    {
     "name": "stdout",
     "output_type": "stream",
     "text": [
      "<class 'pandas.core.frame.DataFrame'>\n",
      "RangeIndex: 4701 entries, 0 to 4700\n",
      "Data columns (total 23 columns):\n",
      "geoid                          4701 non-null int64\n",
      "2010_population                4701 non-null float64\n",
      "2010_household_income          4701 non-null float64\n",
      "2010_home_value                4701 non-null float64\n",
      "2010_no_nonh_caucasians        4701 non-null float64\n",
      "2010_no_nonh_blacks/aas        4701 non-null float64\n",
      "2010_no_amerinds_alskns        4701 non-null float64\n",
      "2010_no_nonh_asians            4701 non-null float64\n",
      "2010_no_nonh_hawaii_pacific    4701 non-null float64\n",
      "2010_no_nonh_others            4701 non-null float64\n",
      "2010_no_nonh_multi             4701 non-null float64\n",
      "2010_no_hisp_latin             4701 non-null float64\n",
      "2010_construction              4701 non-null float64\n",
      "2010_retail                    4701 non-null float64\n",
      "2010_information               4701 non-null float64\n",
      "2010_finance                   4701 non-null float64\n",
      "2010_edu_health_social         4701 non-null float64\n",
      "2010_arts_recreation_accom     4701 non-null float64\n",
      "2010_public_admin              4701 non-null float64\n",
      "2010_armed_forces              4701 non-null float64\n",
      "2010_bachelors                 4701 non-null float64\n",
      "2010_male<25_bachelors         4701 non-null float64\n",
      "2010_female<25_bachelors       4701 non-null float64\n",
      "dtypes: float64(22), int64(1)\n",
      "memory usage: 844.8 KB\n"
     ]
    }
   ],
   "source": [
    "census_2010.info()"
   ]
  },
  {
   "cell_type": "code",
   "execution_count": 21,
   "metadata": {},
   "outputs": [
    {
     "name": "stdout",
     "output_type": "stream",
     "text": [
      "<class 'pandas.core.frame.DataFrame'>\n",
      "RangeIndex: 4700 entries, 0 to 4699\n",
      "Data columns (total 23 columns):\n",
      "geoid                          4700 non-null int64\n",
      "2018_population                4700 non-null float64\n",
      "2018_household_income          4700 non-null float64\n",
      "2018_home_value                4700 non-null float64\n",
      "2018_no_nonh_caucasians        4700 non-null float64\n",
      "2018_no_nonh_blacks/aas        4700 non-null float64\n",
      "2018_no_amerinds_alskns        4700 non-null float64\n",
      "2018_no_nonh_asians            4700 non-null float64\n",
      "2018_no_nonh_hawaii_pacific    4700 non-null float64\n",
      "2018_no_nonh_others            4700 non-null float64\n",
      "2018_no_nonh_multi             4700 non-null float64\n",
      "2018_no_hisp_latin             4700 non-null float64\n",
      "2018_construction              4700 non-null float64\n",
      "2018_retail                    4700 non-null float64\n",
      "2018_information               4700 non-null float64\n",
      "2018_finance                   4700 non-null float64\n",
      "2018_edu_health_social         4700 non-null float64\n",
      "2018_arts_recreation_accom     4700 non-null float64\n",
      "2018_public_admin              4700 non-null float64\n",
      "2018_armed_forces              4700 non-null float64\n",
      "2018_bachelors                 4700 non-null float64\n",
      "2018_male<25_bachelors         4700 non-null float64\n",
      "2018_female<25_bachelors       4700 non-null float64\n",
      "dtypes: float64(22), int64(1)\n",
      "memory usage: 844.7 KB\n"
     ]
    }
   ],
   "source": [
    "census_2018.info()"
   ]
  },
  {
   "cell_type": "code",
   "execution_count": 22,
   "metadata": {},
   "outputs": [],
   "source": [
    "census_data = pd.merge(census_2010, census_2018, on='geoid')"
   ]
  },
  {
   "cell_type": "code",
   "execution_count": 23,
   "metadata": {},
   "outputs": [
    {
     "name": "stdout",
     "output_type": "stream",
     "text": [
      "<class 'pandas.core.frame.DataFrame'>\n",
      "Int64Index: 4700 entries, 0 to 4699\n",
      "Data columns (total 45 columns):\n",
      "geoid                          4700 non-null int64\n",
      "2010_population                4700 non-null float64\n",
      "2010_household_income          4700 non-null float64\n",
      "2010_home_value                4700 non-null float64\n",
      "2010_no_nonh_caucasians        4700 non-null float64\n",
      "2010_no_nonh_blacks/aas        4700 non-null float64\n",
      "2010_no_amerinds_alskns        4700 non-null float64\n",
      "2010_no_nonh_asians            4700 non-null float64\n",
      "2010_no_nonh_hawaii_pacific    4700 non-null float64\n",
      "2010_no_nonh_others            4700 non-null float64\n",
      "2010_no_nonh_multi             4700 non-null float64\n",
      "2010_no_hisp_latin             4700 non-null float64\n",
      "2010_construction              4700 non-null float64\n",
      "2010_retail                    4700 non-null float64\n",
      "2010_information               4700 non-null float64\n",
      "2010_finance                   4700 non-null float64\n",
      "2010_edu_health_social         4700 non-null float64\n",
      "2010_arts_recreation_accom     4700 non-null float64\n",
      "2010_public_admin              4700 non-null float64\n",
      "2010_armed_forces              4700 non-null float64\n",
      "2010_bachelors                 4700 non-null float64\n",
      "2010_male<25_bachelors         4700 non-null float64\n",
      "2010_female<25_bachelors       4700 non-null float64\n",
      "2018_population                4700 non-null float64\n",
      "2018_household_income          4700 non-null float64\n",
      "2018_home_value                4700 non-null float64\n",
      "2018_no_nonh_caucasians        4700 non-null float64\n",
      "2018_no_nonh_blacks/aas        4700 non-null float64\n",
      "2018_no_amerinds_alskns        4700 non-null float64\n",
      "2018_no_nonh_asians            4700 non-null float64\n",
      "2018_no_nonh_hawaii_pacific    4700 non-null float64\n",
      "2018_no_nonh_others            4700 non-null float64\n",
      "2018_no_nonh_multi             4700 non-null float64\n",
      "2018_no_hisp_latin             4700 non-null float64\n",
      "2018_construction              4700 non-null float64\n",
      "2018_retail                    4700 non-null float64\n",
      "2018_information               4700 non-null float64\n",
      "2018_finance                   4700 non-null float64\n",
      "2018_edu_health_social         4700 non-null float64\n",
      "2018_arts_recreation_accom     4700 non-null float64\n",
      "2018_public_admin              4700 non-null float64\n",
      "2018_armed_forces              4700 non-null float64\n",
      "2018_bachelors                 4700 non-null float64\n",
      "2018_male<25_bachelors         4700 non-null float64\n",
      "2018_female<25_bachelors       4700 non-null float64\n",
      "dtypes: float64(44), int64(1)\n",
      "memory usage: 1.6 MB\n"
     ]
    }
   ],
   "source": [
    "census_data.info()"
   ]
  },
  {
   "cell_type": "code",
   "execution_count": 24,
   "metadata": {},
   "outputs": [
    {
     "data": {
      "text/plain": [
       "0        710600.0\n",
       "1       2000001.0\n",
       "2        466600.0\n",
       "3        631000.0\n",
       "4        332800.0\n",
       "          ...    \n",
       "4695     161100.0\n",
       "4696     158100.0\n",
       "4697     125600.0\n",
       "4698     141600.0\n",
       "4699     161200.0\n",
       "Name: 2018_home_value, Length: 4700, dtype: float64"
      ]
     },
     "execution_count": 24,
     "metadata": {},
     "output_type": "execute_result"
    }
   ],
   "source": [
    "census_data['2018_home_value']"
   ]
  },
  {
   "cell_type": "code",
   "execution_count": 25,
   "metadata": {},
   "outputs": [],
   "source": [
    "census_data['2018_home_value'] = census_data['2018_home_value'] * 0.865"
   ]
  },
  {
   "cell_type": "code",
   "execution_count": 26,
   "metadata": {
    "scrolled": false
   },
   "outputs": [
    {
     "data": {
      "text/plain": [
       "0        614669.000\n",
       "1       1730000.865\n",
       "2        403609.000\n",
       "3        545815.000\n",
       "4        287872.000\n",
       "           ...     \n",
       "4695     139351.500\n",
       "4696     136756.500\n",
       "4697     108644.000\n",
       "4698     122484.000\n",
       "4699     139438.000\n",
       "Name: 2018_home_value, Length: 4700, dtype: float64"
      ]
     },
     "execution_count": 26,
     "metadata": {},
     "output_type": "execute_result"
    }
   ],
   "source": [
    "census_data['2018_home_value']"
   ]
  },
  {
   "cell_type": "code",
   "execution_count": 27,
   "metadata": {},
   "outputs": [],
   "source": [
    "census_data['2018_>25bachelors'] = census_data['2018_bachelors'] - census_data['2018_male<25_bachelors'] - census_data['2018_female<25_bachelors']\n",
    "census_data['2010_>25bachelors'] = census_data['2010_bachelors'] - census_data['2010_male<25_bachelors'] - census_data['2010_female<25_bachelors']"
   ]
  },
  {
   "cell_type": "code",
   "execution_count": 28,
   "metadata": {},
   "outputs": [],
   "source": [
    "census_data = census_data[census_data['2010_population'] > 0]\n",
    "census_data = census_data[census_data['2010_household_income'] > 0]\n",
    "census_data = census_data[census_data['2010_home_value'] > 0]\n",
    "census_data = census_data[census_data['2010_>25bachelors'] >= 0]\n",
    "census_data = census_data[census_data['2018_population'] > 0]\n",
    "census_data = census_data[census_data['2018_household_income'] > 0]\n",
    "census_data = census_data[census_data['2018_home_value'] > 0]\n",
    "census_data = census_data[census_data['2018_>25bachelors'] >= 0]"
   ]
  },
  {
   "cell_type": "code",
   "execution_count": 29,
   "metadata": {},
   "outputs": [],
   "source": [
    "census_data['percent_change_home_value'] = 100*(census_data['2018_home_value'] - census_data['2010_home_value']) / census_data['2010_home_value']"
   ]
  },
  {
   "cell_type": "code",
   "execution_count": 30,
   "metadata": {},
   "outputs": [
    {
     "data": {
      "text/plain": [
       "0      -17.093472\n",
       "1       72.999914\n",
       "2      -23.890439\n",
       "3      -24.276498\n",
       "4      -21.624830\n",
       "          ...    \n",
       "4695   -19.774611\n",
       "4696   -36.273765\n",
       "4697   -36.981439\n",
       "4698   -32.329282\n",
       "4699   -29.219289\n",
       "Name: percent_change_home_value, Length: 4370, dtype: float64"
      ]
     },
     "execution_count": 30,
     "metadata": {},
     "output_type": "execute_result"
    }
   ],
   "source": [
    "census_data['percent_change_home_value']"
   ]
  },
  {
   "cell_type": "code",
   "execution_count": 31,
   "metadata": {},
   "outputs": [],
   "source": [
    "census_data['2018_percent_>25bachelors'] = census_data['2018_>25bachelors'] / census_data['2018_population']\n",
    "census_data['2010_percent_>25bachelors'] = census_data['2010_>25bachelors'] / census_data['2010_population']"
   ]
  },
  {
   "cell_type": "code",
   "execution_count": 32,
   "metadata": {},
   "outputs": [
    {
     "data": {
      "text/plain": [
       "0       0.252292\n",
       "1       0.313285\n",
       "2       0.251109\n",
       "3       0.224265\n",
       "4       0.199845\n",
       "          ...   \n",
       "4695    0.070352\n",
       "4696    0.086196\n",
       "4697    0.095834\n",
       "4698    0.108200\n",
       "4699    0.096890\n",
       "Name: 2018_percent_>25bachelors, Length: 4370, dtype: float64"
      ]
     },
     "execution_count": 32,
     "metadata": {},
     "output_type": "execute_result"
    }
   ],
   "source": [
    "census_data['2018_percent_>25bachelors']"
   ]
  },
  {
   "cell_type": "code",
   "execution_count": 33,
   "metadata": {},
   "outputs": [],
   "source": [
    "census_data['change_percent_>25bachelors'] = (census_data['2018_percent_>25bachelors'] - census_data['2010_percent_>25bachelors'])"
   ]
  },
  {
   "cell_type": "code",
   "execution_count": 34,
   "metadata": {},
   "outputs": [
    {
     "data": {
      "text/plain": [
       "0       0.030841\n",
       "1       0.023565\n",
       "2       0.135513\n",
       "3      -0.018079\n",
       "4       0.061081\n",
       "          ...   \n",
       "4695   -0.042749\n",
       "4696    0.045309\n",
       "4697    0.017939\n",
       "4698    0.002024\n",
       "4699    0.046221\n",
       "Name: change_percent_>25bachelors, Length: 4370, dtype: float64"
      ]
     },
     "execution_count": 34,
     "metadata": {},
     "output_type": "execute_result"
    }
   ],
   "source": [
    "census_data['change_percent_>25bachelors']"
   ]
  },
  {
   "cell_type": "code",
   "execution_count": 51,
   "metadata": {},
   "outputs": [],
   "source": [
    "education_97_percentile = census_data['change_percent_>25bachelors'].quantile(0.66)\n",
    "value_97_percentile = census_data['percent_change_home_value'].quantile(0.66)"
   ]
  },
  {
   "cell_type": "code",
   "execution_count": 52,
   "metadata": {},
   "outputs": [
    {
     "data": {
      "text/plain": [
       "0.02772383331732397"
      ]
     },
     "execution_count": 52,
     "metadata": {},
     "output_type": "execute_result"
    }
   ],
   "source": [
    "education_97_percentile"
   ]
  },
  {
   "cell_type": "code",
   "execution_count": 53,
   "metadata": {},
   "outputs": [
    {
     "data": {
      "text/plain": [
       "-8.284639050441829"
      ]
     },
     "execution_count": 53,
     "metadata": {},
     "output_type": "execute_result"
    }
   ],
   "source": [
    "value_97_percentile"
   ]
  },
  {
   "cell_type": "code",
   "execution_count": 54,
   "metadata": {},
   "outputs": [],
   "source": [
    "census_data['gentrify_elig'] = 0\n",
    "\n",
    "income_40_percentile = census_data['2010_household_income'].quantile(0.4)\n",
    "value_40_percentile = census_data['2010_home_value'].quantile(0.4)\n",
    "\n",
    "census_data.loc[(census_data['2010_household_income'] <= income_40_percentile) & \n",
    "               (census_data['2010_home_value'] <= value_40_percentile) &\n",
    "               (census_data['2010_population'] >= 500), 'gentrify_elig'] = 1"
   ]
  },
  {
   "cell_type": "code",
   "execution_count": 55,
   "metadata": {},
   "outputs": [],
   "source": [
    "census_data['test_two'] = 0\n",
    "\n",
    "census_data.loc[(census_data['change_percent_>25bachelors'] >= education_97_percentile) & \n",
    "               (census_data['percent_change_home_value'] >= value_97_percentile) &\n",
    "               (census_data['percent_change_home_value'] > 0), 'test_two'] = 1"
   ]
  },
  {
   "cell_type": "code",
   "execution_count": 56,
   "metadata": {},
   "outputs": [],
   "source": [
    "census_data['gentrified'] = 0\n",
    "\n",
    "census_data.loc[(census_data['gentrify_elig'] == 1) & \n",
    "               (census_data['test_two'] == 1), 'gentrified'] = 1"
   ]
  },
  {
   "cell_type": "code",
   "execution_count": 57,
   "metadata": {},
   "outputs": [
    {
     "data": {
      "text/plain": [
       "0       0\n",
       "1       0\n",
       "2       0\n",
       "3       0\n",
       "4       0\n",
       "       ..\n",
       "4695    0\n",
       "4696    0\n",
       "4697    0\n",
       "4698    0\n",
       "4699    0\n",
       "Name: gentrified, Length: 4370, dtype: int64"
      ]
     },
     "execution_count": 57,
     "metadata": {},
     "output_type": "execute_result"
    }
   ],
   "source": [
    "census_data['gentrified']"
   ]
  },
  {
   "cell_type": "code",
   "execution_count": 58,
   "metadata": {},
   "outputs": [
    {
     "data": {
      "text/plain": [
       "0    4305\n",
       "1      65\n",
       "Name: gentrified, dtype: int64"
      ]
     },
     "execution_count": 58,
     "metadata": {},
     "output_type": "execute_result"
    }
   ],
   "source": [
    "census_data['gentrified'].value_counts()"
   ]
  },
  {
   "cell_type": "code",
   "execution_count": 59,
   "metadata": {},
   "outputs": [
    {
     "data": {
      "text/html": [
       "<div>\n",
       "<style scoped>\n",
       "    .dataframe tbody tr th:only-of-type {\n",
       "        vertical-align: middle;\n",
       "    }\n",
       "\n",
       "    .dataframe tbody tr th {\n",
       "        vertical-align: top;\n",
       "    }\n",
       "\n",
       "    .dataframe thead th {\n",
       "        text-align: right;\n",
       "    }\n",
       "</style>\n",
       "<table border=\"1\" class=\"dataframe\">\n",
       "  <thead>\n",
       "    <tr style=\"text-align: right;\">\n",
       "      <th></th>\n",
       "      <th>geoid</th>\n",
       "      <th>2010_population</th>\n",
       "      <th>2010_household_income</th>\n",
       "      <th>2010_home_value</th>\n",
       "      <th>2010_no_nonh_caucasians</th>\n",
       "      <th>2010_no_nonh_blacks/aas</th>\n",
       "      <th>2010_no_amerinds_alskns</th>\n",
       "      <th>2010_no_nonh_asians</th>\n",
       "      <th>2010_no_nonh_hawaii_pacific</th>\n",
       "      <th>2010_no_nonh_others</th>\n",
       "      <th>...</th>\n",
       "      <th>2018_female&lt;25_bachelors</th>\n",
       "      <th>2018_&gt;25bachelors</th>\n",
       "      <th>2010_&gt;25bachelors</th>\n",
       "      <th>percent_change_home_value</th>\n",
       "      <th>2018_percent_&gt;25bachelors</th>\n",
       "      <th>2010_percent_&gt;25bachelors</th>\n",
       "      <th>change_percent_&gt;25bachelors</th>\n",
       "      <th>test_two</th>\n",
       "      <th>gentrify_elig</th>\n",
       "      <th>gentrified</th>\n",
       "    </tr>\n",
       "  </thead>\n",
       "  <tbody>\n",
       "    <tr>\n",
       "      <td>240</td>\n",
       "      <td>34013007600</td>\n",
       "      <td>2988.0</td>\n",
       "      <td>41447.0</td>\n",
       "      <td>356300.0</td>\n",
       "      <td>1662.0</td>\n",
       "      <td>11.0</td>\n",
       "      <td>41.0</td>\n",
       "      <td>68.0</td>\n",
       "      <td>0.0</td>\n",
       "      <td>188.0</td>\n",
       "      <td>...</td>\n",
       "      <td>15.0</td>\n",
       "      <td>163.0</td>\n",
       "      <td>39.0</td>\n",
       "      <td>16.336795</td>\n",
       "      <td>0.048817</td>\n",
       "      <td>0.013052</td>\n",
       "      <td>0.035765</td>\n",
       "      <td>1</td>\n",
       "      <td>1</td>\n",
       "      <td>1</td>\n",
       "    </tr>\n",
       "    <tr>\n",
       "      <td>247</td>\n",
       "      <td>34013008700</td>\n",
       "      <td>4142.0</td>\n",
       "      <td>39648.0</td>\n",
       "      <td>239800.0</td>\n",
       "      <td>170.0</td>\n",
       "      <td>423.0</td>\n",
       "      <td>50.0</td>\n",
       "      <td>11.0</td>\n",
       "      <td>0.0</td>\n",
       "      <td>0.0</td>\n",
       "      <td>...</td>\n",
       "      <td>0.0</td>\n",
       "      <td>375.0</td>\n",
       "      <td>143.0</td>\n",
       "      <td>3.309425</td>\n",
       "      <td>0.110327</td>\n",
       "      <td>0.034524</td>\n",
       "      <td>0.075802</td>\n",
       "      <td>1</td>\n",
       "      <td>1</td>\n",
       "      <td>1</td>\n",
       "    </tr>\n",
       "    <tr>\n",
       "      <td>406</td>\n",
       "      <td>34017001900</td>\n",
       "      <td>1776.0</td>\n",
       "      <td>31543.0</td>\n",
       "      <td>247900.0</td>\n",
       "      <td>294.0</td>\n",
       "      <td>26.0</td>\n",
       "      <td>0.0</td>\n",
       "      <td>1069.0</td>\n",
       "      <td>0.0</td>\n",
       "      <td>0.0</td>\n",
       "      <td>...</td>\n",
       "      <td>71.0</td>\n",
       "      <td>300.0</td>\n",
       "      <td>160.0</td>\n",
       "      <td>13.681727</td>\n",
       "      <td>0.202566</td>\n",
       "      <td>0.090090</td>\n",
       "      <td>0.112476</td>\n",
       "      <td>1</td>\n",
       "      <td>1</td>\n",
       "      <td>1</td>\n",
       "    </tr>\n",
       "    <tr>\n",
       "      <td>412</td>\n",
       "      <td>34017002800</td>\n",
       "      <td>5551.0</td>\n",
       "      <td>29310.0</td>\n",
       "      <td>291300.0</td>\n",
       "      <td>1491.0</td>\n",
       "      <td>1224.0</td>\n",
       "      <td>39.0</td>\n",
       "      <td>1426.0</td>\n",
       "      <td>0.0</td>\n",
       "      <td>12.0</td>\n",
       "      <td>...</td>\n",
       "      <td>0.0</td>\n",
       "      <td>1013.0</td>\n",
       "      <td>611.0</td>\n",
       "      <td>1.050292</td>\n",
       "      <td>0.179387</td>\n",
       "      <td>0.110070</td>\n",
       "      <td>0.069317</td>\n",
       "      <td>1</td>\n",
       "      <td>1</td>\n",
       "      <td>1</td>\n",
       "    </tr>\n",
       "    <tr>\n",
       "      <td>447</td>\n",
       "      <td>34017007100</td>\n",
       "      <td>2747.0</td>\n",
       "      <td>34438.0</td>\n",
       "      <td>303700.0</td>\n",
       "      <td>797.0</td>\n",
       "      <td>294.0</td>\n",
       "      <td>31.0</td>\n",
       "      <td>752.0</td>\n",
       "      <td>0.0</td>\n",
       "      <td>118.0</td>\n",
       "      <td>...</td>\n",
       "      <td>23.0</td>\n",
       "      <td>702.0</td>\n",
       "      <td>388.0</td>\n",
       "      <td>60.211557</td>\n",
       "      <td>0.211893</td>\n",
       "      <td>0.141245</td>\n",
       "      <td>0.070648</td>\n",
       "      <td>1</td>\n",
       "      <td>1</td>\n",
       "      <td>1</td>\n",
       "    </tr>\n",
       "    <tr>\n",
       "      <td>...</td>\n",
       "      <td>...</td>\n",
       "      <td>...</td>\n",
       "      <td>...</td>\n",
       "      <td>...</td>\n",
       "      <td>...</td>\n",
       "      <td>...</td>\n",
       "      <td>...</td>\n",
       "      <td>...</td>\n",
       "      <td>...</td>\n",
       "      <td>...</td>\n",
       "      <td>...</td>\n",
       "      <td>...</td>\n",
       "      <td>...</td>\n",
       "      <td>...</td>\n",
       "      <td>...</td>\n",
       "      <td>...</td>\n",
       "      <td>...</td>\n",
       "      <td>...</td>\n",
       "      <td>...</td>\n",
       "      <td>...</td>\n",
       "      <td>...</td>\n",
       "    </tr>\n",
       "    <tr>\n",
       "      <td>3852</td>\n",
       "      <td>36081099701</td>\n",
       "      <td>2562.0</td>\n",
       "      <td>57382.0</td>\n",
       "      <td>374300.0</td>\n",
       "      <td>1674.0</td>\n",
       "      <td>24.0</td>\n",
       "      <td>0.0</td>\n",
       "      <td>630.0</td>\n",
       "      <td>0.0</td>\n",
       "      <td>0.0</td>\n",
       "      <td>...</td>\n",
       "      <td>70.0</td>\n",
       "      <td>692.0</td>\n",
       "      <td>258.0</td>\n",
       "      <td>20.841170</td>\n",
       "      <td>0.229595</td>\n",
       "      <td>0.100703</td>\n",
       "      <td>0.128893</td>\n",
       "      <td>1</td>\n",
       "      <td>1</td>\n",
       "      <td>1</td>\n",
       "    </tr>\n",
       "    <tr>\n",
       "      <td>3961</td>\n",
       "      <td>36085000300</td>\n",
       "      <td>1732.0</td>\n",
       "      <td>46731.0</td>\n",
       "      <td>345800.0</td>\n",
       "      <td>788.0</td>\n",
       "      <td>201.0</td>\n",
       "      <td>13.0</td>\n",
       "      <td>318.0</td>\n",
       "      <td>0.0</td>\n",
       "      <td>0.0</td>\n",
       "      <td>...</td>\n",
       "      <td>12.0</td>\n",
       "      <td>396.0</td>\n",
       "      <td>238.0</td>\n",
       "      <td>10.839069</td>\n",
       "      <td>0.201322</td>\n",
       "      <td>0.137413</td>\n",
       "      <td>0.063908</td>\n",
       "      <td>1</td>\n",
       "      <td>1</td>\n",
       "      <td>1</td>\n",
       "    </tr>\n",
       "    <tr>\n",
       "      <td>3971</td>\n",
       "      <td>36085002100</td>\n",
       "      <td>3491.0</td>\n",
       "      <td>36131.0</td>\n",
       "      <td>308300.0</td>\n",
       "      <td>889.0</td>\n",
       "      <td>849.0</td>\n",
       "      <td>106.0</td>\n",
       "      <td>299.0</td>\n",
       "      <td>0.0</td>\n",
       "      <td>0.0</td>\n",
       "      <td>...</td>\n",
       "      <td>28.0</td>\n",
       "      <td>398.0</td>\n",
       "      <td>211.0</td>\n",
       "      <td>3.698994</td>\n",
       "      <td>0.098005</td>\n",
       "      <td>0.060441</td>\n",
       "      <td>0.037564</td>\n",
       "      <td>1</td>\n",
       "      <td>1</td>\n",
       "      <td>1</td>\n",
       "    </tr>\n",
       "    <tr>\n",
       "      <td>4543</td>\n",
       "      <td>36119002203</td>\n",
       "      <td>1665.0</td>\n",
       "      <td>35417.0</td>\n",
       "      <td>141400.0</td>\n",
       "      <td>1230.0</td>\n",
       "      <td>178.0</td>\n",
       "      <td>0.0</td>\n",
       "      <td>73.0</td>\n",
       "      <td>0.0</td>\n",
       "      <td>0.0</td>\n",
       "      <td>...</td>\n",
       "      <td>0.0</td>\n",
       "      <td>396.0</td>\n",
       "      <td>147.0</td>\n",
       "      <td>9.134371</td>\n",
       "      <td>0.227064</td>\n",
       "      <td>0.088288</td>\n",
       "      <td>0.138776</td>\n",
       "      <td>1</td>\n",
       "      <td>1</td>\n",
       "      <td>1</td>\n",
       "    </tr>\n",
       "    <tr>\n",
       "      <td>4627</td>\n",
       "      <td>36119009300</td>\n",
       "      <td>2574.0</td>\n",
       "      <td>29184.0</td>\n",
       "      <td>376500.0</td>\n",
       "      <td>675.0</td>\n",
       "      <td>996.0</td>\n",
       "      <td>2.0</td>\n",
       "      <td>177.0</td>\n",
       "      <td>0.0</td>\n",
       "      <td>0.0</td>\n",
       "      <td>...</td>\n",
       "      <td>0.0</td>\n",
       "      <td>359.0</td>\n",
       "      <td>200.0</td>\n",
       "      <td>149.115405</td>\n",
       "      <td>0.109887</td>\n",
       "      <td>0.077700</td>\n",
       "      <td>0.032187</td>\n",
       "      <td>1</td>\n",
       "      <td>1</td>\n",
       "      <td>1</td>\n",
       "    </tr>\n",
       "  </tbody>\n",
       "</table>\n",
       "<p>65 rows × 54 columns</p>\n",
       "</div>"
      ],
      "text/plain": [
       "            geoid  2010_population  2010_household_income  2010_home_value  \\\n",
       "240   34013007600           2988.0                41447.0         356300.0   \n",
       "247   34013008700           4142.0                39648.0         239800.0   \n",
       "406   34017001900           1776.0                31543.0         247900.0   \n",
       "412   34017002800           5551.0                29310.0         291300.0   \n",
       "447   34017007100           2747.0                34438.0         303700.0   \n",
       "...           ...              ...                    ...              ...   \n",
       "3852  36081099701           2562.0                57382.0         374300.0   \n",
       "3961  36085000300           1732.0                46731.0         345800.0   \n",
       "3971  36085002100           3491.0                36131.0         308300.0   \n",
       "4543  36119002203           1665.0                35417.0         141400.0   \n",
       "4627  36119009300           2574.0                29184.0         376500.0   \n",
       "\n",
       "      2010_no_nonh_caucasians  2010_no_nonh_blacks/aas  \\\n",
       "240                    1662.0                     11.0   \n",
       "247                     170.0                    423.0   \n",
       "406                     294.0                     26.0   \n",
       "412                    1491.0                   1224.0   \n",
       "447                     797.0                    294.0   \n",
       "...                       ...                      ...   \n",
       "3852                   1674.0                     24.0   \n",
       "3961                    788.0                    201.0   \n",
       "3971                    889.0                    849.0   \n",
       "4543                   1230.0                    178.0   \n",
       "4627                    675.0                    996.0   \n",
       "\n",
       "      2010_no_amerinds_alskns  2010_no_nonh_asians  \\\n",
       "240                      41.0                 68.0   \n",
       "247                      50.0                 11.0   \n",
       "406                       0.0               1069.0   \n",
       "412                      39.0               1426.0   \n",
       "447                      31.0                752.0   \n",
       "...                       ...                  ...   \n",
       "3852                      0.0                630.0   \n",
       "3961                     13.0                318.0   \n",
       "3971                    106.0                299.0   \n",
       "4543                      0.0                 73.0   \n",
       "4627                      2.0                177.0   \n",
       "\n",
       "      2010_no_nonh_hawaii_pacific  2010_no_nonh_others  ...  \\\n",
       "240                           0.0                188.0  ...   \n",
       "247                           0.0                  0.0  ...   \n",
       "406                           0.0                  0.0  ...   \n",
       "412                           0.0                 12.0  ...   \n",
       "447                           0.0                118.0  ...   \n",
       "...                           ...                  ...  ...   \n",
       "3852                          0.0                  0.0  ...   \n",
       "3961                          0.0                  0.0  ...   \n",
       "3971                          0.0                  0.0  ...   \n",
       "4543                          0.0                  0.0  ...   \n",
       "4627                          0.0                  0.0  ...   \n",
       "\n",
       "      2018_female<25_bachelors  2018_>25bachelors  2010_>25bachelors  \\\n",
       "240                       15.0              163.0               39.0   \n",
       "247                        0.0              375.0              143.0   \n",
       "406                       71.0              300.0              160.0   \n",
       "412                        0.0             1013.0              611.0   \n",
       "447                       23.0              702.0              388.0   \n",
       "...                        ...                ...                ...   \n",
       "3852                      70.0              692.0              258.0   \n",
       "3961                      12.0              396.0              238.0   \n",
       "3971                      28.0              398.0              211.0   \n",
       "4543                       0.0              396.0              147.0   \n",
       "4627                       0.0              359.0              200.0   \n",
       "\n",
       "      percent_change_home_value  2018_percent_>25bachelors  \\\n",
       "240                   16.336795                   0.048817   \n",
       "247                    3.309425                   0.110327   \n",
       "406                   13.681727                   0.202566   \n",
       "412                    1.050292                   0.179387   \n",
       "447                   60.211557                   0.211893   \n",
       "...                         ...                        ...   \n",
       "3852                  20.841170                   0.229595   \n",
       "3961                  10.839069                   0.201322   \n",
       "3971                   3.698994                   0.098005   \n",
       "4543                   9.134371                   0.227064   \n",
       "4627                 149.115405                   0.109887   \n",
       "\n",
       "      2010_percent_>25bachelors  change_percent_>25bachelors  test_two  \\\n",
       "240                    0.013052                     0.035765         1   \n",
       "247                    0.034524                     0.075802         1   \n",
       "406                    0.090090                     0.112476         1   \n",
       "412                    0.110070                     0.069317         1   \n",
       "447                    0.141245                     0.070648         1   \n",
       "...                         ...                          ...       ...   \n",
       "3852                   0.100703                     0.128893         1   \n",
       "3961                   0.137413                     0.063908         1   \n",
       "3971                   0.060441                     0.037564         1   \n",
       "4543                   0.088288                     0.138776         1   \n",
       "4627                   0.077700                     0.032187         1   \n",
       "\n",
       "      gentrify_elig  gentrified  \n",
       "240               1           1  \n",
       "247               1           1  \n",
       "406               1           1  \n",
       "412               1           1  \n",
       "447               1           1  \n",
       "...             ...         ...  \n",
       "3852              1           1  \n",
       "3961              1           1  \n",
       "3971              1           1  \n",
       "4543              1           1  \n",
       "4627              1           1  \n",
       "\n",
       "[65 rows x 54 columns]"
      ]
     },
     "execution_count": 59,
     "metadata": {},
     "output_type": "execute_result"
    }
   ],
   "source": [
    "census_data.loc[census_data['gentrified'] == 1]"
   ]
  },
  {
   "cell_type": "code",
   "execution_count": 60,
   "metadata": {},
   "outputs": [
    {
     "data": {
      "text/plain": [
       "0    3528\n",
       "1     842\n",
       "Name: gentrify_elig, dtype: int64"
      ]
     },
     "execution_count": 60,
     "metadata": {},
     "output_type": "execute_result"
    }
   ],
   "source": [
    "census_data['gentrify_elig'].value_counts()"
   ]
  },
  {
   "cell_type": "code",
   "execution_count": 61,
   "metadata": {},
   "outputs": [
    {
     "data": {
      "text/plain": [
       "0    4001\n",
       "1     369\n",
       "Name: test_two, dtype: int64"
      ]
     },
     "execution_count": 61,
     "metadata": {},
     "output_type": "execute_result"
    }
   ],
   "source": [
    "census_data['test_two'].value_counts()"
   ]
  },
  {
   "cell_type": "code",
   "execution_count": 62,
   "metadata": {},
   "outputs": [
    {
     "data": {
      "text/plain": [
       "gentrify_elig                  1.000000\n",
       "2018_no_hisp_latin             0.338117\n",
       "2010_no_hisp_latin             0.321773\n",
       "2010_no_nonh_blacks/aas        0.268569\n",
       "2018_no_nonh_blacks/aas        0.253479\n",
       "gentrified                     0.251523\n",
       "2018_arts_recreation_accom     0.088252\n",
       "2018_no_amerinds_alskns        0.087745\n",
       "2010_no_amerinds_alskns        0.054162\n",
       "2018_no_nonh_others            0.049124\n",
       "2018_retail                    0.047614\n",
       "percent_change_home_value      0.046813\n",
       "2010_arts_recreation_accom     0.043675\n",
       "2010_no_nonh_others            0.038822\n",
       "2018_population                0.037102\n",
       "2018_construction              0.028580\n",
       "2010_armed_forces              0.027868\n",
       "2010_population                0.023721\n",
       "2010_construction              0.010709\n",
       "2018_no_nonh_hawaii_pacific    0.000167\n",
       "2010_retail                   -0.000540\n",
       "2018_armed_forces             -0.003987\n",
       "2010_no_nonh_hawaii_pacific   -0.005709\n",
       "test_two                      -0.012725\n",
       "2010_no_nonh_multi            -0.021541\n",
       "change_percent_>25bachelors   -0.025766\n",
       "2018_no_nonh_multi            -0.053354\n",
       "2010_edu_health_social        -0.058178\n",
       "2018_edu_health_social        -0.060183\n",
       "2010_public_admin             -0.069780\n",
       "2018_public_admin             -0.075907\n",
       "2010_no_nonh_asians           -0.083455\n",
       "2018_no_nonh_asians           -0.096525\n",
       "2010_female<25_bachelors      -0.102783\n",
       "2018_male<25_bachelors        -0.121818\n",
       "2010_male<25_bachelors        -0.142074\n",
       "geoid                         -0.142336\n",
       "2018_female<25_bachelors      -0.153093\n",
       "2018_information              -0.168147\n",
       "2010_information              -0.172911\n",
       "2018_finance                  -0.186584\n",
       "2010_finance                  -0.188538\n",
       "2018_bachelors                -0.226181\n",
       "2018_>25bachelors             -0.226669\n",
       "2010_bachelors                -0.236275\n",
       "2010_>25bachelors             -0.240077\n",
       "2018_no_nonh_caucasians       -0.283050\n",
       "2010_no_nonh_caucasians       -0.289679\n",
       "2010_percent_>25bachelors     -0.338479\n",
       "2018_percent_>25bachelors     -0.347373\n",
       "2018_home_value               -0.349774\n",
       "2018_household_income         -0.437107\n",
       "2010_household_income         -0.438979\n",
       "2010_home_value               -0.486853\n",
       "Name: gentrify_elig, dtype: float64"
      ]
     },
     "execution_count": 62,
     "metadata": {},
     "output_type": "execute_result"
    }
   ],
   "source": [
    "corr_matrix = census_data.corr()\n",
    "corr_matrix[\"gentrify_elig\"].sort_values(ascending=False)"
   ]
  },
  {
   "cell_type": "code",
   "execution_count": 63,
   "metadata": {},
   "outputs": [
    {
     "data": {
      "text/plain": [
       "gentrified                     1.000000\n",
       "test_two                       0.404614\n",
       "gentrify_elig                  0.251523\n",
       "2010_no_hisp_latin             0.128952\n",
       "change_percent_>25bachelors    0.123246\n",
       "2018_no_hisp_latin             0.113287\n",
       "2018_arts_recreation_accom     0.106724\n",
       "percent_change_home_value      0.097033\n",
       "2010_no_nonh_blacks/aas        0.059090\n",
       "2010_arts_recreation_accom     0.055381\n",
       "2018_no_nonh_blacks/aas        0.054278\n",
       "2010_no_amerinds_alskns        0.048064\n",
       "geoid                          0.043401\n",
       "2010_armed_forces              0.026268\n",
       "2018_male<25_bachelors         0.023399\n",
       "2010_no_nonh_hawaii_pacific    0.022025\n",
       "2010_no_nonh_multi             0.020334\n",
       "2018_population                0.016686\n",
       "2010_female<25_bachelors       0.016320\n",
       "2010_population                0.013971\n",
       "2018_no_nonh_others            0.013744\n",
       "2018_no_amerinds_alskns        0.009153\n",
       "2018_edu_health_social         0.008342\n",
       "2010_edu_health_social         0.005764\n",
       "2010_retail                    0.004073\n",
       "2018_no_nonh_asians            0.002389\n",
       "2010_no_nonh_others            0.000634\n",
       "2018_information               0.000047\n",
       "2018_retail                   -0.002033\n",
       "2018_construction             -0.005027\n",
       "2010_no_nonh_asians           -0.005475\n",
       "2018_female<25_bachelors      -0.005783\n",
       "2018_no_nonh_multi            -0.006254\n",
       "2018_bachelors                -0.007369\n",
       "2018_no_nonh_hawaii_pacific   -0.008099\n",
       "2018_>25bachelors             -0.014185\n",
       "2018_public_admin             -0.015952\n",
       "2018_armed_forces             -0.016759\n",
       "2010_construction             -0.018600\n",
       "2010_male<25_bachelors        -0.018906\n",
       "2018_percent_>25bachelors     -0.019770\n",
       "2018_home_value               -0.021235\n",
       "2010_information              -0.028796\n",
       "2010_finance                  -0.030284\n",
       "2018_finance                  -0.033677\n",
       "2010_public_admin             -0.046431\n",
       "2010_bachelors                -0.059106\n",
       "2010_>25bachelors             -0.069874\n",
       "2018_no_nonh_caucasians       -0.086668\n",
       "2010_no_nonh_caucasians       -0.094331\n",
       "2010_percent_>25bachelors     -0.097235\n",
       "2018_household_income         -0.101493\n",
       "2010_household_income         -0.126629\n",
       "2010_home_value               -0.132031\n",
       "Name: gentrified, dtype: float64"
      ]
     },
     "execution_count": 63,
     "metadata": {},
     "output_type": "execute_result"
    }
   ],
   "source": [
    "corr_matrix[\"gentrified\"].sort_values(ascending=False)"
   ]
  },
  {
   "cell_type": "code",
   "execution_count": 64,
   "metadata": {},
   "outputs": [
    {
     "data": {
      "text/plain": [
       "test_two                       1.000000\n",
       "gentrified                     0.404614\n",
       "change_percent_>25bachelors    0.376332\n",
       "2018_home_value                0.358023\n",
       "2018_male<25_bachelors         0.226632\n",
       "2018_information               0.195081\n",
       "2018_percent_>25bachelors      0.179045\n",
       "2010_home_value                0.162763\n",
       "2010_male<25_bachelors         0.152639\n",
       "2010_female<25_bachelors       0.144463\n",
       "percent_change_home_value      0.135492\n",
       "geoid                          0.125240\n",
       "2018_bachelors                 0.107685\n",
       "2010_information               0.090843\n",
       "2018_finance                   0.084092\n",
       "2018_no_nonh_multi             0.080118\n",
       "2018_arts_recreation_accom     0.077433\n",
       "2018_>25bachelors              0.067863\n",
       "2018_no_nonh_asians            0.060827\n",
       "2010_arts_recreation_accom     0.060225\n",
       "2018_female<25_bachelors       0.049593\n",
       "2010_no_nonh_asians            0.035481\n",
       "2010_finance                   0.034136\n",
       "2010_no_nonh_multi             0.031734\n",
       "2010_no_nonh_blacks/aas        0.028445\n",
       "2010_no_amerinds_alskns        0.023759\n",
       "2018_household_income          0.008013\n",
       "2018_no_nonh_blacks/aas        0.005784\n",
       "2010_no_hisp_latin             0.003396\n",
       "2010_no_nonh_hawaii_pacific    0.002945\n",
       "2010_armed_forces             -0.003691\n",
       "2018_no_nonh_others           -0.003821\n",
       "2010_no_nonh_others           -0.009936\n",
       "gentrify_elig                 -0.012725\n",
       "2018_no_amerinds_alskns       -0.017883\n",
       "2010_bachelors                -0.023218\n",
       "2018_no_nonh_hawaii_pacific   -0.024572\n",
       "2018_no_hisp_latin            -0.025143\n",
       "2018_armed_forces             -0.037076\n",
       "2010_percent_>25bachelors     -0.052520\n",
       "2018_population               -0.059231\n",
       "2018_edu_health_social        -0.066513\n",
       "2010_edu_health_social        -0.076689\n",
       "2018_public_admin             -0.079090\n",
       "2018_no_nonh_caucasians       -0.079769\n",
       "2010_household_income         -0.081432\n",
       "2010_population               -0.085951\n",
       "2010_>25bachelors             -0.086603\n",
       "2018_retail                   -0.090961\n",
       "2010_public_admin             -0.097495\n",
       "2010_construction             -0.104811\n",
       "2010_retail                   -0.112766\n",
       "2018_construction             -0.116803\n",
       "2010_no_nonh_caucasians       -0.120045\n",
       "Name: test_two, dtype: float64"
      ]
     },
     "execution_count": 64,
     "metadata": {},
     "output_type": "execute_result"
    }
   ],
   "source": [
    "corr_matrix['test_two'].sort_values(ascending=False)"
   ]
  },
  {
   "cell_type": "code",
   "execution_count": 65,
   "metadata": {},
   "outputs": [],
   "source": [
    "census_data.to_csv('test_one__test_two.csv', index=False)"
   ]
  },
  {
   "cell_type": "code",
   "execution_count": null,
   "metadata": {},
   "outputs": [],
   "source": []
  }
 ],
 "metadata": {
  "kernelspec": {
   "display_name": "Python 3",
   "language": "python",
   "name": "python3"
  },
  "language_info": {
   "codemirror_mode": {
    "name": "ipython",
    "version": 3
   },
   "file_extension": ".py",
   "mimetype": "text/x-python",
   "name": "python",
   "nbconvert_exporter": "python",
   "pygments_lexer": "ipython3",
   "version": "3.7.4"
  }
 },
 "nbformat": 4,
 "nbformat_minor": 4
}
