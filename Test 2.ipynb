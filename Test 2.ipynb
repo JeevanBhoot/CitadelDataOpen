{
 "cells": [
  {
   "cell_type": "markdown",
   "metadata": {},
   "source": [
    "## Initialise"
   ]
  },
  {
   "cell_type": "markdown",
   "metadata": {},
   "source": [
    "#### Imports"
   ]
  },
  {
   "cell_type": "code",
   "execution_count": 1,
   "metadata": {},
   "outputs": [],
   "source": [
    "import os\n",
    "import joblib\n",
    "import numpy as np\n",
    "%matplotlib inline\n",
    "import matplotlib.pyplot as plt\n",
    "import sklearn\n",
    "import pandas as pd\n",
    "from sklearn.base import BaseEstimator, TransformerMixin\n",
    "from sklearn.pipeline import Pipeline\n",
    "from sklearn.impute import SimpleImputer\n",
    "from sklearn.preprocessing import OneHotEncoder\n",
    "from sklearn.ensemble import RandomForestClassifier\n",
    "from sklearn.model_selection import cross_val_score\n",
    "from sklearn.model_selection import RandomizedSearchCV\n",
    "from sklearn.pipeline import FeatureUnion\n",
    "from sklearn.preprocessing import OrdinalEncoder\n",
    "from sklearn.linear_model import LogisticRegression\n",
    "from sklearn.model_selection import GridSearchCV"
   ]
  },
  {
   "cell_type": "markdown",
   "metadata": {},
   "source": [
    "#### Load data"
   ]
  },
  {
   "cell_type": "code",
   "execution_count": 2,
   "metadata": {},
   "outputs": [],
   "source": [
    "data_path = os.path.join('datasets', 'nyc education + jobs')\n",
    "\n",
    "def load_data(filename, path):\n",
    "    csv_path = os.path.join(path, filename)\n",
    "    return pd.read_csv(csv_path)\n",
    "\n",
    "census_2010 = load_data(\"nyc_census_2010.csv\", data_path)\n",
    "census_2018 = load_data(\"nyc_census_2018.csv\", data_path)"
   ]
  },
  {
   "cell_type": "markdown",
   "metadata": {},
   "source": [
    "#### Data cleaning"
   ]
  },
  {
   "cell_type": "markdown",
   "metadata": {},
   "source": [
    "Drop unrequired columns"
   ]
  },
  {
   "cell_type": "code",
   "execution_count": 3,
   "metadata": {},
   "outputs": [],
   "source": [
    "census_2010 = census_2010.drop(columns=['year', 'NAME', 'state', 'county', 'tract', 'B08528_010E'])\n",
    "census_2018 = census_2018.drop(columns=['year', 'NAME', 'state', 'county', 'tract', 'B08528_010E'])"
   ]
  },
  {
   "cell_type": "markdown",
   "metadata": {},
   "source": [
    "Rename column names"
   ]
  },
  {
   "cell_type": "code",
   "execution_count": 4,
   "metadata": {},
   "outputs": [],
   "source": [
    "def column_names(dataframe, year):\n",
    "    year_columns = []\n",
    "    columns = ['population', 'household_income', 'home_value', \n",
    "                        'no_nonh_caucasians', 'no_nonh_blacks/aas', 'no_amerinds_alskns', 'no_nonh_asians',\n",
    "                        'no_nonh_hawaii_pacific', 'no_nonh_others', 'no_nonh_multi', 'no_hisp_latin',\n",
    "                        'construction', 'retail', 'information', 'finance', 'edu_health_social',\n",
    "                        'arts_recreation_accom', 'public_admin', 'armed_forces', 'bachelors', 'male<25_bachelors',\n",
    "                        'female<25_bachelors']\n",
    "    year_columns.append('geoid')\n",
    "    for i in columns:\n",
    "        year_columns.append(year + '_' + i)\n",
    "    dataframe.columns = year_columns\n",
    "\n",
    "column_names(census_2010, '2010')\n",
    "column_names(census_2018, '2018')"
   ]
  },
  {
   "cell_type": "markdown",
   "metadata": {},
   "source": [
    "Check information regarding both datasets.\n",
    "Notable piece of information: 2010 has 4701 entries, whilst 2018 has 4700."
   ]
  },
  {
   "cell_type": "code",
   "execution_count": 5,
   "metadata": {},
   "outputs": [
    {
     "name": "stdout",
     "output_type": "stream",
     "text": [
      "<class 'pandas.core.frame.DataFrame'>\n",
      "RangeIndex: 4701 entries, 0 to 4700\n",
      "Data columns (total 23 columns):\n",
      "geoid                          4701 non-null int64\n",
      "2010_population                4701 non-null float64\n",
      "2010_household_income          4701 non-null float64\n",
      "2010_home_value                4701 non-null float64\n",
      "2010_no_nonh_caucasians        4701 non-null float64\n",
      "2010_no_nonh_blacks/aas        4701 non-null float64\n",
      "2010_no_amerinds_alskns        4701 non-null float64\n",
      "2010_no_nonh_asians            4701 non-null float64\n",
      "2010_no_nonh_hawaii_pacific    4701 non-null float64\n",
      "2010_no_nonh_others            4701 non-null float64\n",
      "2010_no_nonh_multi             4701 non-null float64\n",
      "2010_no_hisp_latin             4701 non-null float64\n",
      "2010_construction              4701 non-null float64\n",
      "2010_retail                    4701 non-null float64\n",
      "2010_information               4701 non-null float64\n",
      "2010_finance                   4701 non-null float64\n",
      "2010_edu_health_social         4701 non-null float64\n",
      "2010_arts_recreation_accom     4701 non-null float64\n",
      "2010_public_admin              4701 non-null float64\n",
      "2010_armed_forces              4701 non-null float64\n",
      "2010_bachelors                 4701 non-null float64\n",
      "2010_male<25_bachelors         4701 non-null float64\n",
      "2010_female<25_bachelors       4701 non-null float64\n",
      "dtypes: float64(22), int64(1)\n",
      "memory usage: 844.8 KB\n"
     ]
    }
   ],
   "source": [
    "census_2010.info()"
   ]
  },
  {
   "cell_type": "code",
   "execution_count": 6,
   "metadata": {},
   "outputs": [
    {
     "name": "stdout",
     "output_type": "stream",
     "text": [
      "<class 'pandas.core.frame.DataFrame'>\n",
      "RangeIndex: 4700 entries, 0 to 4699\n",
      "Data columns (total 23 columns):\n",
      "geoid                          4700 non-null int64\n",
      "2018_population                4700 non-null float64\n",
      "2018_household_income          4700 non-null float64\n",
      "2018_home_value                4700 non-null float64\n",
      "2018_no_nonh_caucasians        4700 non-null float64\n",
      "2018_no_nonh_blacks/aas        4700 non-null float64\n",
      "2018_no_amerinds_alskns        4700 non-null float64\n",
      "2018_no_nonh_asians            4700 non-null float64\n",
      "2018_no_nonh_hawaii_pacific    4700 non-null float64\n",
      "2018_no_nonh_others            4700 non-null float64\n",
      "2018_no_nonh_multi             4700 non-null float64\n",
      "2018_no_hisp_latin             4700 non-null float64\n",
      "2018_construction              4700 non-null float64\n",
      "2018_retail                    4700 non-null float64\n",
      "2018_information               4700 non-null float64\n",
      "2018_finance                   4700 non-null float64\n",
      "2018_edu_health_social         4700 non-null float64\n",
      "2018_arts_recreation_accom     4700 non-null float64\n",
      "2018_public_admin              4700 non-null float64\n",
      "2018_armed_forces              4700 non-null float64\n",
      "2018_bachelors                 4700 non-null float64\n",
      "2018_male<25_bachelors         4700 non-null float64\n",
      "2018_female<25_bachelors       4700 non-null float64\n",
      "dtypes: float64(22), int64(1)\n",
      "memory usage: 844.7 KB\n"
     ]
    }
   ],
   "source": [
    "census_2018.info()"
   ]
  },
  {
   "cell_type": "markdown",
   "metadata": {},
   "source": [
    "Merge both datasets into one dataframe, based on geoid."
   ]
  },
  {
   "cell_type": "code",
   "execution_count": 7,
   "metadata": {},
   "outputs": [],
   "source": [
    "census_data = pd.merge(census_2010, census_2018, on='geoid')"
   ]
  },
  {
   "cell_type": "code",
   "execution_count": 8,
   "metadata": {},
   "outputs": [
    {
     "name": "stdout",
     "output_type": "stream",
     "text": [
      "<class 'pandas.core.frame.DataFrame'>\n",
      "Int64Index: 4700 entries, 0 to 4699\n",
      "Data columns (total 45 columns):\n",
      "geoid                          4700 non-null int64\n",
      "2010_population                4700 non-null float64\n",
      "2010_household_income          4700 non-null float64\n",
      "2010_home_value                4700 non-null float64\n",
      "2010_no_nonh_caucasians        4700 non-null float64\n",
      "2010_no_nonh_blacks/aas        4700 non-null float64\n",
      "2010_no_amerinds_alskns        4700 non-null float64\n",
      "2010_no_nonh_asians            4700 non-null float64\n",
      "2010_no_nonh_hawaii_pacific    4700 non-null float64\n",
      "2010_no_nonh_others            4700 non-null float64\n",
      "2010_no_nonh_multi             4700 non-null float64\n",
      "2010_no_hisp_latin             4700 non-null float64\n",
      "2010_construction              4700 non-null float64\n",
      "2010_retail                    4700 non-null float64\n",
      "2010_information               4700 non-null float64\n",
      "2010_finance                   4700 non-null float64\n",
      "2010_edu_health_social         4700 non-null float64\n",
      "2010_arts_recreation_accom     4700 non-null float64\n",
      "2010_public_admin              4700 non-null float64\n",
      "2010_armed_forces              4700 non-null float64\n",
      "2010_bachelors                 4700 non-null float64\n",
      "2010_male<25_bachelors         4700 non-null float64\n",
      "2010_female<25_bachelors       4700 non-null float64\n",
      "2018_population                4700 non-null float64\n",
      "2018_household_income          4700 non-null float64\n",
      "2018_home_value                4700 non-null float64\n",
      "2018_no_nonh_caucasians        4700 non-null float64\n",
      "2018_no_nonh_blacks/aas        4700 non-null float64\n",
      "2018_no_amerinds_alskns        4700 non-null float64\n",
      "2018_no_nonh_asians            4700 non-null float64\n",
      "2018_no_nonh_hawaii_pacific    4700 non-null float64\n",
      "2018_no_nonh_others            4700 non-null float64\n",
      "2018_no_nonh_multi             4700 non-null float64\n",
      "2018_no_hisp_latin             4700 non-null float64\n",
      "2018_construction              4700 non-null float64\n",
      "2018_retail                    4700 non-null float64\n",
      "2018_information               4700 non-null float64\n",
      "2018_finance                   4700 non-null float64\n",
      "2018_edu_health_social         4700 non-null float64\n",
      "2018_arts_recreation_accom     4700 non-null float64\n",
      "2018_public_admin              4700 non-null float64\n",
      "2018_armed_forces              4700 non-null float64\n",
      "2018_bachelors                 4700 non-null float64\n",
      "2018_male<25_bachelors         4700 non-null float64\n",
      "2018_female<25_bachelors       4700 non-null float64\n",
      "dtypes: float64(44), int64(1)\n",
      "memory usage: 1.6 MB\n"
     ]
    }
   ],
   "source": [
    "census_data.info()"
   ]
  },
  {
   "cell_type": "markdown",
   "metadata": {},
   "source": [
    "#### Data manipulation"
   ]
  },
  {
   "cell_type": "markdown",
   "metadata": {},
   "source": [
    "Account for inflation in 2018 home values, compared to 2010 home values.\n",
    "Inflation (CPI) over the 8 year period in the USA: 13.5%"
   ]
  },
  {
   "cell_type": "code",
   "execution_count": 9,
   "metadata": {},
   "outputs": [
    {
     "data": {
      "text/plain": [
       "0        710600.0\n",
       "1       2000001.0\n",
       "2        466600.0\n",
       "3        631000.0\n",
       "4        332800.0\n",
       "          ...    \n",
       "4695     161100.0\n",
       "4696     158100.0\n",
       "4697     125600.0\n",
       "4698     141600.0\n",
       "4699     161200.0\n",
       "Name: 2018_home_value, Length: 4700, dtype: float64"
      ]
     },
     "execution_count": 9,
     "metadata": {},
     "output_type": "execute_result"
    }
   ],
   "source": [
    "census_data['2018_home_value']"
   ]
  },
  {
   "cell_type": "code",
   "execution_count": 10,
   "metadata": {},
   "outputs": [],
   "source": [
    "census_data['2018_home_value'] = census_data['2018_home_value'] * 0.865"
   ]
  },
  {
   "cell_type": "code",
   "execution_count": 11,
   "metadata": {
    "scrolled": false
   },
   "outputs": [
    {
     "data": {
      "text/plain": [
       "0        614669.000\n",
       "1       1730000.865\n",
       "2        403609.000\n",
       "3        545815.000\n",
       "4        287872.000\n",
       "           ...     \n",
       "4695     139351.500\n",
       "4696     136756.500\n",
       "4697     108644.000\n",
       "4698     122484.000\n",
       "4699     139438.000\n",
       "Name: 2018_home_value, Length: 4700, dtype: float64"
      ]
     },
     "execution_count": 11,
     "metadata": {},
     "output_type": "execute_result"
    }
   ],
   "source": [
    "census_data['2018_home_value']"
   ]
  },
  {
   "cell_type": "markdown",
   "metadata": {},
   "source": [
    "Create column for number of people aged 25+ with bachelors degrees"
   ]
  },
  {
   "cell_type": "code",
   "execution_count": 12,
   "metadata": {},
   "outputs": [],
   "source": [
    "census_data['2018_>25bachelors'] = census_data['2018_bachelors'] - census_data['2018_male<25_bachelors'] - census_data['2018_female<25_bachelors']\n",
    "census_data['2010_>25bachelors'] = census_data['2010_bachelors'] - census_data['2010_male<25_bachelors'] - census_data['2010_female<25_bachelors']"
   ]
  },
  {
   "cell_type": "markdown",
   "metadata": {},
   "source": [
    "Remove corrupted entries with negative values"
   ]
  },
  {
   "cell_type": "code",
   "execution_count": 13,
   "metadata": {},
   "outputs": [],
   "source": [
    "census_data = census_data[census_data['2010_population'] > 0]\n",
    "census_data = census_data[census_data['2010_household_income'] > 0]\n",
    "census_data = census_data[census_data['2010_home_value'] > 0]\n",
    "census_data = census_data[census_data['2010_>25bachelors'] >= 0]\n",
    "census_data = census_data[census_data['2018_population'] > 0]\n",
    "census_data = census_data[census_data['2018_household_income'] > 0]\n",
    "census_data = census_data[census_data['2018_home_value'] > 0]\n",
    "census_data = census_data[census_data['2018_>25bachelors'] >= 0]"
   ]
  },
  {
   "cell_type": "markdown",
   "metadata": {},
   "source": [
    "Proportion of population aged 25+ with bachelors degrees."
   ]
  },
  {
   "cell_type": "code",
   "execution_count": 15,
   "metadata": {},
   "outputs": [],
   "source": [
    "census_data['2018_percent_>25bachelors'] = census_data['2018_>25bachelors'] / census_data['2018_population']\n",
    "census_data['2010_percent_>25bachelors'] = census_data['2010_>25bachelors'] / census_data['2010_population']"
   ]
  },
  {
   "cell_type": "markdown",
   "metadata": {},
   "source": [
    "Change in the proportion of population with bachelors degrees, from 2010 to 2018."
   ]
  },
  {
   "cell_type": "code",
   "execution_count": 16,
   "metadata": {},
   "outputs": [],
   "source": [
    "census_data['change_percent_>25bachelors'] = (census_data['2018_percent_>25bachelors'] - census_data['2010_percent_>25bachelors'])"
   ]
  },
  {
   "cell_type": "markdown",
   "metadata": {},
   "source": [
    "Percentage change in home value from 2010 to 2018."
   ]
  },
  {
   "cell_type": "code",
   "execution_count": 17,
   "metadata": {},
   "outputs": [],
   "source": [
    "census_data['percent_change_home_value'] = 100*(census_data['2018_home_value'] - census_data['2010_home_value']) / census_data['2010_home_value']"
   ]
  },
  {
   "cell_type": "code",
   "execution_count": 18,
   "metadata": {
    "scrolled": true
   },
   "outputs": [
    {
     "data": {
      "text/plain": [
       "0      -17.093472\n",
       "1       72.999914\n",
       "2      -23.890439\n",
       "3      -24.276498\n",
       "4      -21.624830\n",
       "          ...    \n",
       "4695   -19.774611\n",
       "4696   -36.273765\n",
       "4697   -36.981439\n",
       "4698   -32.329282\n",
       "4699   -29.219289\n",
       "Name: percent_change_home_value, Length: 4370, dtype: float64"
      ]
     },
     "execution_count": 18,
     "metadata": {},
     "output_type": "execute_result"
    }
   ],
   "source": [
    "census_data['percent_change_home_value']"
   ]
  },
  {
   "cell_type": "markdown",
   "metadata": {},
   "source": [
    "Apply test one to the entries, checking which tracts are eligible for gentrification."
   ]
  },
  {
   "cell_type": "code",
   "execution_count": 19,
   "metadata": {},
   "outputs": [],
   "source": [
    "census_data['gentrify_elig'] = 0\n",
    "\n",
    "income_40_percentile = census_data['2010_household_income'].quantile(0.4)\n",
    "value_40_percentile = census_data['2010_home_value'].quantile(0.4)\n",
    "\n",
    "census_data.loc[(census_data['2010_household_income'] <= income_40_percentile) & \n",
    "               (census_data['2010_home_value'] <= value_40_percentile) &\n",
    "               (census_data['2010_population'] >= 500), 'gentrify_elig'] = 1"
   ]
  },
  {
   "cell_type": "markdown",
   "metadata": {},
   "source": [
    "Calculate 66th percentile for increase in proportion of population with bachelors degrees and 66th percentile for percentage change in home value. Remove negative value of percent change because criteria is based on **increases** only."
   ]
  },
  {
   "cell_type": "code",
   "execution_count": 36,
   "metadata": {},
   "outputs": [],
   "source": [
    "census_data_copy = census_data.copy()\n",
    "census_data_copy = census_data_copy[census_data_copy['percent_change_home_value'] >= 0]\n",
    "census_data_copy = census_data_copy[census_data_copy['change_percent_>25bachelors'] >= 0]"
   ]
  },
  {
   "cell_type": "code",
   "execution_count": 38,
   "metadata": {},
   "outputs": [
    {
     "data": {
      "text/plain": [
       "0.0465370767343592"
      ]
     },
     "execution_count": 38,
     "metadata": {},
     "output_type": "execute_result"
    }
   ],
   "source": [
    "education_66_percentile = census_data_copy['change_percent_>25bachelors'].quantile(0.66)\n",
    "value_66_percentile = census_data_copy['percent_change_home_value'].quantile(0.66)\n",
    "education_66_percentile"
   ]
  },
  {
   "cell_type": "code",
   "execution_count": 39,
   "metadata": {
    "scrolled": true
   },
   "outputs": [
    {
     "data": {
      "text/plain": [
       "26.491263714533048"
      ]
     },
     "execution_count": 39,
     "metadata": {},
     "output_type": "execute_result"
    }
   ],
   "source": [
    "value_66_percentile"
   ]
  },
  {
   "cell_type": "markdown",
   "metadata": {},
   "source": [
    "Carry on test two: check which tracts have improved based on increase in proportion of people with bachelors degrees and increase in median home value."
   ]
  },
  {
   "cell_type": "code",
   "execution_count": 40,
   "metadata": {},
   "outputs": [],
   "source": [
    "census_data['test_two'] = 0\n",
    "\n",
    "census_data.loc[(census_data['change_percent_>25bachelors'] >= education_66_percentile) & \n",
    "               (census_data['percent_change_home_value'] >= value_66_percentile) &\n",
    "               (census_data['percent_change_home_value'] > 0), 'test_two'] = 1"
   ]
  },
  {
   "cell_type": "markdown",
   "metadata": {},
   "source": [
    "Check which tracts have gentrified: pass both tests 1 (eligible for gentrification) and 2 (improved)"
   ]
  },
  {
   "cell_type": "code",
   "execution_count": 41,
   "metadata": {},
   "outputs": [],
   "source": [
    "census_data['gentrified'] = 0\n",
    "\n",
    "census_data.loc[(census_data['gentrify_elig'] == 1) & \n",
    "               (census_data['test_two'] == 1), 'gentrified'] = 1"
   ]
  },
  {
   "cell_type": "code",
   "execution_count": 42,
   "metadata": {},
   "outputs": [
    {
     "data": {
      "text/plain": [
       "0       0\n",
       "1       0\n",
       "2       0\n",
       "3       0\n",
       "4       0\n",
       "       ..\n",
       "4695    0\n",
       "4696    0\n",
       "4697    0\n",
       "4698    0\n",
       "4699    0\n",
       "Name: gentrified, Length: 4370, dtype: int64"
      ]
     },
     "execution_count": 42,
     "metadata": {},
     "output_type": "execute_result"
    }
   ],
   "source": [
    "census_data['gentrified']"
   ]
  },
  {
   "cell_type": "code",
   "execution_count": 43,
   "metadata": {},
   "outputs": [
    {
     "data": {
      "text/plain": [
       "0    4357\n",
       "1      13\n",
       "Name: gentrified, dtype: int64"
      ]
     },
     "execution_count": 43,
     "metadata": {},
     "output_type": "execute_result"
    }
   ],
   "source": [
    "census_data['gentrified'].value_counts()"
   ]
  },
  {
   "cell_type": "markdown",
   "metadata": {},
   "source": [
    "13 tracts gentrified"
   ]
  },
  {
   "cell_type": "code",
   "execution_count": 44,
   "metadata": {},
   "outputs": [
    {
     "data": {
      "text/html": [
       "<div>\n",
       "<style scoped>\n",
       "    .dataframe tbody tr th:only-of-type {\n",
       "        vertical-align: middle;\n",
       "    }\n",
       "\n",
       "    .dataframe tbody tr th {\n",
       "        vertical-align: top;\n",
       "    }\n",
       "\n",
       "    .dataframe thead th {\n",
       "        text-align: right;\n",
       "    }\n",
       "</style>\n",
       "<table border=\"1\" class=\"dataframe\">\n",
       "  <thead>\n",
       "    <tr style=\"text-align: right;\">\n",
       "      <th></th>\n",
       "      <th>geoid</th>\n",
       "      <th>2010_population</th>\n",
       "      <th>2010_household_income</th>\n",
       "      <th>2010_home_value</th>\n",
       "      <th>2010_no_nonh_caucasians</th>\n",
       "      <th>2010_no_nonh_blacks/aas</th>\n",
       "      <th>2010_no_amerinds_alskns</th>\n",
       "      <th>2010_no_nonh_asians</th>\n",
       "      <th>2010_no_nonh_hawaii_pacific</th>\n",
       "      <th>2010_no_nonh_others</th>\n",
       "      <th>...</th>\n",
       "      <th>2018_female&lt;25_bachelors</th>\n",
       "      <th>2018_&gt;25bachelors</th>\n",
       "      <th>2010_&gt;25bachelors</th>\n",
       "      <th>2018_percent_&gt;25bachelors</th>\n",
       "      <th>2010_percent_&gt;25bachelors</th>\n",
       "      <th>change_percent_&gt;25bachelors</th>\n",
       "      <th>percent_change_home_value</th>\n",
       "      <th>gentrify_elig</th>\n",
       "      <th>test_two</th>\n",
       "      <th>gentrified</th>\n",
       "    </tr>\n",
       "  </thead>\n",
       "  <tbody>\n",
       "    <tr>\n",
       "      <th>447</th>\n",
       "      <td>34017007100</td>\n",
       "      <td>2747.0</td>\n",
       "      <td>34438.0</td>\n",
       "      <td>303700.0</td>\n",
       "      <td>797.0</td>\n",
       "      <td>294.0</td>\n",
       "      <td>31.0</td>\n",
       "      <td>752.0</td>\n",
       "      <td>0.0</td>\n",
       "      <td>118.0</td>\n",
       "      <td>...</td>\n",
       "      <td>23.0</td>\n",
       "      <td>702.0</td>\n",
       "      <td>388.0</td>\n",
       "      <td>0.211893</td>\n",
       "      <td>0.141245</td>\n",
       "      <td>0.070648</td>\n",
       "      <td>60.211557</td>\n",
       "      <td>1</td>\n",
       "      <td>1</td>\n",
       "      <td>1</td>\n",
       "    </tr>\n",
       "    <tr>\n",
       "      <th>776</th>\n",
       "      <td>34025805600</td>\n",
       "      <td>1680.0</td>\n",
       "      <td>25510.0</td>\n",
       "      <td>205400.0</td>\n",
       "      <td>185.0</td>\n",
       "      <td>692.0</td>\n",
       "      <td>12.0</td>\n",
       "      <td>0.0</td>\n",
       "      <td>0.0</td>\n",
       "      <td>22.0</td>\n",
       "      <td>...</td>\n",
       "      <td>0.0</td>\n",
       "      <td>120.0</td>\n",
       "      <td>0.0</td>\n",
       "      <td>0.048940</td>\n",
       "      <td>0.000000</td>\n",
       "      <td>0.048940</td>\n",
       "      <td>33.624391</td>\n",
       "      <td>1</td>\n",
       "      <td>1</td>\n",
       "      <td>1</td>\n",
       "    </tr>\n",
       "    <tr>\n",
       "      <th>1925</th>\n",
       "      <td>36047008800</td>\n",
       "      <td>3007.0</td>\n",
       "      <td>43321.0</td>\n",
       "      <td>276300.0</td>\n",
       "      <td>901.0</td>\n",
       "      <td>7.0</td>\n",
       "      <td>0.0</td>\n",
       "      <td>219.0</td>\n",
       "      <td>0.0</td>\n",
       "      <td>0.0</td>\n",
       "      <td>...</td>\n",
       "      <td>59.0</td>\n",
       "      <td>299.0</td>\n",
       "      <td>174.0</td>\n",
       "      <td>0.113429</td>\n",
       "      <td>0.057865</td>\n",
       "      <td>0.055564</td>\n",
       "      <td>53.151647</td>\n",
       "      <td>1</td>\n",
       "      <td>1</td>\n",
       "      <td>1</td>\n",
       "    </tr>\n",
       "    <tr>\n",
       "      <th>1943</th>\n",
       "      <td>36047011900</td>\n",
       "      <td>1635.0</td>\n",
       "      <td>55156.0</td>\n",
       "      <td>382600.0</td>\n",
       "      <td>664.0</td>\n",
       "      <td>190.0</td>\n",
       "      <td>12.0</td>\n",
       "      <td>0.0</td>\n",
       "      <td>0.0</td>\n",
       "      <td>14.0</td>\n",
       "      <td>...</td>\n",
       "      <td>13.0</td>\n",
       "      <td>315.0</td>\n",
       "      <td>235.0</td>\n",
       "      <td>0.228758</td>\n",
       "      <td>0.143731</td>\n",
       "      <td>0.085027</td>\n",
       "      <td>133.161134</td>\n",
       "      <td>1</td>\n",
       "      <td>1</td>\n",
       "      <td>1</td>\n",
       "    </tr>\n",
       "    <tr>\n",
       "      <th>2294</th>\n",
       "      <td>36047042900</td>\n",
       "      <td>6010.0</td>\n",
       "      <td>30813.0</td>\n",
       "      <td>184700.0</td>\n",
       "      <td>390.0</td>\n",
       "      <td>499.0</td>\n",
       "      <td>24.0</td>\n",
       "      <td>242.0</td>\n",
       "      <td>0.0</td>\n",
       "      <td>0.0</td>\n",
       "      <td>...</td>\n",
       "      <td>48.0</td>\n",
       "      <td>375.0</td>\n",
       "      <td>71.0</td>\n",
       "      <td>0.070409</td>\n",
       "      <td>0.011814</td>\n",
       "      <td>0.058596</td>\n",
       "      <td>227.407417</td>\n",
       "      <td>1</td>\n",
       "      <td>1</td>\n",
       "      <td>1</td>\n",
       "    </tr>\n",
       "    <tr>\n",
       "      <th>2312</th>\n",
       "      <td>36047044700</td>\n",
       "      <td>1880.0</td>\n",
       "      <td>41648.0</td>\n",
       "      <td>281800.0</td>\n",
       "      <td>357.0</td>\n",
       "      <td>67.0</td>\n",
       "      <td>0.0</td>\n",
       "      <td>44.0</td>\n",
       "      <td>0.0</td>\n",
       "      <td>31.0</td>\n",
       "      <td>...</td>\n",
       "      <td>47.0</td>\n",
       "      <td>262.0</td>\n",
       "      <td>83.0</td>\n",
       "      <td>0.110177</td>\n",
       "      <td>0.044149</td>\n",
       "      <td>0.066028</td>\n",
       "      <td>135.710965</td>\n",
       "      <td>1</td>\n",
       "      <td>1</td>\n",
       "      <td>1</td>\n",
       "    </tr>\n",
       "    <tr>\n",
       "      <th>2334</th>\n",
       "      <td>36047048200</td>\n",
       "      <td>5709.0</td>\n",
       "      <td>30164.0</td>\n",
       "      <td>317300.0</td>\n",
       "      <td>3973.0</td>\n",
       "      <td>337.0</td>\n",
       "      <td>0.0</td>\n",
       "      <td>863.0</td>\n",
       "      <td>0.0</td>\n",
       "      <td>8.0</td>\n",
       "      <td>...</td>\n",
       "      <td>53.0</td>\n",
       "      <td>669.0</td>\n",
       "      <td>360.0</td>\n",
       "      <td>0.125894</td>\n",
       "      <td>0.063058</td>\n",
       "      <td>0.062836</td>\n",
       "      <td>33.771037</td>\n",
       "      <td>1</td>\n",
       "      <td>1</td>\n",
       "      <td>1</td>\n",
       "    </tr>\n",
       "    <tr>\n",
       "      <th>2367</th>\n",
       "      <td>36047051400</td>\n",
       "      <td>7620.0</td>\n",
       "      <td>38977.0</td>\n",
       "      <td>266200.0</td>\n",
       "      <td>636.0</td>\n",
       "      <td>4347.0</td>\n",
       "      <td>0.0</td>\n",
       "      <td>471.0</td>\n",
       "      <td>0.0</td>\n",
       "      <td>0.0</td>\n",
       "      <td>...</td>\n",
       "      <td>0.0</td>\n",
       "      <td>1147.0</td>\n",
       "      <td>343.0</td>\n",
       "      <td>0.144422</td>\n",
       "      <td>0.045013</td>\n",
       "      <td>0.099409</td>\n",
       "      <td>37.776108</td>\n",
       "      <td>1</td>\n",
       "      <td>1</td>\n",
       "      <td>1</td>\n",
       "    </tr>\n",
       "    <tr>\n",
       "      <th>2922</th>\n",
       "      <td>36061018400</td>\n",
       "      <td>8434.0</td>\n",
       "      <td>27236.0</td>\n",
       "      <td>372400.0</td>\n",
       "      <td>445.0</td>\n",
       "      <td>2559.0</td>\n",
       "      <td>0.0</td>\n",
       "      <td>394.0</td>\n",
       "      <td>0.0</td>\n",
       "      <td>16.0</td>\n",
       "      <td>...</td>\n",
       "      <td>9.0</td>\n",
       "      <td>707.0</td>\n",
       "      <td>275.0</td>\n",
       "      <td>0.097410</td>\n",
       "      <td>0.032606</td>\n",
       "      <td>0.064804</td>\n",
       "      <td>91.280209</td>\n",
       "      <td>1</td>\n",
       "      <td>1</td>\n",
       "      <td>1</td>\n",
       "    </tr>\n",
       "    <tr>\n",
       "      <th>2951</th>\n",
       "      <td>36061021303</td>\n",
       "      <td>6058.0</td>\n",
       "      <td>40512.0</td>\n",
       "      <td>193800.0</td>\n",
       "      <td>672.0</td>\n",
       "      <td>3240.0</td>\n",
       "      <td>12.0</td>\n",
       "      <td>118.0</td>\n",
       "      <td>0.0</td>\n",
       "      <td>128.0</td>\n",
       "      <td>...</td>\n",
       "      <td>31.0</td>\n",
       "      <td>809.0</td>\n",
       "      <td>496.0</td>\n",
       "      <td>0.134811</td>\n",
       "      <td>0.081875</td>\n",
       "      <td>0.052936</td>\n",
       "      <td>92.995872</td>\n",
       "      <td>1</td>\n",
       "      <td>1</td>\n",
       "      <td>1</td>\n",
       "    </tr>\n",
       "    <tr>\n",
       "      <th>2986</th>\n",
       "      <td>36061024500</td>\n",
       "      <td>15698.0</td>\n",
       "      <td>34802.0</td>\n",
       "      <td>254500.0</td>\n",
       "      <td>612.0</td>\n",
       "      <td>1326.0</td>\n",
       "      <td>114.0</td>\n",
       "      <td>161.0</td>\n",
       "      <td>0.0</td>\n",
       "      <td>22.0</td>\n",
       "      <td>...</td>\n",
       "      <td>135.0</td>\n",
       "      <td>1601.0</td>\n",
       "      <td>598.0</td>\n",
       "      <td>0.103584</td>\n",
       "      <td>0.038094</td>\n",
       "      <td>0.065490</td>\n",
       "      <td>92.305305</td>\n",
       "      <td>1</td>\n",
       "      <td>1</td>\n",
       "      <td>1</td>\n",
       "    </tr>\n",
       "    <tr>\n",
       "      <th>3637</th>\n",
       "      <td>36081007500</td>\n",
       "      <td>4073.0</td>\n",
       "      <td>34386.0</td>\n",
       "      <td>323500.0</td>\n",
       "      <td>2427.0</td>\n",
       "      <td>16.0</td>\n",
       "      <td>0.0</td>\n",
       "      <td>478.0</td>\n",
       "      <td>0.0</td>\n",
       "      <td>14.0</td>\n",
       "      <td>...</td>\n",
       "      <td>56.0</td>\n",
       "      <td>911.0</td>\n",
       "      <td>542.0</td>\n",
       "      <td>0.222141</td>\n",
       "      <td>0.133071</td>\n",
       "      <td>0.089069</td>\n",
       "      <td>62.063833</td>\n",
       "      <td>1</td>\n",
       "      <td>1</td>\n",
       "      <td>1</td>\n",
       "    </tr>\n",
       "    <tr>\n",
       "      <th>3760</th>\n",
       "      <td>36081024500</td>\n",
       "      <td>4941.0</td>\n",
       "      <td>32100.0</td>\n",
       "      <td>34100.0</td>\n",
       "      <td>1909.0</td>\n",
       "      <td>101.0</td>\n",
       "      <td>0.0</td>\n",
       "      <td>1099.0</td>\n",
       "      <td>0.0</td>\n",
       "      <td>0.0</td>\n",
       "      <td>...</td>\n",
       "      <td>0.0</td>\n",
       "      <td>834.0</td>\n",
       "      <td>313.0</td>\n",
       "      <td>0.161066</td>\n",
       "      <td>0.063348</td>\n",
       "      <td>0.097719</td>\n",
       "      <td>585.151026</td>\n",
       "      <td>1</td>\n",
       "      <td>1</td>\n",
       "      <td>1</td>\n",
       "    </tr>\n",
       "  </tbody>\n",
       "</table>\n",
       "<p>13 rows × 54 columns</p>\n",
       "</div>"
      ],
      "text/plain": [
       "            geoid  2010_population  2010_household_income  2010_home_value  \\\n",
       "447   34017007100           2747.0                34438.0         303700.0   \n",
       "776   34025805600           1680.0                25510.0         205400.0   \n",
       "1925  36047008800           3007.0                43321.0         276300.0   \n",
       "1943  36047011900           1635.0                55156.0         382600.0   \n",
       "2294  36047042900           6010.0                30813.0         184700.0   \n",
       "2312  36047044700           1880.0                41648.0         281800.0   \n",
       "2334  36047048200           5709.0                30164.0         317300.0   \n",
       "2367  36047051400           7620.0                38977.0         266200.0   \n",
       "2922  36061018400           8434.0                27236.0         372400.0   \n",
       "2951  36061021303           6058.0                40512.0         193800.0   \n",
       "2986  36061024500          15698.0                34802.0         254500.0   \n",
       "3637  36081007500           4073.0                34386.0         323500.0   \n",
       "3760  36081024500           4941.0                32100.0          34100.0   \n",
       "\n",
       "      2010_no_nonh_caucasians  2010_no_nonh_blacks/aas  \\\n",
       "447                     797.0                    294.0   \n",
       "776                     185.0                    692.0   \n",
       "1925                    901.0                      7.0   \n",
       "1943                    664.0                    190.0   \n",
       "2294                    390.0                    499.0   \n",
       "2312                    357.0                     67.0   \n",
       "2334                   3973.0                    337.0   \n",
       "2367                    636.0                   4347.0   \n",
       "2922                    445.0                   2559.0   \n",
       "2951                    672.0                   3240.0   \n",
       "2986                    612.0                   1326.0   \n",
       "3637                   2427.0                     16.0   \n",
       "3760                   1909.0                    101.0   \n",
       "\n",
       "      2010_no_amerinds_alskns  2010_no_nonh_asians  \\\n",
       "447                      31.0                752.0   \n",
       "776                      12.0                  0.0   \n",
       "1925                      0.0                219.0   \n",
       "1943                     12.0                  0.0   \n",
       "2294                     24.0                242.0   \n",
       "2312                      0.0                 44.0   \n",
       "2334                      0.0                863.0   \n",
       "2367                      0.0                471.0   \n",
       "2922                      0.0                394.0   \n",
       "2951                     12.0                118.0   \n",
       "2986                    114.0                161.0   \n",
       "3637                      0.0                478.0   \n",
       "3760                      0.0               1099.0   \n",
       "\n",
       "      2010_no_nonh_hawaii_pacific  2010_no_nonh_others  ...  \\\n",
       "447                           0.0                118.0  ...   \n",
       "776                           0.0                 22.0  ...   \n",
       "1925                          0.0                  0.0  ...   \n",
       "1943                          0.0                 14.0  ...   \n",
       "2294                          0.0                  0.0  ...   \n",
       "2312                          0.0                 31.0  ...   \n",
       "2334                          0.0                  8.0  ...   \n",
       "2367                          0.0                  0.0  ...   \n",
       "2922                          0.0                 16.0  ...   \n",
       "2951                          0.0                128.0  ...   \n",
       "2986                          0.0                 22.0  ...   \n",
       "3637                          0.0                 14.0  ...   \n",
       "3760                          0.0                  0.0  ...   \n",
       "\n",
       "      2018_female<25_bachelors  2018_>25bachelors  2010_>25bachelors  \\\n",
       "447                       23.0              702.0              388.0   \n",
       "776                        0.0              120.0                0.0   \n",
       "1925                      59.0              299.0              174.0   \n",
       "1943                      13.0              315.0              235.0   \n",
       "2294                      48.0              375.0               71.0   \n",
       "2312                      47.0              262.0               83.0   \n",
       "2334                      53.0              669.0              360.0   \n",
       "2367                       0.0             1147.0              343.0   \n",
       "2922                       9.0              707.0              275.0   \n",
       "2951                      31.0              809.0              496.0   \n",
       "2986                     135.0             1601.0              598.0   \n",
       "3637                      56.0              911.0              542.0   \n",
       "3760                       0.0              834.0              313.0   \n",
       "\n",
       "      2018_percent_>25bachelors  2010_percent_>25bachelors  \\\n",
       "447                    0.211893                   0.141245   \n",
       "776                    0.048940                   0.000000   \n",
       "1925                   0.113429                   0.057865   \n",
       "1943                   0.228758                   0.143731   \n",
       "2294                   0.070409                   0.011814   \n",
       "2312                   0.110177                   0.044149   \n",
       "2334                   0.125894                   0.063058   \n",
       "2367                   0.144422                   0.045013   \n",
       "2922                   0.097410                   0.032606   \n",
       "2951                   0.134811                   0.081875   \n",
       "2986                   0.103584                   0.038094   \n",
       "3637                   0.222141                   0.133071   \n",
       "3760                   0.161066                   0.063348   \n",
       "\n",
       "      change_percent_>25bachelors  percent_change_home_value  gentrify_elig  \\\n",
       "447                      0.070648                  60.211557              1   \n",
       "776                      0.048940                  33.624391              1   \n",
       "1925                     0.055564                  53.151647              1   \n",
       "1943                     0.085027                 133.161134              1   \n",
       "2294                     0.058596                 227.407417              1   \n",
       "2312                     0.066028                 135.710965              1   \n",
       "2334                     0.062836                  33.771037              1   \n",
       "2367                     0.099409                  37.776108              1   \n",
       "2922                     0.064804                  91.280209              1   \n",
       "2951                     0.052936                  92.995872              1   \n",
       "2986                     0.065490                  92.305305              1   \n",
       "3637                     0.089069                  62.063833              1   \n",
       "3760                     0.097719                 585.151026              1   \n",
       "\n",
       "      test_two  gentrified  \n",
       "447          1           1  \n",
       "776          1           1  \n",
       "1925         1           1  \n",
       "1943         1           1  \n",
       "2294         1           1  \n",
       "2312         1           1  \n",
       "2334         1           1  \n",
       "2367         1           1  \n",
       "2922         1           1  \n",
       "2951         1           1  \n",
       "2986         1           1  \n",
       "3637         1           1  \n",
       "3760         1           1  \n",
       "\n",
       "[13 rows x 54 columns]"
      ]
     },
     "execution_count": 44,
     "metadata": {},
     "output_type": "execute_result"
    }
   ],
   "source": [
    "census_data.loc[census_data['gentrified'] == 1]"
   ]
  },
  {
   "cell_type": "code",
   "execution_count": 45,
   "metadata": {
    "scrolled": true
   },
   "outputs": [
    {
     "data": {
      "text/plain": [
       "0    3528\n",
       "1     842\n",
       "Name: gentrify_elig, dtype: int64"
      ]
     },
     "execution_count": 45,
     "metadata": {},
     "output_type": "execute_result"
    }
   ],
   "source": [
    "census_data['gentrify_elig'].value_counts()"
   ]
  },
  {
   "cell_type": "markdown",
   "metadata": {},
   "source": [
    "842 tracts eligible for gentrification"
   ]
  },
  {
   "cell_type": "code",
   "execution_count": 46,
   "metadata": {},
   "outputs": [
    {
     "data": {
      "text/plain": [
       "0    4296\n",
       "1      74\n",
       "Name: test_two, dtype: int64"
      ]
     },
     "execution_count": 46,
     "metadata": {},
     "output_type": "execute_result"
    }
   ],
   "source": [
    "census_data['test_two'].value_counts()"
   ]
  },
  {
   "cell_type": "markdown",
   "metadata": {},
   "source": [
    "74 tracts have improved"
   ]
  },
  {
   "cell_type": "markdown",
   "metadata": {},
   "source": [
    "Correlation for gentrification eligibility, improvement and gentrification."
   ]
  },
  {
   "cell_type": "code",
   "execution_count": 47,
   "metadata": {},
   "outputs": [
    {
     "data": {
      "text/plain": [
       "gentrify_elig                  1.000000\n",
       "2018_no_hisp_latin             0.338117\n",
       "2010_no_hisp_latin             0.321773\n",
       "2010_no_nonh_blacks/aas        0.268569\n",
       "2018_no_nonh_blacks/aas        0.253479\n",
       "gentrified                     0.111811\n",
       "2018_arts_recreation_accom     0.088252\n",
       "2018_no_amerinds_alskns        0.087745\n",
       "2010_no_amerinds_alskns        0.054162\n",
       "2018_no_nonh_others            0.049124\n",
       "2018_retail                    0.047614\n",
       "percent_change_home_value      0.046813\n",
       "2010_arts_recreation_accom     0.043675\n",
       "2010_no_nonh_others            0.038822\n",
       "2018_population                0.037102\n",
       "2018_construction              0.028580\n",
       "2010_armed_forces              0.027868\n",
       "2010_population                0.023721\n",
       "2010_construction              0.010709\n",
       "2018_no_nonh_hawaii_pacific    0.000167\n",
       "2010_retail                   -0.000540\n",
       "2018_armed_forces             -0.003987\n",
       "test_two                      -0.005658\n",
       "2010_no_nonh_hawaii_pacific   -0.005709\n",
       "2010_no_nonh_multi            -0.021541\n",
       "change_percent_>25bachelors   -0.025766\n",
       "2018_no_nonh_multi            -0.053354\n",
       "2010_edu_health_social        -0.058178\n",
       "2018_edu_health_social        -0.060183\n",
       "2010_public_admin             -0.069780\n",
       "2018_public_admin             -0.075907\n",
       "2010_no_nonh_asians           -0.083455\n",
       "2018_no_nonh_asians           -0.096525\n",
       "2010_female<25_bachelors      -0.102783\n",
       "2018_male<25_bachelors        -0.121818\n",
       "2010_male<25_bachelors        -0.142074\n",
       "geoid                         -0.142336\n",
       "2018_female<25_bachelors      -0.153093\n",
       "2018_information              -0.168147\n",
       "2010_information              -0.172911\n",
       "2018_finance                  -0.186584\n",
       "2010_finance                  -0.188538\n",
       "2018_bachelors                -0.226181\n",
       "2018_>25bachelors             -0.226669\n",
       "2010_bachelors                -0.236275\n",
       "2010_>25bachelors             -0.240077\n",
       "2018_no_nonh_caucasians       -0.283050\n",
       "2010_no_nonh_caucasians       -0.289679\n",
       "2010_percent_>25bachelors     -0.338479\n",
       "2018_percent_>25bachelors     -0.347373\n",
       "2018_home_value               -0.349774\n",
       "2018_household_income         -0.437107\n",
       "2010_household_income         -0.438979\n",
       "2010_home_value               -0.486853\n",
       "Name: gentrify_elig, dtype: float64"
      ]
     },
     "execution_count": 47,
     "metadata": {},
     "output_type": "execute_result"
    }
   ],
   "source": [
    "corr_matrix = census_data.corr()\n",
    "corr_matrix[\"gentrify_elig\"].sort_values(ascending=False)"
   ]
  },
  {
   "cell_type": "code",
   "execution_count": 48,
   "metadata": {},
   "outputs": [
    {
     "data": {
      "text/plain": [
       "gentrified                     1.000000\n",
       "test_two                       0.416192\n",
       "gentrify_elig                  0.111811\n",
       "2018_arts_recreation_accom     0.110051\n",
       "2010_no_hisp_latin             0.096245\n",
       "percent_change_home_value      0.080577\n",
       "change_percent_>25bachelors    0.077471\n",
       "2018_no_hisp_latin             0.064415\n",
       "2010_arts_recreation_accom     0.050634\n",
       "2018_male<25_bachelors         0.047744\n",
       "2018_no_nonh_multi             0.036408\n",
       "2010_population                0.033788\n",
       "2010_female<25_bachelors       0.030862\n",
       "2018_population                0.027177\n",
       "2018_information               0.026078\n",
       "2010_no_nonh_blacks/aas        0.021894\n",
       "2018_retail                    0.021243\n",
       "2018_bachelors                 0.021226\n",
       "2010_no_nonh_multi             0.020232\n",
       "2018_no_nonh_blacks/aas        0.019449\n",
       "geoid                          0.016350\n",
       "2010_edu_health_social         0.015365\n",
       "2010_construction              0.014860\n",
       "2018_>25bachelors              0.013472\n",
       "2018_no_nonh_asians            0.013314\n",
       "2018_no_amerinds_alskns        0.012033\n",
       "2010_retail                    0.011499\n",
       "2018_construction              0.010953\n",
       "2018_home_value                0.010796\n",
       "2010_no_amerinds_alskns        0.009673\n",
       "2018_edu_health_social         0.008445\n",
       "2010_armed_forces              0.005516\n",
       "2018_percent_>25bachelors      0.005114\n",
       "2010_no_nonh_others            0.003844\n",
       "2018_female<25_bachelors       0.001135\n",
       "2018_no_nonh_hawaii_pacific   -0.001433\n",
       "2010_finance                  -0.002223\n",
       "2010_information              -0.002682\n",
       "2010_no_nonh_asians           -0.002811\n",
       "2010_no_nonh_hawaii_pacific   -0.006286\n",
       "2018_no_nonh_others           -0.007343\n",
       "2018_armed_forces             -0.008496\n",
       "2018_public_admin             -0.008649\n",
       "2010_male<25_bachelors        -0.010750\n",
       "2018_finance                  -0.014439\n",
       "2010_bachelors                -0.021908\n",
       "2010_public_admin             -0.022234\n",
       "2010_>25bachelors             -0.028234\n",
       "2018_no_nonh_caucasians       -0.029210\n",
       "2010_no_nonh_caucasians       -0.034352\n",
       "2018_household_income         -0.041347\n",
       "2010_percent_>25bachelors     -0.043215\n",
       "2010_household_income         -0.057196\n",
       "2010_home_value               -0.065670\n",
       "Name: gentrified, dtype: float64"
      ]
     },
     "execution_count": 48,
     "metadata": {},
     "output_type": "execute_result"
    }
   ],
   "source": [
    "corr_matrix[\"gentrified\"].sort_values(ascending=False)"
   ]
  },
  {
   "cell_type": "code",
   "execution_count": 49,
   "metadata": {},
   "outputs": [
    {
     "data": {
      "text/plain": [
       "test_two                       1.000000\n",
       "gentrified                     0.416192\n",
       "2018_home_value                0.282912\n",
       "change_percent_>25bachelors    0.234283\n",
       "2018_information               0.176000\n",
       "2018_male<25_bachelors         0.175826\n",
       "2018_percent_>25bachelors      0.149544\n",
       "percent_change_home_value      0.116408\n",
       "2010_male<25_bachelors         0.106581\n",
       "2018_bachelors                 0.104957\n",
       "2010_female<25_bachelors       0.102613\n",
       "2010_home_value                0.094324\n",
       "2018_>25bachelors              0.077132\n",
       "2018_arts_recreation_accom     0.075793\n",
       "2018_finance                   0.073509\n",
       "2018_no_nonh_multi             0.072129\n",
       "2010_information               0.066402\n",
       "geoid                          0.057634\n",
       "2010_arts_recreation_accom     0.053336\n",
       "2018_female<25_bachelors       0.051724\n",
       "2018_household_income          0.046870\n",
       "2010_no_nonh_multi             0.035922\n",
       "2010_finance                   0.030813\n",
       "2018_no_nonh_asians            0.019060\n",
       "2010_no_nonh_blacks/aas        0.015112\n",
       "2010_no_hisp_latin             0.010534\n",
       "2010_bachelors                 0.008412\n",
       "2010_percent_>25bachelors      0.006175\n",
       "2010_no_amerinds_alskns        0.003842\n",
       "2018_no_nonh_blacks/aas        0.001742\n",
       "2010_no_nonh_asians            0.001588\n",
       "2010_armed_forces             -0.000803\n",
       "2018_no_nonh_hawaii_pacific   -0.002794\n",
       "2010_no_nonh_others           -0.005078\n",
       "gentrify_elig                 -0.005658\n",
       "2018_no_amerinds_alskns       -0.005726\n",
       "2018_population               -0.009459\n",
       "2010_household_income         -0.009861\n",
       "2018_no_hisp_latin            -0.010698\n",
       "2010_no_nonh_hawaii_pacific   -0.012229\n",
       "2018_no_nonh_caucasians       -0.014663\n",
       "2018_no_nonh_others           -0.015517\n",
       "2018_armed_forces             -0.020415\n",
       "2018_edu_health_social        -0.029863\n",
       "2018_retail                   -0.030219\n",
       "2010_>25bachelors             -0.030482\n",
       "2010_population               -0.031809\n",
       "2010_edu_health_social        -0.032334\n",
       "2018_public_admin             -0.036498\n",
       "2010_no_nonh_caucasians       -0.049120\n",
       "2010_public_admin             -0.049433\n",
       "2010_retail                   -0.053142\n",
       "2010_construction             -0.055183\n",
       "2018_construction             -0.068192\n",
       "Name: test_two, dtype: float64"
      ]
     },
     "execution_count": 49,
     "metadata": {},
     "output_type": "execute_result"
    }
   ],
   "source": [
    "corr_matrix['test_two'].sort_values(ascending=False)"
   ]
  },
  {
   "cell_type": "code",
   "execution_count": 50,
   "metadata": {},
   "outputs": [],
   "source": [
    "census_data.to_csv('test_one__test_two.csv', index=False)"
   ]
  },
  {
   "cell_type": "markdown",
   "metadata": {},
   "source": [
    "## Random Forest"
   ]
  },
  {
   "cell_type": "markdown",
   "metadata": {},
   "source": [
    "Predict whether a tract passes test two (sufficient improvement for gentrification)"
   ]
  },
  {
   "cell_type": "code",
   "execution_count": 51,
   "metadata": {},
   "outputs": [
    {
     "data": {
      "text/plain": [
       "1.0"
      ]
     },
     "execution_count": 51,
     "metadata": {},
     "output_type": "execute_result"
    }
   ],
   "source": [
    "census_data_x = census_data.copy()\n",
    "census_data_x = census_data_x.drop(columns=['gentrify_elig', 'geoid', 'test_two', 'gentrified'])\n",
    "census_data_y = census_data['test_two']\n",
    "forest_clf = RandomForestClassifier(n_estimators=100, random_state=42)\n",
    "forest_clf.fit(census_data_x, census_data_y)\n",
    "forest_scores = cross_val_score(forest_clf, census_data_x, census_data_y, cv=5)\n",
    "forest_scores.mean()"
   ]
  },
  {
   "cell_type": "code",
   "execution_count": 52,
   "metadata": {},
   "outputs": [
    {
     "data": {
      "text/plain": [
       "0.9995428571428573"
      ]
     },
     "execution_count": 52,
     "metadata": {},
     "output_type": "execute_result"
    }
   ],
   "source": [
    "census_data_y2 = census_data['gentrified']\n",
    "forest_clf2 = RandomForestClassifier(n_estimators=100, random_state=42)\n",
    "forest_clf2.fit(census_data_x, census_data_y2)\n",
    "forest_scores = cross_val_score(forest_clf2, census_data_x, census_data_y2, cv=5)\n",
    "forest_scores.mean()"
   ]
  },
  {
   "cell_type": "markdown",
   "metadata": {},
   "source": [
    "#### Test on data from San Francisco MSA"
   ]
  },
  {
   "cell_type": "code",
   "execution_count": 84,
   "metadata": {},
   "outputs": [],
   "source": [
    "ca_data_path = os.path.join('datasets', 'CA MSA new')"
   ]
  },
  {
   "cell_type": "code",
   "execution_count": 85,
   "metadata": {},
   "outputs": [],
   "source": [
    "ca_census_2010 = load_data(\"ca_census_2010.csv\", ca_data_path)\n",
    "ca_census_2018 = load_data(\"ca_census_2018.csv\", ca_data_path)"
   ]
  },
  {
   "cell_type": "code",
   "execution_count": 86,
   "metadata": {},
   "outputs": [],
   "source": [
    "ca_census_2010 = ca_census_2010.drop(columns=['year', 'NAME', 'state', 'county', 'tract'])\n",
    "ca_census_2018 = ca_census_2018.drop(columns=['year', 'NAME', 'state', 'county', 'tract'])"
   ]
  },
  {
   "cell_type": "code",
   "execution_count": 87,
   "metadata": {},
   "outputs": [],
   "source": [
    "column_names(ca_census_2010, '2010')\n",
    "column_names(ca_census_2018, '2018')"
   ]
  },
  {
   "cell_type": "code",
   "execution_count": 88,
   "metadata": {},
   "outputs": [],
   "source": [
    "ca_census_data = pd.merge(ca_census_2010, ca_census_2018, on='geoid')"
   ]
  },
  {
   "cell_type": "code",
   "execution_count": 89,
   "metadata": {},
   "outputs": [],
   "source": [
    "ca_census_data['2018_home_value'] = ca_census_data['2018_home_value'] * 0.865\n",
    "\n",
    "ca_census_data['2018_>25bachelors'] = ca_census_data['2018_bachelors'] - ca_census_data['2018_male<25_bachelors'] - ca_census_data['2018_female<25_bachelors']\n",
    "ca_census_data['2010_>25bachelors'] = ca_census_data['2010_bachelors'] - ca_census_data['2010_male<25_bachelors'] - ca_census_data['2010_female<25_bachelors']\n",
    "\n",
    "ca_census_data = ca_census_data[ca_census_data['2010_population'] > 0]\n",
    "ca_census_data = ca_census_data[ca_census_data['2010_household_income'] > 0]\n",
    "ca_census_data = ca_census_data[ca_census_data['2010_home_value'] > 0]\n",
    "ca_census_data = ca_census_data[ca_census_data['2010_>25bachelors'] >= 0]\n",
    "ca_census_data = ca_census_data[ca_census_data['2018_population'] > 0]\n",
    "ca_census_data = ca_census_data[ca_census_data['2018_household_income'] > 0]\n",
    "ca_census_data = ca_census_data[ca_census_data['2018_home_value'] > 0]\n",
    "ca_census_data = ca_census_data[ca_census_data['2018_>25bachelors'] >= 0]\n",
    "\n",
    "ca_census_data['2018_percent_>25bachelors'] = ca_census_data['2018_>25bachelors'] / ca_census_data['2018_population']\n",
    "ca_census_data['2010_percent_>25bachelors'] = ca_census_data['2010_>25bachelors'] / ca_census_data['2010_population']\n",
    "\n",
    "ca_census_data['change_percent_>25bachelors'] = (ca_census_data['2018_percent_>25bachelors'] - ca_census_data['2010_percent_>25bachelors'])\n",
    "\n",
    "ca_census_data['change_percent_>25bachelors'] = (ca_census_data['2018_percent_>25bachelors'] - ca_census_data['2010_percent_>25bachelors'])\n",
    "\n",
    "ca_census_data['percent_change_home_value'] = 100*(ca_census_data['2018_home_value'] - ca_census_data['2010_home_value']) / ca_census_data['2010_home_value']"
   ]
  },
  {
   "cell_type": "code",
   "execution_count": 90,
   "metadata": {},
   "outputs": [],
   "source": [
    "ca_census_data['gentrify_elig'] = 0\n",
    "\n",
    "income_40_percentile = ca_census_data['2010_household_income'].quantile(0.4)\n",
    "value_40_percentile = ca_census_data['2010_home_value'].quantile(0.4)\n",
    "\n",
    "ca_census_data.loc[(ca_census_data['2010_household_income'] <= income_40_percentile) & \n",
    "               (ca_census_data['2010_home_value'] <= value_40_percentile) &\n",
    "               (ca_census_data['2010_population'] >= 500), 'gentrify_elig'] = 1"
   ]
  },
  {
   "cell_type": "code",
   "execution_count": 91,
   "metadata": {},
   "outputs": [
    {
     "data": {
      "text/plain": [
       "0.04859677937915062"
      ]
     },
     "execution_count": 91,
     "metadata": {},
     "output_type": "execute_result"
    }
   ],
   "source": [
    "ca_census_data_copy = ca_census_data.copy()\n",
    "ca_census_data_copy = ca_census_data_copy[ca_census_data_copy['percent_change_home_value'] >= 0]\n",
    "ca_census_data_copy = ca_census_data_copy[ca_census_data_copy['change_percent_>25bachelors'] >= 0]\n",
    "education_66_percentile = ca_census_data_copy['change_percent_>25bachelors'].quantile(0.66)\n",
    "value_66_percentile = ca_census_data_copy['percent_change_home_value'].quantile(0.66)\n",
    "education_66_percentile"
   ]
  },
  {
   "cell_type": "code",
   "execution_count": 92,
   "metadata": {},
   "outputs": [
    {
     "data": {
      "text/plain": [
       "19.24745855564906"
      ]
     },
     "execution_count": 92,
     "metadata": {},
     "output_type": "execute_result"
    }
   ],
   "source": [
    "value_66_percentile"
   ]
  },
  {
   "cell_type": "code",
   "execution_count": 93,
   "metadata": {},
   "outputs": [
    {
     "data": {
      "text/plain": [
       "0    934\n",
       "1     18\n",
       "Name: gentrified, dtype: int64"
      ]
     },
     "execution_count": 93,
     "metadata": {},
     "output_type": "execute_result"
    }
   ],
   "source": [
    "ca_census_data['test_two'] = 0\n",
    "\n",
    "ca_census_data.loc[(ca_census_data['change_percent_>25bachelors'] >= education_66_percentile) & \n",
    "               (ca_census_data['percent_change_home_value'] >= value_66_percentile) &\n",
    "               (ca_census_data['percent_change_home_value'] > 0), 'test_two'] = 1\n",
    "\n",
    "ca_census_data['gentrified'] = 0\n",
    "\n",
    "ca_census_data.loc[(ca_census_data['gentrify_elig'] == 1) & \n",
    "               (ca_census_data['test_two'] == 1), 'gentrified'] = 1\n",
    "\n",
    "ca_census_data['gentrified'].value_counts()"
   ]
  },
  {
   "cell_type": "code",
   "execution_count": 94,
   "metadata": {},
   "outputs": [
    {
     "ename": "ValueError",
     "evalue": "Number of features of the model must match the input. Model n_features is 54 and input n_features is 50 ",
     "output_type": "error",
     "traceback": [
      "\u001b[1;31m---------------------------------------------------------------------------\u001b[0m",
      "\u001b[1;31mValueError\u001b[0m                                Traceback (most recent call last)",
      "\u001b[1;32m<ipython-input-94-8f8ee1344182>\u001b[0m in \u001b[0;36m<module>\u001b[1;34m\u001b[0m\n\u001b[0;32m      3\u001b[0m \u001b[0mca_census_data_y\u001b[0m \u001b[1;33m=\u001b[0m \u001b[0mca_census_data\u001b[0m\u001b[1;33m[\u001b[0m\u001b[1;34m'test_two'\u001b[0m\u001b[1;33m]\u001b[0m\u001b[1;33m\u001b[0m\u001b[1;33m\u001b[0m\u001b[0m\n\u001b[0;32m      4\u001b[0m \u001b[1;33m\u001b[0m\u001b[0m\n\u001b[1;32m----> 5\u001b[1;33m \u001b[0mca_predictions1\u001b[0m \u001b[1;33m=\u001b[0m \u001b[0mforest_clf\u001b[0m\u001b[1;33m.\u001b[0m\u001b[0mpredict\u001b[0m\u001b[1;33m(\u001b[0m\u001b[0mca_census_data_x\u001b[0m\u001b[1;33m)\u001b[0m\u001b[1;33m\u001b[0m\u001b[1;33m\u001b[0m\u001b[0m\n\u001b[0m\u001b[0;32m      6\u001b[0m \u001b[0mca_census_data_y_list\u001b[0m \u001b[1;33m=\u001b[0m \u001b[0mca_census_data_y\u001b[0m\u001b[1;33m.\u001b[0m\u001b[0mvalues\u001b[0m\u001b[1;33m.\u001b[0m\u001b[0mtolist\u001b[0m\u001b[1;33m(\u001b[0m\u001b[1;33m)\u001b[0m\u001b[1;33m\u001b[0m\u001b[1;33m\u001b[0m\u001b[0m\n",
      "\u001b[1;32mc:\\users\\jeevs\\appdata\\local\\programs\\python\\python37\\lib\\site-packages\\sklearn\\ensemble\\forest.py\u001b[0m in \u001b[0;36mpredict\u001b[1;34m(self, X)\u001b[0m\n\u001b[0;32m    543\u001b[0m             \u001b[0mThe\u001b[0m \u001b[0mpredicted\u001b[0m \u001b[0mclasses\u001b[0m\u001b[1;33m.\u001b[0m\u001b[1;33m\u001b[0m\u001b[1;33m\u001b[0m\u001b[0m\n\u001b[0;32m    544\u001b[0m         \"\"\"\n\u001b[1;32m--> 545\u001b[1;33m         \u001b[0mproba\u001b[0m \u001b[1;33m=\u001b[0m \u001b[0mself\u001b[0m\u001b[1;33m.\u001b[0m\u001b[0mpredict_proba\u001b[0m\u001b[1;33m(\u001b[0m\u001b[0mX\u001b[0m\u001b[1;33m)\u001b[0m\u001b[1;33m\u001b[0m\u001b[1;33m\u001b[0m\u001b[0m\n\u001b[0m\u001b[0;32m    546\u001b[0m \u001b[1;33m\u001b[0m\u001b[0m\n\u001b[0;32m    547\u001b[0m         \u001b[1;32mif\u001b[0m \u001b[0mself\u001b[0m\u001b[1;33m.\u001b[0m\u001b[0mn_outputs_\u001b[0m \u001b[1;33m==\u001b[0m \u001b[1;36m1\u001b[0m\u001b[1;33m:\u001b[0m\u001b[1;33m\u001b[0m\u001b[1;33m\u001b[0m\u001b[0m\n",
      "\u001b[1;32mc:\\users\\jeevs\\appdata\\local\\programs\\python\\python37\\lib\\site-packages\\sklearn\\ensemble\\forest.py\u001b[0m in \u001b[0;36mpredict_proba\u001b[1;34m(self, X)\u001b[0m\n\u001b[0;32m    586\u001b[0m         \u001b[0mcheck_is_fitted\u001b[0m\u001b[1;33m(\u001b[0m\u001b[0mself\u001b[0m\u001b[1;33m,\u001b[0m \u001b[1;34m'estimators_'\u001b[0m\u001b[1;33m)\u001b[0m\u001b[1;33m\u001b[0m\u001b[1;33m\u001b[0m\u001b[0m\n\u001b[0;32m    587\u001b[0m         \u001b[1;31m# Check data\u001b[0m\u001b[1;33m\u001b[0m\u001b[1;33m\u001b[0m\u001b[1;33m\u001b[0m\u001b[0m\n\u001b[1;32m--> 588\u001b[1;33m         \u001b[0mX\u001b[0m \u001b[1;33m=\u001b[0m \u001b[0mself\u001b[0m\u001b[1;33m.\u001b[0m\u001b[0m_validate_X_predict\u001b[0m\u001b[1;33m(\u001b[0m\u001b[0mX\u001b[0m\u001b[1;33m)\u001b[0m\u001b[1;33m\u001b[0m\u001b[1;33m\u001b[0m\u001b[0m\n\u001b[0m\u001b[0;32m    589\u001b[0m \u001b[1;33m\u001b[0m\u001b[0m\n\u001b[0;32m    590\u001b[0m         \u001b[1;31m# Assign chunk of trees to jobs\u001b[0m\u001b[1;33m\u001b[0m\u001b[1;33m\u001b[0m\u001b[1;33m\u001b[0m\u001b[0m\n",
      "\u001b[1;32mc:\\users\\jeevs\\appdata\\local\\programs\\python\\python37\\lib\\site-packages\\sklearn\\ensemble\\forest.py\u001b[0m in \u001b[0;36m_validate_X_predict\u001b[1;34m(self, X)\u001b[0m\n\u001b[0;32m    357\u001b[0m                                  \"call `fit` before exploiting the model.\")\n\u001b[0;32m    358\u001b[0m \u001b[1;33m\u001b[0m\u001b[0m\n\u001b[1;32m--> 359\u001b[1;33m         \u001b[1;32mreturn\u001b[0m \u001b[0mself\u001b[0m\u001b[1;33m.\u001b[0m\u001b[0mestimators_\u001b[0m\u001b[1;33m[\u001b[0m\u001b[1;36m0\u001b[0m\u001b[1;33m]\u001b[0m\u001b[1;33m.\u001b[0m\u001b[0m_validate_X_predict\u001b[0m\u001b[1;33m(\u001b[0m\u001b[0mX\u001b[0m\u001b[1;33m,\u001b[0m \u001b[0mcheck_input\u001b[0m\u001b[1;33m=\u001b[0m\u001b[1;32mTrue\u001b[0m\u001b[1;33m)\u001b[0m\u001b[1;33m\u001b[0m\u001b[1;33m\u001b[0m\u001b[0m\n\u001b[0m\u001b[0;32m    360\u001b[0m \u001b[1;33m\u001b[0m\u001b[0m\n\u001b[0;32m    361\u001b[0m     \u001b[1;33m@\u001b[0m\u001b[0mproperty\u001b[0m\u001b[1;33m\u001b[0m\u001b[1;33m\u001b[0m\u001b[0m\n",
      "\u001b[1;32mc:\\users\\jeevs\\appdata\\local\\programs\\python\\python37\\lib\\site-packages\\sklearn\\tree\\tree.py\u001b[0m in \u001b[0;36m_validate_X_predict\u001b[1;34m(self, X, check_input)\u001b[0m\n\u001b[0;32m    400\u001b[0m                              \u001b[1;34m\"match the input. Model n_features is %s and \"\u001b[0m\u001b[1;33m\u001b[0m\u001b[1;33m\u001b[0m\u001b[0m\n\u001b[0;32m    401\u001b[0m                              \u001b[1;34m\"input n_features is %s \"\u001b[0m\u001b[1;33m\u001b[0m\u001b[1;33m\u001b[0m\u001b[0m\n\u001b[1;32m--> 402\u001b[1;33m                              % (self.n_features_, n_features))\n\u001b[0m\u001b[0;32m    403\u001b[0m \u001b[1;33m\u001b[0m\u001b[0m\n\u001b[0;32m    404\u001b[0m         \u001b[1;32mreturn\u001b[0m \u001b[0mX\u001b[0m\u001b[1;33m\u001b[0m\u001b[1;33m\u001b[0m\u001b[0m\n",
      "\u001b[1;31mValueError\u001b[0m: Number of features of the model must match the input. Model n_features is 54 and input n_features is 50 "
     ]
    }
   ],
   "source": [
    "ca_census_data_x = ca_census_data.copy()\n",
    "ca_census_data_x = ca_census_data_x.drop(columns=['gentrify_elig', 'geoid', 'test_two', 'gentrified'])\n",
    "ca_census_data_y = ca_census_data['test_two']\n",
    "\n",
    "ca_predictions1 = forest_clf.predict(ca_census_data_x)\n",
    "ca_census_data_y_list = ca_census_data_y.values.tolist()"
   ]
  },
  {
   "cell_type": "code",
   "execution_count": null,
   "metadata": {},
   "outputs": [],
   "source": []
  }
 ],
 "metadata": {
  "kernelspec": {
   "display_name": "Python 3",
   "language": "python",
   "name": "python3"
  },
  "language_info": {
   "codemirror_mode": {
    "name": "ipython",
    "version": 3
   },
   "file_extension": ".py",
   "mimetype": "text/x-python",
   "name": "python",
   "nbconvert_exporter": "python",
   "pygments_lexer": "ipython3",
   "version": "3.7.4"
  }
 },
 "nbformat": 4,
 "nbformat_minor": 4
}
