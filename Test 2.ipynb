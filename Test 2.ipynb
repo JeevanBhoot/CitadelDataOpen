{
 "cells": [
  {
   "cell_type": "code",
   "execution_count": 1,
   "metadata": {},
   "outputs": [],
   "source": [
    "import os\n",
    "import joblib\n",
    "import numpy as np\n",
    "%matplotlib inline\n",
    "import matplotlib.pyplot as plt\n",
    "import sklearn\n",
    "import pandas as pd\n",
    "from sklearn.base import BaseEstimator, TransformerMixin\n",
    "from sklearn.pipeline import Pipeline\n",
    "from sklearn.impute import SimpleImputer\n",
    "from sklearn.preprocessing import OneHotEncoder\n",
    "from sklearn.ensemble import RandomForestClassifier\n",
    "from sklearn.model_selection import cross_val_score\n",
    "from sklearn.model_selection import RandomizedSearchCV\n",
    "from sklearn.pipeline import FeatureUnion\n",
    "from sklearn.preprocessing import OrdinalEncoder\n",
    "from sklearn.linear_model import LogisticRegression\n",
    "from sklearn.model_selection import GridSearchCV"
   ]
  },
  {
   "cell_type": "code",
   "execution_count": 29,
   "metadata": {},
   "outputs": [],
   "source": [
    "data_path = os.path.join('datasets', 'nyc education + jobs')\n",
    "\n",
    "def load_data(filename, path):\n",
    "    csv_path = os.path.join(path, filename)\n",
    "    return pd.read_csv(csv_path)\n",
    "\n",
    "census_2010 = load_data(\"nyc_census_2010.csv\", data_path)\n",
    "census_2018 = load_data(\"nyc_census_2018.csv\", data_path)"
   ]
  },
  {
   "cell_type": "code",
   "execution_count": 30,
   "metadata": {},
   "outputs": [],
   "source": [
    "census_2010 = census_2010.drop(columns=['year', 'NAME', 'state', 'county', 'tract', 'B08528_010E'])\n",
    "census_2018 = census_2018.drop(columns=['year', 'NAME', 'state', 'county', 'tract', 'B08528_010E'])"
   ]
  },
  {
   "cell_type": "markdown",
   "metadata": {},
   "source": [
    "13.5%\n",
    "2018 price * 0.865 = 2010 price"
   ]
  },
  {
   "cell_type": "code",
   "execution_count": 31,
   "metadata": {},
   "outputs": [],
   "source": [
    "def column_names(dataframe, year):\n",
    "    year_columns = []\n",
    "    columns = ['population', 'household_income', 'home_value', \n",
    "                        'no_nonh_caucasians', 'no_nonh_blacks/aas', 'no_amerinds_alskns', 'no_nonh_asians',\n",
    "                        'no_nonh_hawaii_pacific', 'no_nonh_others', 'no_nonh_multi', 'no_hisp_latin',\n",
    "                        'construction', 'retail', 'information', 'finance', 'edu_health_social',\n",
    "                        'arts_recreation_accom', 'public_admin', 'armed_forces', 'bachelors', 'male<25_bachelors',\n",
    "                        'female<25_bachelors']\n",
    "    year_columns.append('geoid')\n",
    "    for i in columns:\n",
    "        year_columns.append(year + '_' + i)\n",
    "    dataframe.columns = year_columns\n",
    "\n",
    "column_names(census_2010, '2010')\n",
    "column_names(census_2018, '2018')"
   ]
  },
  {
   "cell_type": "code",
   "execution_count": 34,
   "metadata": {},
   "outputs": [
    {
     "name": "stdout",
     "output_type": "stream",
     "text": [
      "<class 'pandas.core.frame.DataFrame'>\n",
      "RangeIndex: 4701 entries, 0 to 4700\n",
      "Data columns (total 23 columns):\n",
      "geoid                          4701 non-null int64\n",
      "2010_population                4701 non-null float64\n",
      "2010_household_income          4701 non-null float64\n",
      "2010_home_value                4701 non-null float64\n",
      "2010_no_nonh_caucasians        4701 non-null float64\n",
      "2010_no_nonh_blacks/aas        4701 non-null float64\n",
      "2010_no_amerinds_alskns        4701 non-null float64\n",
      "2010_no_nonh_asians            4701 non-null float64\n",
      "2010_no_nonh_hawaii_pacific    4701 non-null float64\n",
      "2010_no_nonh_others            4701 non-null float64\n",
      "2010_no_nonh_multi             4701 non-null float64\n",
      "2010_no_hisp_latin             4701 non-null float64\n",
      "2010_construction              4701 non-null float64\n",
      "2010_retail                    4701 non-null float64\n",
      "2010_information               4701 non-null float64\n",
      "2010_finance                   4701 non-null float64\n",
      "2010_edu_health_social         4701 non-null float64\n",
      "2010_arts_recreation_accom     4701 non-null float64\n",
      "2010_public_admin              4701 non-null float64\n",
      "2010_armed_forces              4701 non-null float64\n",
      "2010_bachelors                 4701 non-null float64\n",
      "2010_male<25_bachelors         4701 non-null float64\n",
      "2010_female<25_bachelors       4701 non-null float64\n",
      "dtypes: float64(22), int64(1)\n",
      "memory usage: 844.8 KB\n"
     ]
    }
   ],
   "source": [
    "census_2010.info()"
   ]
  },
  {
   "cell_type": "code",
   "execution_count": 35,
   "metadata": {},
   "outputs": [
    {
     "name": "stdout",
     "output_type": "stream",
     "text": [
      "<class 'pandas.core.frame.DataFrame'>\n",
      "RangeIndex: 4700 entries, 0 to 4699\n",
      "Data columns (total 23 columns):\n",
      "geoid                          4700 non-null int64\n",
      "2018_population                4700 non-null float64\n",
      "2018_household_income          4700 non-null float64\n",
      "2018_home_value                4700 non-null float64\n",
      "2018_no_nonh_caucasians        4700 non-null float64\n",
      "2018_no_nonh_blacks/aas        4700 non-null float64\n",
      "2018_no_amerinds_alskns        4700 non-null float64\n",
      "2018_no_nonh_asians            4700 non-null float64\n",
      "2018_no_nonh_hawaii_pacific    4700 non-null float64\n",
      "2018_no_nonh_others            4700 non-null float64\n",
      "2018_no_nonh_multi             4700 non-null float64\n",
      "2018_no_hisp_latin             4700 non-null float64\n",
      "2018_construction              4700 non-null float64\n",
      "2018_retail                    4700 non-null float64\n",
      "2018_information               4700 non-null float64\n",
      "2018_finance                   4700 non-null float64\n",
      "2018_edu_health_social         4700 non-null float64\n",
      "2018_arts_recreation_accom     4700 non-null float64\n",
      "2018_public_admin              4700 non-null float64\n",
      "2018_armed_forces              4700 non-null float64\n",
      "2018_bachelors                 4700 non-null float64\n",
      "2018_male<25_bachelors         4700 non-null float64\n",
      "2018_female<25_bachelors       4700 non-null float64\n",
      "dtypes: float64(22), int64(1)\n",
      "memory usage: 844.7 KB\n"
     ]
    }
   ],
   "source": [
    "census_2018.info()"
   ]
  },
  {
   "cell_type": "code",
   "execution_count": 36,
   "metadata": {},
   "outputs": [],
   "source": [
    "census_data = pd.merge(census_2010, census_2018, on='geoid')"
   ]
  },
  {
   "cell_type": "code",
   "execution_count": 37,
   "metadata": {},
   "outputs": [
    {
     "name": "stdout",
     "output_type": "stream",
     "text": [
      "<class 'pandas.core.frame.DataFrame'>\n",
      "Int64Index: 4700 entries, 0 to 4699\n",
      "Data columns (total 45 columns):\n",
      "geoid                          4700 non-null int64\n",
      "2010_population                4700 non-null float64\n",
      "2010_household_income          4700 non-null float64\n",
      "2010_home_value                4700 non-null float64\n",
      "2010_no_nonh_caucasians        4700 non-null float64\n",
      "2010_no_nonh_blacks/aas        4700 non-null float64\n",
      "2010_no_amerinds_alskns        4700 non-null float64\n",
      "2010_no_nonh_asians            4700 non-null float64\n",
      "2010_no_nonh_hawaii_pacific    4700 non-null float64\n",
      "2010_no_nonh_others            4700 non-null float64\n",
      "2010_no_nonh_multi             4700 non-null float64\n",
      "2010_no_hisp_latin             4700 non-null float64\n",
      "2010_construction              4700 non-null float64\n",
      "2010_retail                    4700 non-null float64\n",
      "2010_information               4700 non-null float64\n",
      "2010_finance                   4700 non-null float64\n",
      "2010_edu_health_social         4700 non-null float64\n",
      "2010_arts_recreation_accom     4700 non-null float64\n",
      "2010_public_admin              4700 non-null float64\n",
      "2010_armed_forces              4700 non-null float64\n",
      "2010_bachelors                 4700 non-null float64\n",
      "2010_male<25_bachelors         4700 non-null float64\n",
      "2010_female<25_bachelors       4700 non-null float64\n",
      "2018_population                4700 non-null float64\n",
      "2018_household_income          4700 non-null float64\n",
      "2018_home_value                4700 non-null float64\n",
      "2018_no_nonh_caucasians        4700 non-null float64\n",
      "2018_no_nonh_blacks/aas        4700 non-null float64\n",
      "2018_no_amerinds_alskns        4700 non-null float64\n",
      "2018_no_nonh_asians            4700 non-null float64\n",
      "2018_no_nonh_hawaii_pacific    4700 non-null float64\n",
      "2018_no_nonh_others            4700 non-null float64\n",
      "2018_no_nonh_multi             4700 non-null float64\n",
      "2018_no_hisp_latin             4700 non-null float64\n",
      "2018_construction              4700 non-null float64\n",
      "2018_retail                    4700 non-null float64\n",
      "2018_information               4700 non-null float64\n",
      "2018_finance                   4700 non-null float64\n",
      "2018_edu_health_social         4700 non-null float64\n",
      "2018_arts_recreation_accom     4700 non-null float64\n",
      "2018_public_admin              4700 non-null float64\n",
      "2018_armed_forces              4700 non-null float64\n",
      "2018_bachelors                 4700 non-null float64\n",
      "2018_male<25_bachelors         4700 non-null float64\n",
      "2018_female<25_bachelors       4700 non-null float64\n",
      "dtypes: float64(44), int64(1)\n",
      "memory usage: 1.6 MB\n"
     ]
    }
   ],
   "source": [
    "census_data.info()"
   ]
  },
  {
   "cell_type": "code",
   "execution_count": 38,
   "metadata": {},
   "outputs": [
    {
     "data": {
      "text/plain": [
       "0        710600.0\n",
       "1       2000001.0\n",
       "2        466600.0\n",
       "3        631000.0\n",
       "4        332800.0\n",
       "          ...    \n",
       "4695     161100.0\n",
       "4696     158100.0\n",
       "4697     125600.0\n",
       "4698     141600.0\n",
       "4699     161200.0\n",
       "Name: 2018_home_value, Length: 4700, dtype: float64"
      ]
     },
     "execution_count": 38,
     "metadata": {},
     "output_type": "execute_result"
    }
   ],
   "source": [
    "census_data['2018_home_value']"
   ]
  },
  {
   "cell_type": "code",
   "execution_count": 39,
   "metadata": {},
   "outputs": [],
   "source": [
    "census_data['2018_home_value'] = census_data['2018_home_value'] * 0.865"
   ]
  },
  {
   "cell_type": "code",
   "execution_count": 40,
   "metadata": {},
   "outputs": [
    {
     "data": {
      "text/plain": [
       "0        614669.000\n",
       "1       1730000.865\n",
       "2        403609.000\n",
       "3        545815.000\n",
       "4        287872.000\n",
       "           ...     \n",
       "4695     139351.500\n",
       "4696     136756.500\n",
       "4697     108644.000\n",
       "4698     122484.000\n",
       "4699     139438.000\n",
       "Name: 2018_home_value, Length: 4700, dtype: float64"
      ]
     },
     "execution_count": 40,
     "metadata": {},
     "output_type": "execute_result"
    }
   ],
   "source": [
    "census_data['2018_home_value']"
   ]
  },
  {
   "cell_type": "code",
   "execution_count": 41,
   "metadata": {},
   "outputs": [],
   "source": [
    "census_data['percent_change_home_value'] = 100*(census_data['2018_home_value'] - census_data['2010_home_value']) / census_data['2018_home_value']"
   ]
  },
  {
   "cell_type": "code",
   "execution_count": 42,
   "metadata": {},
   "outputs": [
    {
     "data": {
      "text/plain": [
       "0      -20.617763\n",
       "1       42.196503\n",
       "2      -31.389538\n",
       "3      -32.059397\n",
       "4      -27.591430\n",
       "          ...    \n",
       "4695   -24.648820\n",
       "4696   -56.921243\n",
       "4697   -58.683406\n",
       "4698   -47.774403\n",
       "4699   -41.281430\n",
       "Name: percent_change_home_value, Length: 4700, dtype: float64"
      ]
     },
     "execution_count": 42,
     "metadata": {},
     "output_type": "execute_result"
    }
   ],
   "source": [
    "census_data['percent_change_home_value']"
   ]
  },
  {
   "cell_type": "code",
   "execution_count": 43,
   "metadata": {},
   "outputs": [],
   "source": [
    "census_data['2018_>25bachelors'] = census_data['2018_bachelors'] - (census_data['2018_male<25_bachelors'] + census_data['2018_female<25_bachelors'])\n",
    "census_data['2010_>25bachelors'] = census_data['2010_bachelors'] - (census_data['2010_male<25_bachelors'] + census_data['2010_female<25_bachelors'])"
   ]
  },
  {
   "cell_type": "code",
   "execution_count": 45,
   "metadata": {},
   "outputs": [],
   "source": [
    "census_data['2018_percent_>25bachelors'] = census_data['2018_>25bachelors'] / census_data['2018_population']\n",
    "census_data['2010_percent_>25bachelors'] = census_data['2010_>25bachelors'] / census_data['2010_population']"
   ]
  },
  {
   "cell_type": "code",
   "execution_count": 46,
   "metadata": {},
   "outputs": [
    {
     "data": {
      "text/plain": [
       "0       0.252292\n",
       "1       0.313285\n",
       "2       0.251109\n",
       "3       0.224265\n",
       "4       0.199845\n",
       "          ...   \n",
       "4695    0.070352\n",
       "4696    0.086196\n",
       "4697    0.095834\n",
       "4698    0.108200\n",
       "4699    0.096890\n",
       "Name: 2018_percent_>25bachelors, Length: 4700, dtype: float64"
      ]
     },
     "execution_count": 46,
     "metadata": {},
     "output_type": "execute_result"
    }
   ],
   "source": [
    "census_data['2018_percent_>25bachelors']"
   ]
  },
  {
   "cell_type": "code",
   "execution_count": 47,
   "metadata": {},
   "outputs": [],
   "source": [
    "census_data['change_percent_>25bachelors'] = census_data['2018_percent_>25bachelors'] - census_data['2010_percent_>25bachelors']"
   ]
  },
  {
   "cell_type": "code",
   "execution_count": 48,
   "metadata": {},
   "outputs": [
    {
     "data": {
      "text/plain": [
       "0       0.030841\n",
       "1       0.023565\n",
       "2       0.135513\n",
       "3      -0.018079\n",
       "4       0.061081\n",
       "          ...   \n",
       "4695   -0.042749\n",
       "4696    0.045309\n",
       "4697    0.017939\n",
       "4698    0.002024\n",
       "4699    0.046221\n",
       "Name: change_percent_>25bachelors, Length: 4700, dtype: float64"
      ]
     },
     "execution_count": 48,
     "metadata": {},
     "output_type": "execute_result"
    }
   ],
   "source": [
    "census_data['change_percent_>25bachelors']"
   ]
  },
  {
   "cell_type": "code",
   "execution_count": 53,
   "metadata": {},
   "outputs": [],
   "source": [
    "education_97_percentile = census_data['change_percent_>25bachelors'].quantile(0.97)\n",
    "value_97_percentile = census_data['percent_change_home_value'].quantile(0.97)"
   ]
  },
  {
   "cell_type": "code",
   "execution_count": 54,
   "metadata": {},
   "outputs": [
    {
     "data": {
      "text/plain": [
       "0.09512611353681051"
      ]
     },
     "execution_count": 54,
     "metadata": {},
     "output_type": "execute_result"
    }
   ],
   "source": [
    "education_97_percentile"
   ]
  },
  {
   "cell_type": "code",
   "execution_count": 55,
   "metadata": {},
   "outputs": [
    {
     "data": {
      "text/plain": [
       "100.01032797688893"
      ]
     },
     "execution_count": 55,
     "metadata": {},
     "output_type": "execute_result"
    }
   ],
   "source": [
    "value_97_percentile"
   ]
  },
  {
   "cell_type": "code",
   "execution_count": 56,
   "metadata": {},
   "outputs": [],
   "source": [
    "census_data['gentrify_elig'] = 0\n",
    "\n",
    "income_40_percentile = census_data['2010_household_income'].quantile(0.4)\n",
    "value_40_percentile = census_data['2010_home_value'].quantile(0.4)\n",
    "\n",
    "census_data.loc[(census_data['2010_household_income'] <= income_40_percentile) & \n",
    "               (census_data['2010_home_value'] <= value_40_percentile) &\n",
    "               (census_data['2010_population'] >= 500), 'gentrify_elig'] = 1"
   ]
  },
  {
   "cell_type": "code",
   "execution_count": 57,
   "metadata": {},
   "outputs": [],
   "source": [
    "census_data['test_two'] = 0\n",
    "\n",
    "census_data.loc[(census_data['change_percent_>25bachelors'] >= education_97_percentile) & \n",
    "               (census_data['percent_change_home_value'] >= value_97_percentile), 'test_two'] = 1"
   ]
  },
  {
   "cell_type": "code",
   "execution_count": 58,
   "metadata": {},
   "outputs": [],
   "source": [
    "census_data['gentrified'] = 0\n",
    "\n",
    "census_data.loc[(census_data['gentrify_elig'] == 1) & \n",
    "               (census_data['test_two'] == 1), 'gentrified'] = 1"
   ]
  },
  {
   "cell_type": "code",
   "execution_count": 59,
   "metadata": {},
   "outputs": [
    {
     "data": {
      "text/plain": [
       "0       0\n",
       "1       0\n",
       "2       0\n",
       "3       0\n",
       "4       0\n",
       "       ..\n",
       "4695    0\n",
       "4696    0\n",
       "4697    0\n",
       "4698    0\n",
       "4699    0\n",
       "Name: gentrified, Length: 4700, dtype: int64"
      ]
     },
     "execution_count": 59,
     "metadata": {},
     "output_type": "execute_result"
    }
   ],
   "source": [
    "census_data['gentrified']"
   ]
  },
  {
   "cell_type": "code",
   "execution_count": 61,
   "metadata": {},
   "outputs": [
    {
     "data": {
      "text/plain": [
       "0    4699\n",
       "1       1\n",
       "Name: gentrified, dtype: int64"
      ]
     },
     "execution_count": 61,
     "metadata": {},
     "output_type": "execute_result"
    }
   ],
   "source": [
    "census_data['gentrified'].value_counts()"
   ]
  },
  {
   "cell_type": "code",
   "execution_count": 62,
   "metadata": {},
   "outputs": [
    {
     "data": {
      "text/html": [
       "<div>\n",
       "<style scoped>\n",
       "    .dataframe tbody tr th:only-of-type {\n",
       "        vertical-align: middle;\n",
       "    }\n",
       "\n",
       "    .dataframe tbody tr th {\n",
       "        vertical-align: top;\n",
       "    }\n",
       "\n",
       "    .dataframe thead th {\n",
       "        text-align: right;\n",
       "    }\n",
       "</style>\n",
       "<table border=\"1\" class=\"dataframe\">\n",
       "  <thead>\n",
       "    <tr style=\"text-align: right;\">\n",
       "      <th></th>\n",
       "      <th>geoid</th>\n",
       "      <th>2010_population</th>\n",
       "      <th>2010_household_income</th>\n",
       "      <th>2010_home_value</th>\n",
       "      <th>2010_no_nonh_caucasians</th>\n",
       "      <th>2010_no_nonh_blacks/aas</th>\n",
       "      <th>2010_no_amerinds_alskns</th>\n",
       "      <th>2010_no_nonh_asians</th>\n",
       "      <th>2010_no_nonh_hawaii_pacific</th>\n",
       "      <th>2010_no_nonh_others</th>\n",
       "      <th>...</th>\n",
       "      <th>2018_female&lt;25_bachelors</th>\n",
       "      <th>percent_change_home_value</th>\n",
       "      <th>2018_&gt;25bachelors</th>\n",
       "      <th>2010_&gt;25bachelors</th>\n",
       "      <th>2018_percent_&gt;25bachelors</th>\n",
       "      <th>2010_percent_&gt;25bachelors</th>\n",
       "      <th>change_percent_&gt;25bachelors</th>\n",
       "      <th>gentrify_elig</th>\n",
       "      <th>test_two</th>\n",
       "      <th>gentrified</th>\n",
       "    </tr>\n",
       "  </thead>\n",
       "  <tbody>\n",
       "    <tr>\n",
       "      <th>2913</th>\n",
       "      <td>36061017402</td>\n",
       "      <td>2568.0</td>\n",
       "      <td>25938.0</td>\n",
       "      <td>-666666666.0</td>\n",
       "      <td>293.0</td>\n",
       "      <td>1304.0</td>\n",
       "      <td>0.0</td>\n",
       "      <td>186.0</td>\n",
       "      <td>0.0</td>\n",
       "      <td>0.0</td>\n",
       "      <td>...</td>\n",
       "      <td>33.0</td>\n",
       "      <td>144077.752414</td>\n",
       "      <td>353.0</td>\n",
       "      <td>78.0</td>\n",
       "      <td>0.146352</td>\n",
       "      <td>0.030374</td>\n",
       "      <td>0.115978</td>\n",
       "      <td>1</td>\n",
       "      <td>1</td>\n",
       "      <td>1</td>\n",
       "    </tr>\n",
       "  </tbody>\n",
       "</table>\n",
       "<p>1 rows × 54 columns</p>\n",
       "</div>"
      ],
      "text/plain": [
       "            geoid  2010_population  2010_household_income  2010_home_value  \\\n",
       "2913  36061017402           2568.0                25938.0     -666666666.0   \n",
       "\n",
       "      2010_no_nonh_caucasians  2010_no_nonh_blacks/aas  \\\n",
       "2913                    293.0                   1304.0   \n",
       "\n",
       "      2010_no_amerinds_alskns  2010_no_nonh_asians  \\\n",
       "2913                      0.0                186.0   \n",
       "\n",
       "      2010_no_nonh_hawaii_pacific  2010_no_nonh_others  ...  \\\n",
       "2913                          0.0                  0.0  ...   \n",
       "\n",
       "      2018_female<25_bachelors  percent_change_home_value  2018_>25bachelors  \\\n",
       "2913                      33.0              144077.752414              353.0   \n",
       "\n",
       "      2010_>25bachelors  2018_percent_>25bachelors  2010_percent_>25bachelors  \\\n",
       "2913               78.0                   0.146352                   0.030374   \n",
       "\n",
       "      change_percent_>25bachelors  gentrify_elig  test_two  gentrified  \n",
       "2913                     0.115978              1         1           1  \n",
       "\n",
       "[1 rows x 54 columns]"
      ]
     },
     "execution_count": 62,
     "metadata": {},
     "output_type": "execute_result"
    }
   ],
   "source": [
    "census_data.loc[census_data['gentrified'] == 1]"
   ]
  },
  {
   "cell_type": "code",
   "execution_count": null,
   "metadata": {},
   "outputs": [],
   "source": []
  }
 ],
 "metadata": {
  "kernelspec": {
   "display_name": "Python 3",
   "language": "python",
   "name": "python3"
  },
  "language_info": {
   "codemirror_mode": {
    "name": "ipython",
    "version": 3
   },
   "file_extension": ".py",
   "mimetype": "text/x-python",
   "name": "python",
   "nbconvert_exporter": "python",
   "pygments_lexer": "ipython3",
   "version": "3.7.4"
  }
 },
 "nbformat": 4,
 "nbformat_minor": 4
}
